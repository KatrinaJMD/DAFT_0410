{
  "cells": [
    {
      "cell_type": "markdown",
      "metadata": {
        "id": "view-in-github",
        "colab_type": "text"
      },
      "source": [
        "<a href=\"https://colab.research.google.com/github/KatrinaJMD/DAFT_0410/blob/main/main.ipynb\" target=\"_parent\"><img src=\"https://colab.research.google.com/assets/colab-badge.svg\" alt=\"Open In Colab\"/></a>"
      ]
    },
    {
      "cell_type": "markdown",
      "metadata": {
        "id": "aYxjs-UHb9MH"
      },
      "source": [
        "# [Rr]eg[Ee]xp? Lab\n",
        "\n",
        "# Challenge 1- Regular Expressions\n",
        "\n",
        "Sometimes, we would like to perform more complex manipulations of our string. This is where regular expressions come in handy. In the cell below, return all characters that are upper case from the string specified below."
      ]
    },
    {
      "cell_type": "code",
      "source": [
        "# Note to reader(s)\n",
        "print(\"\"\"(README!)\\n\n",
        "NOTE TO READERS :\n",
        "I have created a function to automate the process that is repeatidly used in this challenge.\n",
        "You will however, be able to see the technique(s) used inside the function to understand how it's built, and check that it still aligns with the exercise that is being asked.\n",
        "Thank you!\\n\n",
        "KATRINA J, Author.\"\"\")"
      ],
      "metadata": {
        "colab": {
          "base_uri": "https://localhost:8080/"
        },
        "id": "busfupuG7CjM",
        "outputId": "3d43bf77-55bc-4aa2-c256-8238091543f2"
      },
      "execution_count": 1,
      "outputs": [
        {
          "output_type": "stream",
          "name": "stdout",
          "text": [
            "(README!)\n",
            "\n",
            "NOTE TO READERS :\n",
            "I have created a function to automate the process that is repeatidly used in this challenge.\n",
            "You will however, be able to see the technique(s) used inside the function to understand how it's built, and check that it still aligns with the exercise that is being asked.\n",
            "Thank you!\n",
            "\n",
            "KATRINA J, Author.\n"
          ]
        }
      ]
    },
    {
      "cell_type": "code",
      "execution_count": 2,
      "metadata": {
        "colab": {
          "base_uri": "https://localhost:8080/"
        },
        "id": "a6HqCinmb9ML",
        "outputId": "8cfa8ea4-e730-4674-c614-610b3d663c15"
      },
      "outputs": [
        {
          "output_type": "stream",
          "name": "stdout",
          "text": [
            "N° of elements found : 2\n"
          ]
        },
        {
          "output_type": "execute_result",
          "data": {
            "text/plain": [
              "['T', 'P']"
            ]
          },
          "metadata": {},
          "execution_count": 2
        }
      ],
      "source": [
        "import re\n",
        "\n",
        "poem = \"\"\"The apparition of these faces in the crowd;\n",
        "Petals on a wet, black bough.\"\"\"\n",
        "\n",
        "# Your code here:\n",
        "def regex(search, source):\n",
        "    results = re.findall(search, source)\n",
        "    print(f\"N° of elements found : {len(results)}\")\n",
        "    return results\n",
        "\n",
        "search = \"[A-Z]\"\n",
        "regex(search, poem)"
      ]
    },
    {
      "cell_type": "markdown",
      "metadata": {
        "id": "1tnGgpBub9MM"
      },
      "source": [
        "In the cell below, filter the list provided and return all elements of the list containing a number. To filter the list, use the `re.search` function. Check if the function does not return `None`. You can read more about the `re.search` function [here](https://docs.python.org/3/library/re.html)."
      ]
    },
    {
      "cell_type": "code",
      "execution_count": 3,
      "metadata": {
        "colab": {
          "base_uri": "https://localhost:8080/"
        },
        "id": "k1QHnn-ab9MN",
        "outputId": "ad0711a9-59f0-4ba2-b331-f9abecad946d"
      },
      "outputs": [
        {
          "output_type": "stream",
          "name": "stdout",
          "text": [
            "123abc\n",
            "abc123\n",
            "JohnSmith1\n",
            "ABBY4\n",
            "------------------------\n",
            "N° of elements found : 4\n"
          ]
        }
      ],
      "source": [
        "data = ['123abc', 'abc123', 'JohnSmith1', 'ABBY4', 'JANE']\n",
        "\n",
        "# Your code here:\n",
        "search = \"[0-9]\"\n",
        "count = 0\n",
        "for i in data:\n",
        "    if re.search(search, i):\n",
        "        count += 1\n",
        "        print(i)\n",
        "print(\"-\" * 24)\n",
        "print(f\"N° of elements found : {count}\")"
      ]
    },
    {
      "cell_type": "markdown",
      "metadata": {
        "id": "n5HdzwGdb9MN"
      },
      "source": [
        "# Challenge 2 - Regular Expressions II\n",
        "\n",
        "In the cell below, filter the list provided to keep only strings containing at least one digit and at least one lower case letter. As in the previous question, use the `re.search` function and check that the result is not `None`.\n",
        "\n",
        "To read more about regular expressions, check out [this link](https://developers.google.com/edu/python/regular-expressions)."
      ]
    },
    {
      "cell_type": "code",
      "execution_count": 4,
      "metadata": {
        "colab": {
          "base_uri": "https://localhost:8080/"
        },
        "id": "gYmtIVDBb9MN",
        "outputId": "1f16f321-0857-41c6-8b83-fd4d345a171e"
      },
      "outputs": [
        {
          "output_type": "stream",
          "name": "stdout",
          "text": [
            "123abc\n",
            "abc123\n",
            "JohnSmith1\n"
          ]
        }
      ],
      "source": [
        "data = ['123abc', 'abc123', 'JohnSmith1', 'ABBY4', 'JANE']\n",
        "\n",
        "# Your code here:\n",
        "search = \"[0-9{1,}][a-z]|[a-z][0-9{1,}]\"\n",
        "for i in data:\n",
        "    if re.search(search, i):\n",
        "        print(i)"
      ]
    },
    {
      "cell_type": "markdown",
      "metadata": {
        "id": "h3XIImoHb9MO"
      },
      "source": [
        "# Challenge 3 -  Advanced Regular Expressions\n",
        "\n",
        "Complete the following set of exercises to solidify your knowledge of regular expressions."
      ]
    },
    {
      "cell_type": "markdown",
      "metadata": {
        "id": "qtqVtrqmb9MO"
      },
      "source": [
        "### 1. Use a regular expression to find and extract all vowels in the following text."
      ]
    },
    {
      "cell_type": "code",
      "execution_count": 5,
      "metadata": {
        "id": "jYw8AiRib9MO"
      },
      "outputs": [],
      "source": [
        "text = \"This is going to be a sentence with a good number of vowels in it.\""
      ]
    },
    {
      "cell_type": "code",
      "execution_count": 6,
      "metadata": {
        "colab": {
          "base_uri": "https://localhost:8080/"
        },
        "id": "6SKJ_J-bb9MP",
        "outputId": "78c51f21-63e2-412c-88d2-e58d8b38caa0"
      },
      "outputs": [
        {
          "output_type": "stream",
          "name": "stdout",
          "text": [
            "N° of elements found : 21\n"
          ]
        },
        {
          "output_type": "execute_result",
          "data": {
            "text/plain": [
              "['i',\n",
              " 'i',\n",
              " 'o',\n",
              " 'i',\n",
              " 'o',\n",
              " 'e',\n",
              " 'a',\n",
              " 'e',\n",
              " 'e',\n",
              " 'e',\n",
              " 'i',\n",
              " 'a',\n",
              " 'o',\n",
              " 'o',\n",
              " 'u',\n",
              " 'e',\n",
              " 'o',\n",
              " 'o',\n",
              " 'e',\n",
              " 'i',\n",
              " 'i']"
            ]
          },
          "metadata": {},
          "execution_count": 6
        }
      ],
      "source": [
        "search = \"[aeiou]\"\n",
        "regex(search, text)"
      ]
    },
    {
      "cell_type": "markdown",
      "metadata": {
        "id": "CQZw6H6ab9MP"
      },
      "source": [
        "### 2. Use a regular expression to find and extract all occurrences and tenses (singular and plural) of the word \"puppy\" in the text below."
      ]
    },
    {
      "cell_type": "code",
      "execution_count": 7,
      "metadata": {
        "id": "AFpNjBN4b9MP"
      },
      "outputs": [],
      "source": [
        "text = \"The puppy saw all the rest of the puppies playing and wanted to join them. I saw this and wanted a puppy of my own!\""
      ]
    },
    {
      "cell_type": "code",
      "execution_count": 8,
      "metadata": {
        "colab": {
          "base_uri": "https://localhost:8080/"
        },
        "id": "RLwDGc8sb9MP",
        "outputId": "4d134bb9-21db-4d69-fe34-a9fe1a08e0db"
      },
      "outputs": [
        {
          "output_type": "stream",
          "name": "stdout",
          "text": [
            "N° of elements found : 3\n"
          ]
        },
        {
          "output_type": "execute_result",
          "data": {
            "text/plain": [
              "['puppy', 'puppies', 'puppy']"
            ]
          },
          "metadata": {},
          "execution_count": 8
        }
      ],
      "source": [
        "search = \"pupp[a-z]+\"\n",
        "regex(search, text)"
      ]
    },
    {
      "cell_type": "markdown",
      "metadata": {
        "id": "NhWvmGeWb9MP"
      },
      "source": [
        "### 3. Use a regular expression to find and extract all tenses (present and past) of the word \"run\" in the text below."
      ]
    },
    {
      "cell_type": "code",
      "execution_count": 9,
      "metadata": {
        "id": "mrGVQJonb9MQ"
      },
      "outputs": [],
      "source": [
        "text = \"I ran the relay race the only way I knew how to run it.\""
      ]
    },
    {
      "cell_type": "code",
      "execution_count": 10,
      "metadata": {
        "colab": {
          "base_uri": "https://localhost:8080/"
        },
        "id": "DlChpHWjb9MQ",
        "outputId": "815172d4-1db2-4cf0-a4c9-323d826a9ce4"
      },
      "outputs": [
        {
          "output_type": "stream",
          "name": "stdout",
          "text": [
            "N° of elements found : 2\n"
          ]
        },
        {
          "output_type": "execute_result",
          "data": {
            "text/plain": [
              "['ran', 'run']"
            ]
          },
          "metadata": {},
          "execution_count": 10
        }
      ],
      "source": [
        "search = \"r[au]n\"\n",
        "regex(search, text)"
      ]
    },
    {
      "cell_type": "markdown",
      "metadata": {
        "id": "9Lu6AE3qb9MQ"
      },
      "source": [
        "### 4. Use a regular expression to find and extract all words that begin with the letter \"r\" from the previous text."
      ]
    },
    {
      "cell_type": "code",
      "execution_count": 11,
      "metadata": {
        "colab": {
          "base_uri": "https://localhost:8080/"
        },
        "id": "qiC2uTRkb9MQ",
        "outputId": "55a8dbad-7938-4d07-a7f1-766e91007bcb"
      },
      "outputs": [
        {
          "output_type": "stream",
          "name": "stdout",
          "text": [
            "N° of elements found : 4\n"
          ]
        },
        {
          "output_type": "execute_result",
          "data": {
            "text/plain": [
              "['ran', 'relay', 'race', 'run']"
            ]
          },
          "metadata": {},
          "execution_count": 11
        }
      ],
      "source": [
        "search = \"r[a-z]+\"\n",
        "regex(search, text)"
      ]
    },
    {
      "cell_type": "markdown",
      "metadata": {
        "id": "NUHO6ue5b9MQ"
      },
      "source": [
        "### 5. Use a regular expression to find and substitute the letter \"i\" for the exclamation marks in the text below."
      ]
    },
    {
      "cell_type": "code",
      "execution_count": 12,
      "metadata": {
        "id": "cjhvTybrb9MQ"
      },
      "outputs": [],
      "source": [
        "text = \"Th!s !s a sentence w!th spec!al characters !n !t.\""
      ]
    },
    {
      "cell_type": "code",
      "execution_count": 13,
      "metadata": {
        "colab": {
          "base_uri": "https://localhost:8080/",
          "height": 36
        },
        "id": "D2FmYa_Ib9MR",
        "outputId": "29a5a73d-f14d-490b-e473-a5ba08cdbe55"
      },
      "outputs": [
        {
          "output_type": "execute_result",
          "data": {
            "text/plain": [
              "'This is a sentence with special characters in it.'"
            ],
            "application/vnd.google.colaboratory.intrinsic+json": {
              "type": "string"
            }
          },
          "metadata": {},
          "execution_count": 13
        }
      ],
      "source": [
        "re.sub(\"!\", \"i\", text)"
      ]
    },
    {
      "cell_type": "markdown",
      "metadata": {
        "id": "cun3VeD8b9MR"
      },
      "source": [
        "### 6. Use a regular expression to find and extract words longer than 4 characters in the text below."
      ]
    },
    {
      "cell_type": "code",
      "execution_count": 14,
      "metadata": {
        "id": "dVqxyAbdb9MR"
      },
      "outputs": [],
      "source": [
        "text = \"This sentence has words of varying lengths.\""
      ]
    },
    {
      "cell_type": "code",
      "execution_count": 15,
      "metadata": {
        "colab": {
          "base_uri": "https://localhost:8080/"
        },
        "id": "-fAxXzhzb9MR",
        "outputId": "246a992c-bc85-44ea-a4e8-5861a62b66f0"
      },
      "outputs": [
        {
          "output_type": "stream",
          "name": "stdout",
          "text": [
            "N° of elements found : 5\n"
          ]
        },
        {
          "output_type": "execute_result",
          "data": {
            "text/plain": [
              "['This', 'sentence', 'words', 'varying', 'lengths']"
            ]
          },
          "metadata": {},
          "execution_count": 15
        }
      ],
      "source": [
        "search = \"[a-zA-Z]{4,}\"\n",
        "regex(search, text)"
      ]
    },
    {
      "cell_type": "markdown",
      "metadata": {
        "id": "pc9xX-umb9MR"
      },
      "source": [
        "### 7. Use a regular expression to find and extract all occurrences of the letter \"b\", some letter(s), and then the letter \"t\" in the sentence below."
      ]
    },
    {
      "cell_type": "code",
      "execution_count": 16,
      "metadata": {
        "id": "NNxIJMlvb9MS"
      },
      "outputs": [],
      "source": [
        "text = \"I bet the robot couldn't beat the other bot with a bat, but instead it bit me.\""
      ]
    },
    {
      "cell_type": "code",
      "execution_count": 17,
      "metadata": {
        "colab": {
          "base_uri": "https://localhost:8080/"
        },
        "id": "WBVjdRfSb9MS",
        "outputId": "c51e8391-e63f-47e8-a3da-edf32ed6ba8c"
      },
      "outputs": [
        {
          "output_type": "stream",
          "name": "stdout",
          "text": [
            "N° of elements found : 7\n"
          ]
        },
        {
          "output_type": "execute_result",
          "data": {
            "text/plain": [
              "['bet', 'bot', 'beat', 'bot', 'bat', 'but', 'bit']"
            ]
          },
          "metadata": {},
          "execution_count": 17
        }
      ],
      "source": [
        "search = \"b[a-z]+t\"\n",
        "regex(search, text)"
      ]
    },
    {
      "cell_type": "markdown",
      "metadata": {
        "id": "Id8-GNozb9MS"
      },
      "source": [
        "### 8. Use a regular expression to find and extract all words that contain either \"ea\" or \"eo\" in them."
      ]
    },
    {
      "cell_type": "code",
      "execution_count": 18,
      "metadata": {
        "id": "d1gEk-M8b9MS"
      },
      "outputs": [],
      "source": [
        "text = \"During many of the peaks and troughs of history, the people living it didn't fully realize what was unfolding. But we all know we're navigating breathtaking history: Nearly every day could be — maybe will be — a book.\""
      ]
    },
    {
      "cell_type": "code",
      "execution_count": 19,
      "metadata": {
        "colab": {
          "base_uri": "https://localhost:8080/"
        },
        "id": "XCT09t5-b9MT",
        "outputId": "dc8bdc3e-ad6d-4bb6-ebf4-fb5539025d7a"
      },
      "outputs": [
        {
          "output_type": "stream",
          "name": "stdout",
          "text": [
            "N° of elements found : 5\n"
          ]
        },
        {
          "output_type": "execute_result",
          "data": {
            "text/plain": [
              "['peaks', 'people', 'realize', 'breathtaking', 'Nearly']"
            ]
          },
          "metadata": {},
          "execution_count": 19
        }
      ],
      "source": [
        "search = \"[a-zA-Z]{1,}[e][a][a-zA-Z]+|[a-zA-Z]{1,}[e][o][a-zA-Z]+\"\n",
        "regex(search, text)"
      ]
    },
    {
      "cell_type": "markdown",
      "metadata": {
        "id": "O1zeTns7b9MT"
      },
      "source": [
        "### 9. Use a regular expression to find and extract all the capitalized words in the text below individually."
      ]
    },
    {
      "cell_type": "code",
      "execution_count": 20,
      "metadata": {
        "id": "x-6sXv7Cb9MT"
      },
      "outputs": [],
      "source": [
        "text = \"Teddy Roosevelt and Abraham Lincoln walk into a bar.\""
      ]
    },
    {
      "cell_type": "code",
      "execution_count": 21,
      "metadata": {
        "colab": {
          "base_uri": "https://localhost:8080/"
        },
        "id": "ORt1Up4wb9MT",
        "outputId": "d5f49fdc-9fb4-4a92-f8ed-d58d95f1541d"
      },
      "outputs": [
        {
          "output_type": "stream",
          "name": "stdout",
          "text": [
            "N° of elements found : 4\n"
          ]
        },
        {
          "output_type": "execute_result",
          "data": {
            "text/plain": [
              "['Teddy', 'Roosevelt', 'Abraham', 'Lincoln']"
            ]
          },
          "metadata": {},
          "execution_count": 21
        }
      ],
      "source": [
        "search = \"[A-Z][a-z]+\"\n",
        "regex(search, text)"
      ]
    },
    {
      "cell_type": "markdown",
      "metadata": {
        "id": "FNKASwrnb9MT"
      },
      "source": [
        "### 10. Use a regular expression to find and extract all the sets of consecutive capitalized words in the text above."
      ]
    },
    {
      "cell_type": "code",
      "execution_count": 22,
      "metadata": {
        "colab": {
          "base_uri": "https://localhost:8080/"
        },
        "id": "eNI7Y2LLb9MU",
        "outputId": "6b442013-54eb-437a-d58b-50b69db5c375"
      },
      "outputs": [
        {
          "output_type": "stream",
          "name": "stdout",
          "text": [
            "N° of elements found : 2\n"
          ]
        },
        {
          "output_type": "execute_result",
          "data": {
            "text/plain": [
              "['Teddy Roosevelt', 'Abraham Lincoln']"
            ]
          },
          "metadata": {},
          "execution_count": 22
        }
      ],
      "source": [
        "search = \"[A-Z][a-z]+\\s[A-Z][a-z]+\"\n",
        "regex(search, text)"
      ]
    },
    {
      "cell_type": "markdown",
      "metadata": {
        "id": "qlILqFuBb9MU"
      },
      "source": [
        "### 11. Use a regular expression to find and extract all the quotes from the text below.\n",
        "\n",
        "*Hint: This one is a little more complex than the single quote example in the lesson because there are multiple quotes in the text.*"
      ]
    },
    {
      "cell_type": "code",
      "execution_count": 23,
      "metadata": {
        "id": "Vd3p_t1fb9MU"
      },
      "outputs": [],
      "source": [
        "text = 'Roosevelt says to Lincoln, \"I will bet you $50 I can get the bartender to give me a free drink.\" Lincoln says, \"I am in!\"'"
      ]
    },
    {
      "cell_type": "code",
      "execution_count": 24,
      "metadata": {
        "colab": {
          "base_uri": "https://localhost:8080/"
        },
        "id": "M5YgaicAb9MU",
        "outputId": "29df6bc1-62f1-420b-df4d-5d98749cee24"
      },
      "outputs": [
        {
          "output_type": "stream",
          "name": "stdout",
          "text": [
            "N° of elements found : 2\n"
          ]
        },
        {
          "output_type": "execute_result",
          "data": {
            "text/plain": [
              "['I will bet you $50 I can get the bartender to give me a free drink.',\n",
              " 'I am in!']"
            ]
          },
          "metadata": {},
          "execution_count": 24
        }
      ],
      "source": [
        "# method 1\n",
        "search = '\"(.*?)\"'\n",
        "regex(search, text)"
      ]
    },
    {
      "cell_type": "code",
      "source": [
        "# method 2\n",
        "search = '\"([^\"]*)\"'\n",
        "regex(search, text)"
      ],
      "metadata": {
        "colab": {
          "base_uri": "https://localhost:8080/"
        },
        "id": "s8t3YULf2QsV",
        "outputId": "ea8cc0fe-2f40-44cb-e804-6bb56aec8a8d"
      },
      "execution_count": 25,
      "outputs": [
        {
          "output_type": "stream",
          "name": "stdout",
          "text": [
            "N° of elements found : 2\n"
          ]
        },
        {
          "output_type": "execute_result",
          "data": {
            "text/plain": [
              "['I will bet you $50 I can get the bartender to give me a free drink.',\n",
              " 'I am in!']"
            ]
          },
          "metadata": {},
          "execution_count": 25
        }
      ]
    },
    {
      "cell_type": "markdown",
      "source": [
        "**NOTE TO SELF *for future [reference](https://bobbyhadz.com/blog/python-extract-string-from-between-quotes)*.**\n",
        "\n",
        "- The parentheses **`()`** in RegEx ***match whatever is inside*** and indicate the **start** and **end** of a **group**.\n",
        "    > The group's contents can still be retrieved after the match.\n",
        "- The square brackets **`[]`** are used to indicate ***a set of characters***.\n",
        "- The caret **`^`** at the *beginning* of the set means \"***NOT***\".\n",
        "    > In other words, match all characters that are NOT a double quote.\n",
        "\n",
        "- The asterisk **`*`** ***matches the preceding*** RegEx (*anything but double quotes*) **zero or more times.**\n",
        "\n",
        "In its entirety, RegEx **matches zero or more characters** that are **not double quotes itself** and are **inside of double quotes**."
      ],
      "metadata": {
        "id": "Jtx45VHK21Zb"
      }
    },
    {
      "cell_type": "markdown",
      "metadata": {
        "id": "dLaIRoAlb9MV"
      },
      "source": [
        "### 12. Use a regular expression to find and extract all the numbers from the text below."
      ]
    },
    {
      "cell_type": "code",
      "execution_count": 26,
      "metadata": {
        "id": "_4nw3Butb9MV"
      },
      "outputs": [],
      "source": [
        "text = \"There were 30 students in the class. Of the 30 students, 14 were male and 16 were female. Only 10 students got A's on the exam.\""
      ]
    },
    {
      "cell_type": "code",
      "execution_count": 27,
      "metadata": {
        "colab": {
          "base_uri": "https://localhost:8080/"
        },
        "id": "HLg_Xq0Hb9MV",
        "outputId": "28d6b5e4-979d-4897-d24b-4d8ebc51277a"
      },
      "outputs": [
        {
          "output_type": "stream",
          "name": "stdout",
          "text": [
            "N° of elements found : 10\n"
          ]
        },
        {
          "output_type": "execute_result",
          "data": {
            "text/plain": [
              "['3', '0', '3', '0', '1', '4', '1', '6', '1', '0']"
            ]
          },
          "metadata": {},
          "execution_count": 27
        }
      ],
      "source": [
        "# solution 1\n",
        "search = \"\\d\"\n",
        "regex(search, text)"
      ]
    },
    {
      "cell_type": "code",
      "source": [
        "# solution 2\n",
        "search = \"\\d\\d\"\n",
        "regex(search, text)"
      ],
      "metadata": {
        "colab": {
          "base_uri": "https://localhost:8080/"
        },
        "id": "Eti2EDd049P_",
        "outputId": "e68d0b7d-6a51-4ac0-e79f-2fa4a90083fb"
      },
      "execution_count": 28,
      "outputs": [
        {
          "output_type": "stream",
          "name": "stdout",
          "text": [
            "N° of elements found : 5\n"
          ]
        },
        {
          "output_type": "execute_result",
          "data": {
            "text/plain": [
              "['30', '30', '14', '16', '10']"
            ]
          },
          "metadata": {},
          "execution_count": 28
        }
      ]
    },
    {
      "cell_type": "code",
      "source": [
        "# solution 3\n",
        "search = \"\\d+\"\n",
        "regex(search, text)"
      ],
      "metadata": {
        "colab": {
          "base_uri": "https://localhost:8080/"
        },
        "id": "ZZ6pjBAn5VvZ",
        "outputId": "b3109458-30ad-4769-cab2-ee89692048f9"
      },
      "execution_count": 29,
      "outputs": [
        {
          "output_type": "stream",
          "name": "stdout",
          "text": [
            "N° of elements found : 5\n"
          ]
        },
        {
          "output_type": "execute_result",
          "data": {
            "text/plain": [
              "['30', '30', '14', '16', '10']"
            ]
          },
          "metadata": {},
          "execution_count": 29
        }
      ]
    },
    {
      "cell_type": "markdown",
      "metadata": {
        "id": "BaULe1Tdb9MV"
      },
      "source": [
        "### 13. Use a regular expression to find and extract all the social security numbers from the text below."
      ]
    },
    {
      "cell_type": "code",
      "execution_count": 30,
      "metadata": {
        "id": "n0NF3HIib9MV"
      },
      "outputs": [],
      "source": [
        "text = \"\"\"\n",
        "Henry's social security number is 876-93-2289 and his phone number is (847)789-0984.\n",
        "Darlene's social security number is 098-32-5295 and her phone number is (987)222-0901.\n",
        "\"\"\""
      ]
    },
    {
      "cell_type": "code",
      "execution_count": 31,
      "metadata": {
        "colab": {
          "base_uri": "https://localhost:8080/"
        },
        "id": "pxRsY6TVb9MW",
        "outputId": "5a4b0676-3ce1-4670-93f3-4e87ec5fd82c"
      },
      "outputs": [
        {
          "output_type": "stream",
          "name": "stdout",
          "text": [
            "N° of elements found : 2\n"
          ]
        },
        {
          "output_type": "execute_result",
          "data": {
            "text/plain": [
              "['876-93-2289', '098-32-5295']"
            ]
          },
          "metadata": {},
          "execution_count": 31
        }
      ],
      "source": [
        "search = \"[0-9]{3}-[0-9]{2}-[0-9]{4}\"\n",
        "regex(search, text)"
      ]
    },
    {
      "cell_type": "markdown",
      "metadata": {
        "id": "4JXWhP8Yb9MW"
      },
      "source": [
        "### 14. Use a regular expression to find and extract all the phone numbers from the text below."
      ]
    },
    {
      "cell_type": "code",
      "execution_count": 32,
      "metadata": {
        "colab": {
          "base_uri": "https://localhost:8080/"
        },
        "id": "maEiNpxIb9MW",
        "outputId": "8c2a0163-59c8-4ba8-c6ff-0c7598f2fff5"
      },
      "outputs": [
        {
          "output_type": "stream",
          "name": "stdout",
          "text": [
            "N° of elements found : 2\n"
          ]
        },
        {
          "output_type": "execute_result",
          "data": {
            "text/plain": [
              "['(847)789-0984', '(987)222-0901']"
            ]
          },
          "metadata": {},
          "execution_count": 32
        }
      ],
      "source": [
        "search = \"\\W[0-9]{3}\\W[0-9]{3}-[0-9]{4}\"\n",
        "regex(search, text)"
      ]
    },
    {
      "cell_type": "markdown",
      "metadata": {
        "id": "WCaGfQORb9MW"
      },
      "source": [
        "### 15. Use a regular expression to find and extract all the formatted numbers (both social security and phone) from the text below."
      ]
    },
    {
      "cell_type": "code",
      "execution_count": 33,
      "metadata": {
        "colab": {
          "base_uri": "https://localhost:8080/"
        },
        "id": "HZM6EUGlb9MW",
        "outputId": "2185249f-4104-46af-80b8-ae30c7ae1e48"
      },
      "outputs": [
        {
          "output_type": "stream",
          "name": "stdout",
          "text": [
            "N° of elements found : 4\n"
          ]
        },
        {
          "output_type": "execute_result",
          "data": {
            "text/plain": [
              "['876-93-2289 ', ' (847)789-0984', '098-32-5295 ', ' (987)222-0901']"
            ]
          },
          "metadata": {},
          "execution_count": 33
        }
      ],
      "source": [
        "search = \"[0-9]{3}-[0-9]{2}-[0-9]{4} | \\W[0-9]{3}\\W[0-9]{3}-[0-9]{4}\"\n",
        "regex(search, text)"
      ]
    }
  ],
  "metadata": {
    "kernelspec": {
      "display_name": "Python 3",
      "language": "python",
      "name": "python3"
    },
    "language_info": {
      "codemirror_mode": {
        "name": "ipython",
        "version": 3
      },
      "file_extension": ".py",
      "mimetype": "text/x-python",
      "name": "python",
      "nbconvert_exporter": "python",
      "pygments_lexer": "ipython3",
      "version": "3.7.3"
    },
    "varInspector": {
      "cols": {
        "lenName": 16,
        "lenType": 16,
        "lenVar": 40
      },
      "kernels_config": {
        "python": {
          "delete_cmd_postfix": "",
          "delete_cmd_prefix": "del ",
          "library": "var_list.py",
          "varRefreshCmd": "print(var_dic_list())"
        },
        "r": {
          "delete_cmd_postfix": ") ",
          "delete_cmd_prefix": "rm(",
          "library": "var_list.r",
          "varRefreshCmd": "cat(var_dic_list()) "
        }
      },
      "types_to_exclude": [
        "module",
        "function",
        "builtin_function_or_method",
        "instance",
        "_Feature"
      ],
      "window_display": false
    },
    "colab": {
      "provenance": [],
      "include_colab_link": true
    }
  },
  "nbformat": 4,
  "nbformat_minor": 0
}