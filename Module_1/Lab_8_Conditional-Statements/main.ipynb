{
  "cells": [
    {
      "cell_type": "markdown",
      "metadata": {
        "id": "view-in-github",
        "colab_type": "text"
      },
      "source": [
        "<a href=\"https://colab.research.google.com/github/KatrinaJMD/DAFT_0410/blob/main/main.ipynb\" target=\"_parent\"><img src=\"https://colab.research.google.com/assets/colab-badge.svg\" alt=\"Open In Colab\"/></a>"
      ]
    },
    {
      "cell_type": "markdown",
      "metadata": {
        "id": "pIZ8Mfc9Bdxr"
      },
      "source": [
        "# Conditional Statements\n",
        "\n",
        "Complete the following set of exercises to solidify your knowledge for Conditional Statements."
      ]
    },
    {
      "cell_type": "markdown",
      "metadata": {
        "id": "Q4ji0qUmBdxw"
      },
      "source": [
        "#### 1. Write a Python program to find those numbers which are divisible by 3 and are between 1000 and 2500 (both included)."
      ]
    },
    {
      "cell_type": "code",
      "execution_count": 14,
      "metadata": {
        "colab": {
          "base_uri": "https://localhost:8080/"
        },
        "id": "nr8Zbxh_Bdxx",
        "outputId": "3fb263b1-e754-41d4-e1e6-f3f8e02122f8"
      },
      "outputs": [
        {
          "output_type": "stream",
          "name": "stdout",
          "text": [
            "N° of values between 1000 and 2500 that are divisible by 3 = 500\n",
            "-------------------------------------------------------------------------\n",
            "[1002, 1005, 1008, 1011, 1014, 1017, 1020, 1023, 1026, 1029, 1032, 1035, 1038, 1041, 1044, 1047, 1050, 1053, 1056, 1059, 1062, 1065, 1068, 1071, 1074, 1077, 1080, 1083, 1086, 1089, 1092, 1095, 1098, 1101, 1104, 1107, 1110, 1113, 1116, 1119, 1122, 1125, 1128, 1131, 1134, 1137, 1140, 1143, 1146, 1149, 1152, 1155, 1158, 1161, 1164, 1167, 1170, 1173, 1176, 1179, 1182, 1185, 1188, 1191, 1194, 1197, 1200, 1203, 1206, 1209, 1212, 1215, 1218, 1221, 1224, 1227, 1230, 1233, 1236, 1239, 1242, 1245, 1248, 1251, 1254, 1257, 1260, 1263, 1266, 1269, 1272, 1275, 1278, 1281, 1284, 1287, 1290, 1293, 1296, 1299, 1302, 1305, 1308, 1311, 1314, 1317, 1320, 1323, 1326, 1329, 1332, 1335, 1338, 1341, 1344, 1347, 1350, 1353, 1356, 1359, 1362, 1365, 1368, 1371, 1374, 1377, 1380, 1383, 1386, 1389, 1392, 1395, 1398, 1401, 1404, 1407, 1410, 1413, 1416, 1419, 1422, 1425, 1428, 1431, 1434, 1437, 1440, 1443, 1446, 1449, 1452, 1455, 1458, 1461, 1464, 1467, 1470, 1473, 1476, 1479, 1482, 1485, 1488, 1491, 1494, 1497, 1500, 1503, 1506, 1509, 1512, 1515, 1518, 1521, 1524, 1527, 1530, 1533, 1536, 1539, 1542, 1545, 1548, 1551, 1554, 1557, 1560, 1563, 1566, 1569, 1572, 1575, 1578, 1581, 1584, 1587, 1590, 1593, 1596, 1599, 1602, 1605, 1608, 1611, 1614, 1617, 1620, 1623, 1626, 1629, 1632, 1635, 1638, 1641, 1644, 1647, 1650, 1653, 1656, 1659, 1662, 1665, 1668, 1671, 1674, 1677, 1680, 1683, 1686, 1689, 1692, 1695, 1698, 1701, 1704, 1707, 1710, 1713, 1716, 1719, 1722, 1725, 1728, 1731, 1734, 1737, 1740, 1743, 1746, 1749, 1752, 1755, 1758, 1761, 1764, 1767, 1770, 1773, 1776, 1779, 1782, 1785, 1788, 1791, 1794, 1797, 1800, 1803, 1806, 1809, 1812, 1815, 1818, 1821, 1824, 1827, 1830, 1833, 1836, 1839, 1842, 1845, 1848, 1851, 1854, 1857, 1860, 1863, 1866, 1869, 1872, 1875, 1878, 1881, 1884, 1887, 1890, 1893, 1896, 1899, 1902, 1905, 1908, 1911, 1914, 1917, 1920, 1923, 1926, 1929, 1932, 1935, 1938, 1941, 1944, 1947, 1950, 1953, 1956, 1959, 1962, 1965, 1968, 1971, 1974, 1977, 1980, 1983, 1986, 1989, 1992, 1995, 1998, 2001, 2004, 2007, 2010, 2013, 2016, 2019, 2022, 2025, 2028, 2031, 2034, 2037, 2040, 2043, 2046, 2049, 2052, 2055, 2058, 2061, 2064, 2067, 2070, 2073, 2076, 2079, 2082, 2085, 2088, 2091, 2094, 2097, 2100, 2103, 2106, 2109, 2112, 2115, 2118, 2121, 2124, 2127, 2130, 2133, 2136, 2139, 2142, 2145, 2148, 2151, 2154, 2157, 2160, 2163, 2166, 2169, 2172, 2175, 2178, 2181, 2184, 2187, 2190, 2193, 2196, 2199, 2202, 2205, 2208, 2211, 2214, 2217, 2220, 2223, 2226, 2229, 2232, 2235, 2238, 2241, 2244, 2247, 2250, 2253, 2256, 2259, 2262, 2265, 2268, 2271, 2274, 2277, 2280, 2283, 2286, 2289, 2292, 2295, 2298, 2301, 2304, 2307, 2310, 2313, 2316, 2319, 2322, 2325, 2328, 2331, 2334, 2337, 2340, 2343, 2346, 2349, 2352, 2355, 2358, 2361, 2364, 2367, 2370, 2373, 2376, 2379, 2382, 2385, 2388, 2391, 2394, 2397, 2400, 2403, 2406, 2409, 2412, 2415, 2418, 2421, 2424, 2427, 2430, 2433, 2436, 2439, 2442, 2445, 2448, 2451, 2454, 2457, 2460, 2463, 2466, 2469, 2472, 2475, 2478, 2481, 2484, 2487, 2490, 2493, 2496, 2499]\n"
          ]
        }
      ],
      "source": [
        "div_3 = []\n",
        "\n",
        "for i in range(1000,2501):\n",
        "    if i % 3 == 0:\n",
        "        div_3.append(i)\n",
        "\n",
        "print(f\"N° of values between 1000 and 2500 that are divisible by 3 = {len(div_3)}\")\n",
        "print(\"-\" * 73)\n",
        "print(div_3)"
      ]
    },
    {
      "cell_type": "markdown",
      "metadata": {
        "id": "5kWMnfuOBdxy"
      },
      "source": [
        "#### 2. Write a Python program to convert month name to a number of days in this months."
      ]
    },
    {
      "cell_type": "code",
      "source": [
        "# method 1\n",
        "def nb_days():\n",
        "\n",
        "    print(\"\"\"\n",
        "    LIST OF MONTHS :\n",
        "    ---------------------------\n",
        "    January, February, March,\n",
        "    April, May, June,\n",
        "    July, August, September,\n",
        "    October, November, December\\n\"\"\")\n",
        "\n",
        "    while True:\n",
        "        try:\n",
        "            month_name = str(input(\"Choose a month: \")).capitalize()\n",
        "            if month_name == \"February\":\n",
        "                print(f\"No. of days in {month_name}: 28 or 29\")\n",
        "            elif month_name in [\"April\", \"June\", \"September\", \"November\"]:\n",
        "                print(f\"No. of days in {month_name}: 30\")\n",
        "            elif month_name in [\"January\", \"March\", \"May\", \"July\", \"August\", \"October\", \"December\"]:\n",
        "                print(f\"No. of days in {month_name}: 31\")\n",
        "            else:\n",
        "                print(\"Invalid input. Please try again.\")\n",
        "                continue\n",
        "\n",
        "        except ValueError:\n",
        "            print(\"Invalid input. Please try again.\")\n",
        "            continue\n",
        "\n",
        "        print(\"\\n\")\n",
        "        choice = input(\"Do you want to check another month (y/n): \")\n",
        "        while choice.lower() not in [\"y\",\"n\"]:\n",
        "            choice = input(\"Please choose yes (y) or no (n): \")\n",
        "        if choice.lower() == \"n\":\n",
        "            print(\"Okay. Have a great day!\")\n",
        "            break\n",
        "        print(\"\\n\")\n",
        "\n",
        "nb_days()"
      ],
      "metadata": {
        "colab": {
          "base_uri": "https://localhost:8080/"
        },
        "id": "KoevBSXMj68w",
        "outputId": "7380f1f4-38ea-4a23-fc49-fe6518691281"
      },
      "execution_count": 18,
      "outputs": [
        {
          "output_type": "stream",
          "name": "stdout",
          "text": [
            "\n",
            "    LIST OF MONTHS :\n",
            "    ---------------------------\n",
            "    January, February, March,\n",
            "    April, May, June,\n",
            "    July, August, September,\n",
            "    October, November, December\n",
            "\n",
            "Choose a month: JANUARY\n",
            "No. of days in January: 31\n",
            "\n",
            "\n",
            "Do you want to check another month (y/n): YES\n",
            "Please choose yes (y) or no (n): Y\n",
            "\n",
            "\n",
            "Choose a month: FEBRUARY\n",
            "No. of days in February: 28 or 29\n",
            "\n",
            "\n",
            "Do you want to check another month (y/n): N\n",
            "Okay. Have a great day!\n"
          ]
        }
      ]
    },
    {
      "cell_type": "code",
      "source": [
        "# method 2\n",
        "def nb_days_():\n",
        "\n",
        "    month_days = {\"January\": 31, \"February\": 28,\n",
        "          \"March\": 31, \"April\": 30,\n",
        "          \"May\": 31, \"June\": 30,\n",
        "          \"July\": 31, \"August\": 31,\n",
        "          \"September\": 30, \"October\": 31,\n",
        "          \"November\": 30, \"December\": 31,}\n",
        "          \n",
        "    print(\"\"\"\n",
        "    LIST OF MONTHS :\n",
        "    ---------------------------\n",
        "    January, February, March,\n",
        "    April, May, June,\n",
        "    July, August, September,\n",
        "    October, November, December\\n\"\"\")\n",
        "    \n",
        "\n",
        "    while True:\n",
        "        try:\n",
        "            month_name = str(input(\"Choose a month: \")).capitalize()\n",
        "            if month_name in month_days:\n",
        "                days = month_days.get(month_name)\n",
        "                print(f\"There are {days} days in {month_name}\")\n",
        "            else:\n",
        "                print(\"Invalid input. Please try again.\")\n",
        "                continue\n",
        "\n",
        "        except ValueError:\n",
        "            print(\"Invalid input. Please try again.\")\n",
        "            continue\n",
        "\n",
        "        print(\"\\n\")\n",
        "        choice = input(\"Do you want to check another month (y/n): \")\n",
        "        while choice.lower() not in [\"y\",\"n\"]:\n",
        "            choice = input(\"Please choose yes (y) or no (n): \")\n",
        "        if choice.lower() == \"n\":\n",
        "            print(\"Okay. Have a great day!\")\n",
        "            break\n",
        "        print(\"\\n\")\n",
        "        \n",
        "nb_days_()"
      ],
      "metadata": {
        "colab": {
          "base_uri": "https://localhost:8080/"
        },
        "id": "EucAD900gg36",
        "outputId": "44cdaef4-a2ec-4729-e219-aa48feadee0b"
      },
      "execution_count": 19,
      "outputs": [
        {
          "output_type": "stream",
          "name": "stdout",
          "text": [
            "\n",
            "    LIST OF MONTHS :\n",
            "    ---------------------------\n",
            "    January, February, March,\n",
            "    April, May, June,\n",
            "    July, August, September,\n",
            "    October, November, December\n",
            "\n",
            "Choose a month: JANUARY\n",
            "There are 31 days in January\n",
            "\n",
            "\n",
            "Do you want to check another month (y/n): YES\n",
            "Please choose yes (y) or no (n): Y\n",
            "\n",
            "\n",
            "Choose a month: FEBRUARY\n",
            "There are 28 days in February\n",
            "\n",
            "\n",
            "Do you want to check another month (y/n): N\n",
            "Okay. Have a great day!\n"
          ]
        }
      ]
    },
    {
      "cell_type": "markdown",
      "metadata": {
        "id": "9HJrzIw5Bdxy"
      },
      "source": [
        "#### 3. Write a Python program that accepts a word from the user and reverse it."
      ]
    },
    {
      "cell_type": "code",
      "execution_count": 20,
      "metadata": {
        "colab": {
          "base_uri": "https://localhost:8080/",
          "height": 54
        },
        "id": "YNkrfymPBdxz",
        "outputId": "45206fbd-52c3-4672-c700-c5a4dd24a91f"
      },
      "outputs": [
        {
          "name": "stdout",
          "output_type": "stream",
          "text": [
            "Write something: A 3-day weekend should seriously be a thing\n"
          ]
        },
        {
          "output_type": "execute_result",
          "data": {
            "text/plain": [
              "'gniht a eb ylsuoires dluohs dnekeew yad-3 a'"
            ],
            "application/vnd.google.colaboratory.intrinsic+json": {
              "type": "string"
            }
          },
          "metadata": {},
          "execution_count": 20
        }
      ],
      "source": [
        "user_text = str(input(\"Write something: \")).lower()\n",
        "user_text[::-1]"
      ]
    },
    {
      "cell_type": "markdown",
      "metadata": {
        "id": "Hp3vU7N1Bdxz"
      },
      "source": [
        "#### 4. Write a Python program which iterates the integers from 1 to 50. For multiples of three print \"Iron\" instead of the number and for the multiples of five print \"Hack\". For numbers which are multiples of both three and five print \"Ironhack\"."
      ]
    },
    {
      "cell_type": "code",
      "execution_count": 21,
      "metadata": {
        "colab": {
          "base_uri": "https://localhost:8080/"
        },
        "id": "cFs_jgnDBdxz",
        "outputId": "027005e7-4435-4a3b-94d2-a1f5ccc566eb"
      },
      "outputs": [
        {
          "output_type": "stream",
          "name": "stdout",
          "text": [
            "Hack = 3\n",
            "Iron = 5\n",
            "Hack = 6\n",
            "Hack = 9\n",
            "Iron = 10\n",
            "Hack = 12\n",
            "Ironhack = 15\n",
            "Hack = 18\n",
            "Iron = 20\n",
            "Hack = 21\n",
            "Hack = 24\n",
            "Iron = 25\n",
            "Hack = 27\n",
            "Ironhack = 30\n",
            "Hack = 33\n",
            "Iron = 35\n",
            "Hack = 36\n",
            "Hack = 39\n",
            "Iron = 40\n",
            "Hack = 42\n",
            "Ironhack = 45\n",
            "Hack = 48\n",
            "Iron = 50\n"
          ]
        }
      ],
      "source": [
        "for i in range(1,51):\n",
        "    if (i % 3 == 0) and (i % 5 == 0):\n",
        "        print(f\"Ironhack = {i}\")\n",
        "    elif i % 3 == 0:\n",
        "        print(f\"Hack = {i}\")\n",
        "    elif i % 5 == 0:\n",
        "        print(f\"Iron = {i}\")"
      ]
    },
    {
      "cell_type": "code",
      "source": [
        "for i in range(1,51):\n",
        "    if i % 3 == 0:\n",
        "        print(f\"Hack = {i}\")\n",
        "    elif i % 5 == 0:\n",
        "        print(f\"Iron = {i}\")"
      ],
      "metadata": {
        "colab": {
          "base_uri": "https://localhost:8080/"
        },
        "id": "B96GUlqRJyek",
        "outputId": "14a42ea8-3ffb-4db8-e6f4-68c1a1ae17b1"
      },
      "execution_count": 22,
      "outputs": [
        {
          "output_type": "stream",
          "name": "stdout",
          "text": [
            "Hack = 3\n",
            "Iron = 5\n",
            "Hack = 6\n",
            "Hack = 9\n",
            "Iron = 10\n",
            "Hack = 12\n",
            "Hack = 15\n",
            "Hack = 18\n",
            "Iron = 20\n",
            "Hack = 21\n",
            "Hack = 24\n",
            "Iron = 25\n",
            "Hack = 27\n",
            "Hack = 30\n",
            "Hack = 33\n",
            "Iron = 35\n",
            "Hack = 36\n",
            "Hack = 39\n",
            "Iron = 40\n",
            "Hack = 42\n",
            "Hack = 45\n",
            "Hack = 48\n",
            "Iron = 50\n"
          ]
        }
      ]
    },
    {
      "cell_type": "code",
      "source": [
        "for i in range(1,51):\n",
        "    if (i % 3 == 0) and (i % 5 == 0):\n",
        "        print(f\"Ironhack = {i}\")"
      ],
      "metadata": {
        "colab": {
          "base_uri": "https://localhost:8080/"
        },
        "id": "F-hxCKGHCtVL",
        "outputId": "6b2f8cda-8f60-4ca8-b47c-c801ba58d081"
      },
      "execution_count": 23,
      "outputs": [
        {
          "output_type": "stream",
          "name": "stdout",
          "text": [
            "Ironhack = 15\n",
            "Ironhack = 30\n",
            "Ironhack = 45\n"
          ]
        }
      ]
    },
    {
      "cell_type": "markdown",
      "metadata": {
        "id": "cMD3VsXcBdx0"
      },
      "source": [
        "#### 5.  A leap year is a calendar year containing an additional day added to keep the calendar year synchronized with the astronomical or seasonal year. In the Gregorian calendar, each leap year has 366 days instead of 365, by extending February to 29 days rather than the common 28. These extra days occur in years which are multiples of four (with the exception of centennial years not divisible by 400). Write a Python program, which asks for a year and calculates, if this year is a leap year or not."
      ]
    },
    {
      "cell_type": "code",
      "execution_count": 24,
      "metadata": {
        "id": "w9p_Kv81Bdx0",
        "colab": {
          "base_uri": "https://localhost:8080/"
        },
        "outputId": "550be376-f2c5-4628-ffac-f0e5f1781f09"
      },
      "outputs": [
        {
          "output_type": "stream",
          "name": "stdout",
          "text": [
            "Year: 1885\n",
            "1885 is not a leap year. Yay!\n",
            "\n",
            "\n",
            "Do you want to check another year (y/n): YES\n",
            "Please choose yes (y) or no (n): Y\n",
            "\n",
            "\n",
            "Year: 2024\n",
            "2024 is a leap year. Sorry for the extra work day..\n",
            "\n",
            "\n",
            "Do you want to check another year (y/n): N\n",
            "Okay. Have a great day!\n"
          ]
        }
      ],
      "source": [
        "def leap_years():\n",
        "\n",
        "    while True:\n",
        "        try:\n",
        "            year = int(input(\"Year: \"))\n",
        "            if year % 4 == 0:\n",
        "                print(f\"{year} is a leap year. Sorry for the extra work day..\")\n",
        "            else:\n",
        "                print(f\"{year} is not a leap year. Yay!\")\n",
        "\n",
        "        except ValueError:\n",
        "            print(\"Invalid input. Please try again.\")\n",
        "            continue\n",
        "\n",
        "        print(\"\\n\")\n",
        "        choice = input(\"Do you want to check another year (y/n): \")\n",
        "        while choice.lower() not in [\"y\",\"n\"]:\n",
        "            choice = input(\"Please choose yes (y) or no (n): \")\n",
        "        if choice.lower() == \"n\":\n",
        "            print(\"Okay. Have a great day!\")\n",
        "            break\n",
        "        print(\"\\n\")\n",
        "        \n",
        "leap_years()"
      ]
    },
    {
      "cell_type": "markdown",
      "metadata": {
        "id": "aW0dH3_hBdx1"
      },
      "source": [
        "#### 6. Body mass index (BMI) is a value derived from the mass (weight) and height of a person. The BMI is defined as the body mass divided by the square of the body height, and is universally expressed in units of kg/m2, resulting from mass in kilograms and height in metres. Write a program, which asks for the length and the weight of a person and returns an evaluation string according to the following table:\n",
        "![image.png](https://lh3.googleusercontent.com/WIZ7bIJU-OO-S0znz2mjUIVO898U6QhRMotpIIJUKzGhvEW13njAveRonnK_WNdw_qdx8WK4T10eEotjgzQbBz-BrhCUNlJDK_f2v38u)"
      ]
    },
    {
      "cell_type": "code",
      "source": [
        "def bmi():\n",
        "\n",
        "    while True:\n",
        "        try:    \n",
        "            user_height = float(input(\"Enter your height (in m): \"))\n",
        "            user_weight = float(input(\"Enter your weight (in kg): \"))\n",
        "            print(\"\\n\")\n",
        "\n",
        "            user_bmi = round((user_weight / (user_height**2)), 2)\n",
        "            \n",
        "\n",
        "            if user_bmi <= 15:\n",
        "                print(f\"BMI = {user_bmi}\n",
        "                 Very severely underweight\")\n",
        "            elif user_bmi <= 16:\n",
        "                print(f\"BMI = {user_bmi}\n",
        "                 Severely underweight\")\n",
        "            elif user_bmi <= 18.5:\n",
        "                print(f\"BMI = {user_bmi}\n",
        "                 Underweight\")\n",
        "            elif user_bmi <= 25:\n",
        "                print(f\"BMI = {user_bmi}\n",
        "                 Normal (healthy weight)\")\n",
        "            elif user_bmi <= 30:\n",
        "                print(f\"BMI = {user_bmi}\n",
        "                 Overweight\")\n",
        "            elif user_bmi <= 35:\n",
        "                print(f\"BMI = {user_bmi}\n",
        "                 Obese Class I (Moderately obese)\")\n",
        "            elif user_bmi <= 40:\n",
        "                print(f\"BMI = {user_bmi}\n",
        "                 Obese Class II (Severely obese)\")\n",
        "            elif user_bmi <= 45:\n",
        "                print(f\"BMI = {user_bmi}\n",
        "                 Obese Class II (Very severely obese)\")\n",
        "            elif user_bmi <= 50:\n",
        "                print(f\"BMI = {user_bmi}\n",
        "                 Obese Class IV (Morbidly obese)\")\n",
        "            elif user_bmi <= 60:\n",
        "                print(f\"BMI = {user_bmi}\n",
        "                 Obese Class V (Super obese)\")\n",
        "            elif user_bmi < 60:\n",
        "                print(f\"BMI = {user_bmi}\n",
        "                 Obese Class VI (Hyper obese)\")\n",
        "        \n",
        "        except ValueError:\n",
        "            print(\"Invalid input. Please try again.\")\n",
        "            continue\n",
        "\n",
        "        print(\"\\n\")\n",
        "        choice = input(\"Do you want to check again (y/n): \")\n",
        "        while choice.lower() not in [\"y\",\"n\"]:\n",
        "            choice = input(\"Please choose yes (y) or no (n): \")\n",
        "        if choice.lower() == \"n\":\n",
        "            print(\"Okay. Have a great day!\")\n",
        "            break\n",
        "        print(\"\\n\")\n",
        "\n",
        "bmi()"
      ],
      "metadata": {
        "colab": {
          "base_uri": "https://localhost:8080/"
        },
        "id": "gzi_VuawJ68g",
        "outputId": "5516f36f-db8c-4921-b2b3-15ad2d0bb44e"
      },
      "execution_count": 32,
      "outputs": [
        {
          "output_type": "stream",
          "name": "stdout",
          "text": [
            "Enter your height (in m): 1.56\n",
            "Enter your weight (in kg): 53.70\n",
            "\n",
            "\n",
            "BMI = 22.07 Normal (healthy weight)\n",
            "\n",
            "\n",
            "Do you want to check again (y/n): YES\n",
            "Please choose yes (y) or no (n): Y\n",
            "\n",
            "\n",
            "Enter your height (in m): 1.51\n",
            "Enter your weight (in kg): 58\n",
            "\n",
            "\n",
            "BMI = 25.44 Overweight\n",
            "\n",
            "\n",
            "Do you want to check again (y/n): N\n",
            "Okay. Have a great day!\n"
          ]
        }
      ]
    },
    {
      "cell_type": "markdown",
      "metadata": {
        "id": "x6kCd4G9Bdx1"
      },
      "source": [
        "### Bonus"
      ]
    },
    {
      "cell_type": "markdown",
      "metadata": {
        "id": "ksyk5zaFBdx2"
      },
      "source": [
        "https://realpython.com/python-conditional-statements/"
      ]
    }
  ],
  "metadata": {
    "kernelspec": {
      "display_name": "Python 3",
      "language": "python",
      "name": "python3"
    },
    "language_info": {
      "codemirror_mode": {
        "name": "ipython",
        "version": 3
      },
      "file_extension": ".py",
      "mimetype": "text/x-python",
      "name": "python",
      "nbconvert_exporter": "python",
      "pygments_lexer": "ipython3",
      "version": "3.7.4"
    },
    "colab": {
      "provenance": [],
      "include_colab_link": true
    }
  },
  "nbformat": 4,
  "nbformat_minor": 0
}