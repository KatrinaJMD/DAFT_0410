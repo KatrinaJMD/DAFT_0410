{
  "cells": [
    {
      "cell_type": "markdown",
      "metadata": {
        "id": "4W7HXnL4nZMn"
      },
      "source": [
        "# Before your start:\n",
        "- Read the README.md file\n",
        "- Use the resources in the README.md file\n",
        "- Happy learning!"
      ]
    },
    {
      "cell_type": "markdown",
      "metadata": {
        "id": "WyugM3i1nZMp"
      },
      "source": [
        "# Challenge - Passing a Lambda Expression to a Function\n",
        "\n",
        "In the next excercise you will create a function that returns a lambda expression. Create a function called `modify_list`. The function takes two arguments, a list and a lambda expression. The function iterates through the list and applies the lambda expression to every element in the list."
      ]
    },
    {
      "cell_type": "code",
      "execution_count": 1,
      "metadata": {
        "colab": {
          "base_uri": "https://localhost:8080/",
          "height": 36
        },
        "id": "higepTDanZMp",
        "outputId": "63a5cf66-66e4-4191-b104-6091e03f5b8f"
      },
      "outputs": [
        {
          "output_type": "execute_result",
          "data": {
            "text/plain": [
              "'Data Analyst Are Rockstars!'"
            ],
            "application/vnd.google.colaboratory.intrinsic+json": {
              "type": "string"
            }
          },
          "metadata": {},
          "execution_count": 1
        }
      ],
      "source": [
        "def modify_list(lst, lmbda):\n",
        "    \"\"\"\n",
        "    Input: list and lambda expression\n",
        "    Output: the transformed list\n",
        "    \"\"\"\n",
        "    \n",
        "    # your code here\n",
        "    return [lmbda(element) for element in lst]\n",
        "\n",
        "modifier = lambda do: do.strip().capitalize()\n",
        "someList = [\"daTA\", \"analyst    \", \"ARE\", \" rockStArS!\"]\n",
        "\n",
        "\" \".join(modify_list(someList, modifier))"
      ]
    },
    {
      "cell_type": "markdown",
      "metadata": {
        "id": "ENlOQeacnZMq"
      },
      "source": [
        "#### Now we will define a lambda expression that will transform the elements of the list. \n",
        "\n",
        "In the cell below, create a lambda expression that converts Celsius to Kelvin. Recall that 0°C + 273.15 = 273.15K"
      ]
    },
    {
      "cell_type": "code",
      "execution_count": 2,
      "metadata": {
        "colab": {
          "base_uri": "https://localhost:8080/"
        },
        "id": "yfJvaGpunZMr",
        "outputId": "c37dbd8b-c56f-4558-bc6c-dbaa80223958"
      },
      "outputs": [
        {
          "output_type": "stream",
          "name": "stdout",
          "text": [
            "31°C is 304.15K\n",
            "11°C is 284.15K\n",
            "34°C is 307.15K\n",
            "38°C is 311.15K\n",
            "5°C is 278.15K\n",
            "20°C is 293.15K\n",
            "35°C is 308.15K\n",
            "26°C is 299.15K\n",
            "22°C is 295.15K\n",
            "12°C is 285.15K\n"
          ]
        }
      ],
      "source": [
        "# your code here\n",
        "import random\n",
        "\n",
        "def convertCelsius(fromCelsius):\n",
        "    convert = lambda x: x + 273.15\n",
        "    toKelvin = [convert(x) for x in fromCelsius]\n",
        "    for celsius, kelvin in zip(fromCelsius, toKelvin):\n",
        "        print(f\"{celsius}°C is {round(kelvin, 2)}K\")\n",
        "\n",
        "convertCelsius([random.randint(0,40) for i in range(10)])"
      ]
    },
    {
      "cell_type": "markdown",
      "metadata": {
        "id": "jYQqyaImnZMr"
      },
      "source": [
        "Finally, convert the list of temperatures below from Celsius to Kelvin."
      ]
    },
    {
      "cell_type": "code",
      "execution_count": 3,
      "metadata": {
        "colab": {
          "base_uri": "https://localhost:8080/"
        },
        "id": "iAvQ4nQxnZMr",
        "outputId": "8f59a44a-2c70-487a-9f3e-6ddfa55ae3f5"
      },
      "outputs": [
        {
          "output_type": "stream",
          "name": "stdout",
          "text": [
            "12°C is 285.15K\n",
            "23°C is 296.15K\n",
            "38°C is 311.15K\n",
            "-55°C is 218.15K\n",
            "24°C is 297.15K\n"
          ]
        }
      ],
      "source": [
        "temps = [12, 23, 38, -55, 24]\n",
        "\n",
        "# your code here\n",
        "convertCelsius(temps)"
      ]
    },
    {
      "cell_type": "markdown",
      "metadata": {
        "id": "SJ6JwlJOnZMr"
      },
      "source": [
        "#### In this part, we will define a function that returns a lambda expression\n",
        "\n",
        "In the cell below, write a lambda expression that takes two numbers and returns 1 if one is divisible by the other and zero otherwise. Call the lambda expression `mod`."
      ]
    },
    {
      "cell_type": "code",
      "execution_count": 4,
      "metadata": {
        "id": "qv0zPqbAnZMr"
      },
      "outputs": [],
      "source": [
        "# your code here\n",
        "mod = lambda x, y: 1 if x % y == 0 else 0"
      ]
    },
    {
      "cell_type": "markdown",
      "metadata": {
        "id": "-zogAvuWnZMs"
      },
      "source": [
        "#### Now create a function that returns mod. The function only takes one argument - the first number in the `mod` lambda function. \n",
        "\n",
        "Note: the lambda function above took two arguments, the lambda function in the return statement only takes one argument but also uses the argument passed to the function."
      ]
    },
    {
      "cell_type": "code",
      "execution_count": 5,
      "metadata": {
        "id": "P09pNRDCnZMs"
      },
      "outputs": [],
      "source": [
        "def divisor(b):\n",
        "    \"\"\"\n",
        "    Input: a number\n",
        "    Output: a function that returns 1 if the number is \n",
        "    divisible by another number (to be passed later) and zero otherwise.\n",
        "    \"\"\"\n",
        "    \n",
        "    # your code here\n",
        "    mod = lambda x: 1 if x % b == 0 else 0\n",
        "    return mod"
      ]
    },
    {
      "cell_type": "markdown",
      "metadata": {
        "id": "QYJi0fWgnZMs"
      },
      "source": [
        "Finally, pass the number 5 to `divisor`. Now the function will check whether a number is divisble by 5. Assign this function to `divisible5`"
      ]
    },
    {
      "cell_type": "code",
      "execution_count": 6,
      "metadata": {
        "colab": {
          "base_uri": "https://localhost:8080/"
        },
        "id": "gACbDznVnZMs",
        "outputId": "23792b6f-8b84-4772-ed51-322fc7d9c0a3"
      },
      "outputs": [
        {
          "output_type": "execute_result",
          "data": {
            "text/plain": [
              "1"
            ]
          },
          "metadata": {},
          "execution_count": 6
        }
      ],
      "source": [
        "# your code here\n",
        "divisible5 = divisor(5)\n",
        "divisible5(5)"
      ]
    },
    {
      "cell_type": "markdown",
      "metadata": {
        "id": "LL5v9lGdnZMs"
      },
      "source": [
        "Test your function with the following test cases:"
      ]
    },
    {
      "cell_type": "code",
      "execution_count": 7,
      "metadata": {
        "colab": {
          "base_uri": "https://localhost:8080/"
        },
        "id": "yZrdm48pnZMs",
        "outputId": "8943e874-d912-47f4-dc08-2bd67dacee51"
      },
      "outputs": [
        {
          "output_type": "execute_result",
          "data": {
            "text/plain": [
              "1"
            ]
          },
          "metadata": {},
          "execution_count": 7
        }
      ],
      "source": [
        "divisible5(10)"
      ]
    },
    {
      "cell_type": "code",
      "execution_count": 8,
      "metadata": {
        "colab": {
          "base_uri": "https://localhost:8080/"
        },
        "id": "YJ0wgzv2nZMt",
        "outputId": "a879ccc6-a77e-4aed-b254-3c64223863b4"
      },
      "outputs": [
        {
          "output_type": "execute_result",
          "data": {
            "text/plain": [
              "0"
            ]
          },
          "metadata": {},
          "execution_count": 8
        }
      ],
      "source": [
        "divisible5(8)"
      ]
    },
    {
      "cell_type": "markdown",
      "metadata": {
        "id": "EmHmwrXenZMt"
      },
      "source": [
        "# Bonus Challenge - Using Lambda Expressions in List Comprehensions\n",
        "\n",
        "In the following challenge, we will combine two lists using a lambda expression in a list comprehension. \n",
        "\n",
        "To do this, we will need to introduce the `zip` function. The `zip` function returns an iterator of tuples."
      ]
    },
    {
      "cell_type": "code",
      "execution_count": 9,
      "metadata": {
        "colab": {
          "base_uri": "https://localhost:8080/"
        },
        "id": "HdnpL-D3nZMt",
        "outputId": "d137aa45-4062-4c2a-f3dc-3c87a01150d2"
      },
      "outputs": [
        {
          "output_type": "execute_result",
          "data": {
            "text/plain": [
              "[(1,), (2,), (3,), (4,), (5,)]"
            ]
          },
          "metadata": {},
          "execution_count": 9
        }
      ],
      "source": [
        "# Here is an example of passing one list to the zip function. \n",
        "# Since the zip function returns an iterator, we need to evaluate the iterator by using a list comprehension.\n",
        "\n",
        "l = [1,2,3,4,5]\n",
        "[x for x in zip(l)]"
      ]
    },
    {
      "cell_type": "markdown",
      "metadata": {
        "id": "pKBl_QNonZMu"
      },
      "source": [
        "Using the `zip` function, let's iterate through two lists and add the elements by position."
      ]
    },
    {
      "cell_type": "code",
      "execution_count": 10,
      "metadata": {
        "colab": {
          "base_uri": "https://localhost:8080/"
        },
        "id": "vDNk2lbRnZMu",
        "outputId": "e6934448-42b9-4b45-d174-69609f273b98"
      },
      "outputs": [
        {
          "output_type": "execute_result",
          "data": {
            "text/plain": [
              "[('Green', 'eggs'),\n",
              " ('cheese', 'cheese'),\n",
              " ('English', 'cucumber'),\n",
              " ('tomato', 'tomato')]"
            ]
          },
          "metadata": {},
          "execution_count": 10
        }
      ],
      "source": [
        "list1 = ['Green', 'cheese', 'English', 'tomato']\n",
        "list2 = ['eggs', 'cheese', 'cucumber', 'tomato']\n",
        "\n",
        "# your code here\n",
        "[x for x in zip(list1, list2)]"
      ]
    },
    {
      "cell_type": "markdown",
      "metadata": {
        "id": "QDNaAYUXnZMu"
      },
      "source": [
        "# Bonus Challenge - Using Lambda Expressions as Arguments\n",
        "\n",
        "#### In this challenge, we will zip together two lists and sort by the resulting tuple.\n",
        "\n",
        "In the cell below, take the two lists provided, zip them together and sort by the first letter of the second element of each tuple. Do this using a lambda function."
      ]
    },
    {
      "cell_type": "code",
      "execution_count": 11,
      "metadata": {
        "colab": {
          "base_uri": "https://localhost:8080/"
        },
        "id": "b7wY2a0lnZMu",
        "outputId": "6ffdfaf0-bc0f-4813-f3d5-2914f3481e80"
      },
      "outputs": [
        {
          "output_type": "execute_result",
          "data": {
            "text/plain": [
              "[('Engineering', 'Essay'),\n",
              " ('Computer Science', 'Homework'),\n",
              " ('Political Science', 'Lab'),\n",
              " ('Mathematics', 'Module')]"
            ]
          },
          "metadata": {},
          "execution_count": 11
        }
      ],
      "source": [
        "list1 = ['Engineering', 'Computer Science', 'Political Science', 'Mathematics']\n",
        "list2 = ['Lab', 'Homework', 'Essay', 'Module']\n",
        "\n",
        "# your code here\n",
        "[x for x in zip(list1, sorted(list2))]"
      ]
    },
    {
      "cell_type": "markdown",
      "metadata": {
        "id": "pn3lroBnnZMu"
      },
      "source": [
        "# Bonus Challenge - Sort a Dictionary by Values\n",
        "\n",
        "Given the dictionary below, sort it by values rather than by keys. Use a lambda function to specify the values as a sorting key."
      ]
    },
    {
      "cell_type": "code",
      "execution_count": 12,
      "metadata": {
        "colab": {
          "base_uri": "https://localhost:8080/"
        },
        "id": "WBRw6w4InZMu",
        "outputId": "8e0cd933-b4cc-4820-9508-ae4055be2728"
      },
      "outputs": [
        {
          "output_type": "stream",
          "name": "stdout",
          "text": [
            "Method 1 : {'Toyota': 1995, 'Honda': 1997, 'Audi': 2001, 'BMW': 2005}\n",
            "Method 2 : [('Toyota', 1995), ('Honda', 1997), ('Audi', 2001), ('BMW', 2005)]\n"
          ]
        }
      ],
      "source": [
        "d = {'Honda': 1997, 'Toyota': 1995, 'Audi': 2001, 'BMW': 2005}\n",
        "\n",
        "# your code here\n",
        "# --------------\n",
        "\n",
        "# method 1\n",
        "method_1 = dict(sorted(d.items(), key=lambda x: x[1]))\n",
        "print(f\"Method 1 : {method_1}\")\n",
        "\n",
        "# method 2\n",
        "method_2 = sorted(d.items(), key=lambda x: x[1])\n",
        "print(f\"Method 2 : {method_2}\")"
      ]
    }
  ],
  "metadata": {
    "kernelspec": {
      "display_name": "Python 3",
      "language": "python",
      "name": "python3"
    },
    "language_info": {
      "codemirror_mode": {
        "name": "ipython",
        "version": 3
      },
      "file_extension": ".py",
      "mimetype": "text/x-python",
      "name": "python",
      "nbconvert_exporter": "python",
      "pygments_lexer": "ipython3",
      "version": "3.7.2"
    },
    "colab": {
      "provenance": []
    }
  },
  "nbformat": 4,
  "nbformat_minor": 0
}