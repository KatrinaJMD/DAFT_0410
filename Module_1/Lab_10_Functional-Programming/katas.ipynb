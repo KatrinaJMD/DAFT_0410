{
  "nbformat": 4,
  "nbformat_minor": 0,
  "metadata": {
    "colab": {
      "provenance": [],
      "collapsed_sections": [
        "V7dlIE6MMYME",
        "_GfmOufkPiuK",
        "-HpGg-B8QfHW",
        "eisO9egInTeI",
        "UVhzv4BDpZgv",
        "naMWGDKaWCIl"
      ],
      "authorship_tag": "ABX9TyOIyyfR73YoqOOEFLGy/L2N",
      "include_colab_link": true
    },
    "kernelspec": {
      "name": "python3",
      "display_name": "Python 3"
    },
    "language_info": {
      "name": "python"
    }
  },
  "cells": [
    {
      "cell_type": "markdown",
      "metadata": {
        "id": "view-in-github",
        "colab_type": "text"
      },
      "source": [
        "<a href=\"https://colab.research.google.com/github/KatrinaJMD/DAFT_0410/blob/main/katas.ipynb\" target=\"_parent\"><img src=\"https://colab.research.google.com/assets/colab-badge.svg\" alt=\"Open In Colab\"/></a>"
      ]
    },
    {
      "cell_type": "markdown",
      "source": [
        "## [Challenge 1](https://www.codewars.com/kata/54edbc7200b811e956000556): counting sheeps"
      ],
      "metadata": {
        "id": "V7dlIE6MMYME"
      }
    },
    {
      "cell_type": "markdown",
      "source": [
        "**DESCRIPTION:**\n",
        "\n",
        "Consider an array/list of sheep where some sheep may be missing from their place. We need a function that counts the number of sheep present in the array (***true means present***).\n",
        "\n",
        "For example,\n",
        "> ```python\n",
        "[true,  true,  true,  false,\n",
        "  true,  true,  true,  true ,\n",
        "  true,  false, true,  false,\n",
        "  true,  false, false, true ,\n",
        "  true,  true,  true,  true ,\n",
        "  false, false, true,  true]\n",
        "```\n",
        "> The correct answer would be `17`.\n",
        "\n",
        "**Hint:** *Don't forget to check for bad values like `null`/`undefined`*"
      ],
      "metadata": {
        "id": "lrwKZNHsMnT-"
      }
    },
    {
      "cell_type": "code",
      "source": [
        "sheeps = [\n",
        "    True,  True,  True,  False,\n",
        "    True,  True,  True,  True ,\n",
        "    True,  False, True,  False,\n",
        "    True,  False, False, True ,\n",
        "    True,  True,  True,  True ,\n",
        "    False, False, True,  True]\n",
        "\n",
        "# method 1\n",
        "def count_sheeps(data):\n",
        "    \n",
        "    count = 0\n",
        "    missing = 0\n",
        "\n",
        "    for i in data:\n",
        "        if isinstance(i, bool) and i:\n",
        "            count += 1\n",
        "        else:\n",
        "            missing += 1\n",
        "    \n",
        "    return f\"METHOD 1\\nNo. of total sheeps: {len(data)}\\nNo. of present sheeps: {count}\\n\\nBONUS\\nNo. of missing sheeps: {missing}\"\n",
        "\n",
        "# method 2\n",
        "def count_(data):\n",
        "\n",
        "    count = sum(data)\n",
        "    missing = len(data) - count\n",
        "\n",
        "    return f\"METHOD 2\\nNo. of total sheeps: {len(data)}\\nNo. of present sheeps: {count}\\n\\nBONUS\\nNo. of missing sheeps: {missing}\"\n",
        "\n",
        "print(count_sheeps(sheeps))\n",
        "print(\"-\" * 25 + \"\\n\")\n",
        "print(count_(sheeps))"
      ],
      "metadata": {
        "colab": {
          "base_uri": "https://localhost:8080/"
        },
        "id": "eZ_rTqjAtBiT",
        "outputId": "5478cf63-7fa9-4e39-f5fe-2344a97332cb"
      },
      "execution_count": 9,
      "outputs": [
        {
          "output_type": "stream",
          "name": "stdout",
          "text": [
            "METHOD 1\n",
            "No. of total sheeps: 24\n",
            "No. of present sheeps: 17\n",
            "\n",
            "BONUS\n",
            "No. of missing sheeps: 7\n",
            "-------------------------\n",
            "\n",
            "METHOD 2\n",
            "No. of total sheeps: 24\n",
            "No. of present sheeps: 17\n",
            "\n",
            "BONUS\n",
            "No. of missing sheeps: 7\n"
          ]
        }
      ]
    },
    {
      "cell_type": "markdown",
      "source": [
        "## [Challenge 2](https://www.codewars.com/kata/5769b3802ae6f8e4890009d2): removing elements"
      ],
      "metadata": {
        "id": "_GfmOufkPiuK"
      }
    },
    {
      "cell_type": "markdown",
      "source": [
        "**DESCRIPTION:**\n",
        "\n",
        "Take an array and remove every second element from the array. Always keep the first element and start removing with the next element.\n",
        "\n",
        ">Example:\n",
        "> ```python\n",
        "[\"Keep\", \"Remove\", \"Keep\", \"Remove\", \"Keep\", ...] --> [\"Keep\", \"Keep\", \"Keep\", ...]\n",
        "```\n",
        "None of the arrays will be empty, so you don't have to worry about that!"
      ],
      "metadata": {
        "id": "L4JZGe_QP7bE"
      }
    },
    {
      "cell_type": "code",
      "source": [
        "# list from the Challenge 2 example\n",
        "keep_remove = [\"Keep\", \"Remove\", \"Keep\", \"Remove\", \"Keep\"]\n",
        "\n",
        "# BONUS: randomize\n",
        "# generate a list containing the words Keep and Remove randomly (because we're effecient, not lazy :p)\n",
        "import random\n",
        "\n",
        "words = [\"Keep\", \"Remove\"]\n",
        "generated = []\n",
        "\n",
        "for i in range(10):\n",
        "    generated.append(random.choice(words))\n",
        "\n",
        "# function to remove every second element\n",
        "def remove_second_item(your_array):\n",
        "    print(\"\\nFirst elements to keep:\")\n",
        "    return your_array[::2]\n",
        "\n",
        "# results\n",
        "print(f\"ORIGINAL LIST:\\n{keep_remove}\")\n",
        "print(remove_second_item(keep_remove))\n",
        "\n",
        "print(\"-\" * 94 + \"\\n\")\n",
        "\n",
        "print(f\"GENERATED WORDS:\\n{generated}\\n\")\n",
        "print(remove_second_item(generated))"
      ],
      "metadata": {
        "colab": {
          "base_uri": "https://localhost:8080/"
        },
        "id": "CGCNp9IhyrXV",
        "outputId": "df2721d2-0d83-4f8a-d7f7-b7fe0316b886"
      },
      "execution_count": 10,
      "outputs": [
        {
          "output_type": "stream",
          "name": "stdout",
          "text": [
            "ORIGINAL LIST:\n",
            "['Keep', 'Remove', 'Keep', 'Remove', 'Keep']\n",
            "\n",
            "First elements to keep:\n",
            "['Keep', 'Keep', 'Keep']\n",
            "----------------------------------------------------------------------------------------------\n",
            "\n",
            "GENERATED WORDS:\n",
            "['Remove', 'Keep', 'Keep', 'Remove', 'Remove', 'Keep', 'Remove', 'Remove', 'Keep', 'Keep']\n",
            "\n",
            "\n",
            "First elements to keep:\n",
            "['Remove', 'Keep', 'Remove', 'Remove', 'Keep']\n"
          ]
        }
      ]
    },
    {
      "cell_type": "markdown",
      "source": [
        "## [Challenge 3](https://www.codewars.com/kata/5583090cbe83f4fd8c000051): convert number to reversed array of digits"
      ],
      "metadata": {
        "id": "-HpGg-B8QfHW"
      }
    },
    {
      "cell_type": "markdown",
      "source": [
        "**DESCRIPTION:**\n",
        "\n",
        "Given a random non-negative number, you have to return the digits of this number within an array in reverse order.\n",
        "\n",
        "> Example(Input => Output):\n",
        "> ```python\n",
        "35231 => [1,3,2,5,3]\n",
        "0 => [0]\n",
        "```"
      ],
      "metadata": {
        "id": "6haML2jSQ0YY"
      }
    },
    {
      "cell_type": "code",
      "source": [
        "number_1 = 35231\n",
        "number_2 = 0\n",
        "\n",
        "def reverse_digits(number):\n",
        "    return [int(digit) for digit in str(number)[::-1]]\n",
        "\n",
        "print(f\"For number {number_1} : {reverse_digits(number_1)}\")\n",
        "print(f\"For number {number_2} : {reverse_digits(number_2)}\")"
      ],
      "metadata": {
        "colab": {
          "base_uri": "https://localhost:8080/"
        },
        "id": "bM3bPXzT6kxY",
        "outputId": "7a98018c-2787-4323-cf7e-a8e39faa2868"
      },
      "execution_count": 11,
      "outputs": [
        {
          "output_type": "stream",
          "name": "stdout",
          "text": [
            "For number 35231 : [1, 3, 2, 5, 3]\n",
            "For number 0 : [0]\n"
          ]
        }
      ]
    },
    {
      "cell_type": "markdown",
      "source": [
        "## [Challenge 4](https://www.codewars.com/kata/546e2562b03326a88e000020): square every digit"
      ],
      "metadata": {
        "id": "eisO9egInTeI"
      }
    },
    {
      "cell_type": "markdown",
      "source": [
        "**DESCRIPTION:**\n",
        "\n",
        "Welcome. In this kata, you are asked to square every digit of a number and concatenate them.\n",
        "\n",
        "For example,\n",
        "> ```python\n",
        "> if we run 9119 through the function:\n",
        ">    811181 will come out\n",
        "> ```\n",
        "> Because $9^2$ is 81 and $1^2$ is 1\n",
        "- (81-1-1-81)\n",
        "\n",
        "\n",
        "Another example,\n",
        ">\n",
        "> An input of `765` will/should return `493625` because $7^2$ is 49, $6^2$ is 36, and $5^2$ is 25\n",
        "> - (49-36-25)\n",
        "\n",
        "***Note:*** *The function accepts an integer and returns an integer.*\n",
        "\n",
        "Happy Coding!"
      ],
      "metadata": {
        "id": "a81YGxz0nnZp"
      }
    },
    {
      "cell_type": "code",
      "source": [
        "input_1 = 9119\n",
        "input_2 = 765\n",
        "\n",
        "def squared_digits(numbers):\n",
        "    # convert numbers to strings\n",
        "    to_string = str(numbers)\n",
        "\n",
        "    # initialize empty string for concatenation\n",
        "    to_concatenate = \"\"\n",
        "\n",
        "    # square each digit and append to the empty string\n",
        "    for digit in to_string:\n",
        "        # convert digit to int for squaring\n",
        "        # then convert back to str for concatenation\n",
        "        to_concatenate += str(int(digit)**2)\n",
        "    \n",
        "    print(f\"Input number = {numbers}\")\n",
        "    print(f\"Output number = {to_concatenate}\")\n",
        "\n",
        "# results = squared_digits(numbers)\n",
        "squared_digits(input_1)\n",
        "print(\"\\n\")\n",
        "squared_digits(input_2)"
      ],
      "metadata": {
        "colab": {
          "base_uri": "https://localhost:8080/"
        },
        "id": "-Bx7dtrY7U-g",
        "outputId": "ed642a3b-0a01-493f-b478-f07ad98dc548"
      },
      "execution_count": 12,
      "outputs": [
        {
          "output_type": "stream",
          "name": "stdout",
          "text": [
            "Input number = 9119\n",
            "Output number = 811181\n",
            "\n",
            "\n",
            "Input number = 765\n",
            "Output number = 493625\n"
          ]
        }
      ]
    },
    {
      "cell_type": "markdown",
      "source": [
        "## [Challenge 5](https://www.codewars.com/kata/56311e4fdd811616810000ce): method for Counting Total Occurence of Specific Digits"
      ],
      "metadata": {
        "id": "UVhzv4BDpZgv"
      }
    },
    {
      "cell_type": "markdown",
      "source": [
        "**DESCRIPTION:**\n",
        "\n",
        "We need a method in the `List Class` that may count specific digits from a given list of integers. This marked digits will be given in a second list.\n",
        "\n",
        "The method **`.count_spec_digits()/.countSpecDigits()`** will accept two arguments:\n",
        "- a list of an uncertain amount of integers **`integers_lists/integersLists`** (*and of an uncertain amount of digits, too*)\n",
        "- and a second list, **`digits_list/digitsList`** that has the specific digits to count which ***length cannot be be longer than 10*** (*it's obvious, we've got ten digits*)\n",
        "\n",
        "The method will output a list of tuples,\n",
        "> each tuple having two elements:\n",
        "- the first one will be a digit to count\n",
        "- and second one, its corresponding total frequency in all the integers of the first list\n",
        "\n",
        "This list of tuples should be ordered with the same order that the digits have in digitsList\n",
        "\n",
        "Let's see some cases:\n",
        "\n",
        "```python\n",
        "l = List()\n",
        "\n",
        "integers_list =  [1, 1, 2 ,3 ,1 ,2 ,3 ,4]\n",
        "digits_list = [1, 3]\n",
        "l.count_spec_digits(integers_list, digits_list) == [(1, 3), (3, 2)]\n",
        "\n",
        "integers_list = [-18, -31, 81, -19, 111, -888]\n",
        "digits_list = [1, 8, 4]\n",
        "l.count_spec_digits(integers_list, digits_list) == [(1, 7), (8, 5), (4, 0)]\n",
        "\n",
        "integers_list = [-77, -65, 56, -79, 6666, 222]\n",
        "digits_list = [1, 8, 4]\n",
        "l.count_spec_digits(integers_list, digits_list) == [(1, 0), (8, 0), (4, 0)]\n",
        "```\n",
        "\n",
        "Enjoy it!!"
      ],
      "metadata": {
        "id": "2dJHB07Xpd3M"
      }
    },
    {
      "cell_type": "code",
      "source": [
        "# method 1\n",
        "class List:\n",
        "    def count_spec_digits(self, integers_list, digits_list):\n",
        "        \n",
        "        result = []\n",
        "\n",
        "        for digit in digits_list:\n",
        "            count = 0\n",
        "\n",
        "            for integer in integers_list:\n",
        "                count += str(integer).count(str(digit))\n",
        "\n",
        "            result.append((digit, count))\n",
        "\n",
        "        return result\n",
        "\n",
        "# test cases using the sample above to verify results\n",
        "l = List()\n",
        "\n",
        "integers_list = [1, 1, 2, 3, 1, 2, 3, 4]\n",
        "digits_list = [1, 3]\n",
        "print(l.count_spec_digits(integers_list, digits_list))\n",
        "\n",
        "integers_list = [-18, -31, 81, -19, 111, -888]\n",
        "digits_list = [1, 8, 4]\n",
        "print(l.count_spec_digits(integers_list, digits_list))\n",
        "\n",
        "integers_list = [-77, -65, 56, -79, 6666, 222]\n",
        "digits_list = [1, 8, 4]\n",
        "print(l.count_spec_digits(integers_list, digits_list))"
      ],
      "metadata": {
        "colab": {
          "base_uri": "https://localhost:8080/"
        },
        "id": "itWHBnFXOSgI",
        "outputId": "d9c42bf6-0d70-4a55-ba5b-3f373a0d6888"
      },
      "execution_count": 13,
      "outputs": [
        {
          "output_type": "stream",
          "name": "stdout",
          "text": [
            "[(1, 3), (3, 2)]\n",
            "[(1, 7), (8, 5), (4, 0)]\n",
            "[(1, 0), (8, 0), (4, 0)]\n"
          ]
        }
      ]
    },
    {
      "cell_type": "code",
      "source": [
        "# method 2 (using __init__)\n",
        "class List_:\n",
        "    def __init__(self, integers_list, digits_list):\n",
        "        self.integers_list = integers_list\n",
        "        self.digits_list = digits_list\n",
        "\n",
        "    def count_digits_in_integers(self):\n",
        "\n",
        "        result = []\n",
        "\n",
        "        for digit in self.digits_list:\n",
        "            count = sum(str(digit) in str(abs(integer)) for integer in self.integers_list)\n",
        "\n",
        "            result.append((digit, count))\n",
        "\n",
        "        return result\n",
        "\n",
        "# test to verify if same result\n",
        "l = List()\n",
        "\n",
        "integers_list = [1, 1, 2, 3, 1, 2, 3, 4]\n",
        "digits_list = [1, 3]\n",
        "\n",
        "params = List_(integers_list, digits_list)\n",
        "output = params.count_digits_in_integers()\n",
        "print(output)\n",
        "\n",
        "integers_list = [-18, -31, 81, -19, 111, -888]\n",
        "digits_list = [1, 8, 4]\n",
        "\n",
        "params = List_(integers_list, digits_list)\n",
        "output = params.count_digits_in_integers()\n",
        "print(output)\n",
        "\n",
        "integers_list = [-77, -65, 56, -79, 6666, 222]\n",
        "digits_list = [1, 8, 4]\n",
        "\n",
        "params = List_(integers_list, digits_list)\n",
        "output = params.count_digits_in_integers()\n",
        "print(output)"
      ],
      "metadata": {
        "colab": {
          "base_uri": "https://localhost:8080/"
        },
        "id": "mE1fiABiRZGb",
        "outputId": "9b3efd3c-6476-416f-a69c-9ce3a27f8b38"
      },
      "execution_count": 14,
      "outputs": [
        {
          "output_type": "stream",
          "name": "stdout",
          "text": [
            "[(1, 3), (3, 2)]\n",
            "[(1, 5), (8, 3), (4, 0)]\n",
            "[(1, 0), (8, 0), (4, 0)]\n"
          ]
        }
      ]
    },
    {
      "cell_type": "markdown",
      "source": [
        "### BONUS rounds"
      ],
      "metadata": {
        "id": "naMWGDKaWCIl"
      }
    },
    {
      "cell_type": "code",
      "source": [
        "# using words instead of numbers\n",
        "class List:\n",
        "    def word_count(self, the_list, the_words):\n",
        "        \n",
        "        result = []\n",
        "\n",
        "        for word in the_words:\n",
        "            count = sum(word in i for i in the_list)\n",
        "            result.append((word, count))\n",
        "\n",
        "        return result\n",
        "\n",
        "# test cases\n",
        "l = List()\n",
        "\n",
        "original_wordlist = keep_remove.copy() # from Challege 2 sample list\n",
        "to_count = [\"Keep\", \"Remove\"]\n",
        "print(f\"ORIGINAL WORDS:\\n{original_wordlist}\\n\")\n",
        "print(l.word_count(original_wordlist, to_count))\n",
        "\n",
        "print(\"\\n\")\n",
        "\n",
        "generated_words = generated.copy() # words generated from Challenge 2\n",
        "to_count = [\"Keep\", \"Remove\"]\n",
        "print(f\"GENERATED WORDS:\\n{generated_words}\\n\")\n",
        "print(l.word_count(generated_words, to_count))"
      ],
      "metadata": {
        "colab": {
          "base_uri": "https://localhost:8080/"
        },
        "id": "fpMOxA4GTpdZ",
        "outputId": "82034285-3c26-4e16-b303-c5ec1eff5aa2"
      },
      "execution_count": 15,
      "outputs": [
        {
          "output_type": "stream",
          "name": "stdout",
          "text": [
            "ORIGINAL WORDS:\n",
            "['Keep', 'Remove', 'Keep', 'Remove', 'Keep']\n",
            "\n",
            "[('Keep', 3), ('Remove', 2)]\n",
            "\n",
            "\n",
            "GENERATED WORDS:\n",
            "['Remove', 'Keep', 'Keep', 'Remove', 'Remove', 'Keep', 'Remove', 'Remove', 'Keep', 'Keep']\n",
            "\n",
            "[('Keep', 5), ('Remove', 5)]\n"
          ]
        }
      ]
    },
    {
      "cell_type": "code",
      "source": [
        "# using letters instead of words (regardless of their case: upper or lower)\n",
        "class List:\n",
        "    def character_count(self, the_list, the_words):\n",
        "        \n",
        "        result = []\n",
        "\n",
        "        for char in the_words:\n",
        "            # count = sum(word.count(char) for word in the_list)\n",
        "            count = sum(word.lower().count(char.lower()) for word in the_list)\n",
        "            result.append((char, count))\n",
        "\n",
        "        return result\n",
        "\n",
        "# test cases\n",
        "l = List()\n",
        "\n",
        "simple_list = [\"Keep\", \"Remove\"] # start simple for easier count verification\n",
        "to_count = [\"K\", \"e\", \"p\"]\n",
        "print(f\"SIMPLE LIST:\\n{simple_list}\\n\")\n",
        "print(l.character_count(simple_list, to_count))\n",
        "\n",
        "print(\"\\n\")\n",
        "\n",
        "original_wordlist = keep_remove.copy() # from Challege 2 sample list\n",
        "to_count = [\"K\", \"e\", \"p\"]\n",
        "print(f\"ORIGINAL WORDS:\\n{original_wordlist}\\n\")\n",
        "print(l.character_count(original_wordlist, to_count))\n",
        "\n",
        "print(\"\\n\")\n",
        "\n",
        "generated_words = generated.copy() # words generated from Challenge 2\n",
        "to_count = [\"K\", \"e\", \"p\"]\n",
        "print(f\"GENERATED WORDS:\\n{generated_words}\\n\")\n",
        "print(l.character_count(generated_words, to_count))"
      ],
      "metadata": {
        "colab": {
          "base_uri": "https://localhost:8080/"
        },
        "id": "yAuyT1neXWeb",
        "outputId": "5439ad75-2fdf-4372-99d0-192f57bacd66"
      },
      "execution_count": 16,
      "outputs": [
        {
          "output_type": "stream",
          "name": "stdout",
          "text": [
            "SIMPLE LIST:\n",
            "['Keep', 'Remove']\n",
            "\n",
            "[('K', 1), ('e', 4), ('p', 1)]\n",
            "\n",
            "\n",
            "ORIGINAL WORDS:\n",
            "['Keep', 'Remove', 'Keep', 'Remove', 'Keep']\n",
            "\n",
            "[('K', 3), ('e', 10), ('p', 3)]\n",
            "\n",
            "\n",
            "GENERATED WORDS:\n",
            "['Remove', 'Keep', 'Keep', 'Remove', 'Remove', 'Keep', 'Remove', 'Remove', 'Keep', 'Keep']\n",
            "\n",
            "[('K', 5), ('e', 20), ('p', 5)]\n"
          ]
        }
      ]
    }
  ]
}