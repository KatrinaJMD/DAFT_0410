{
  "cells": [
    {
      "cell_type": "markdown",
      "metadata": {
        "id": "AffWpn28o5vZ"
      },
      "source": [
        "# Before your start:\n",
        "- Read the README.md file\n",
        "- Comment as much as you can and use the resources in the README.md file\n",
        "- Happy learning!"
      ]
    },
    {
      "cell_type": "code",
      "execution_count": 1,
      "metadata": {
        "id": "juhdSviFo5vd"
      },
      "outputs": [],
      "source": [
        "# Libraries\n",
        "import math"
      ]
    },
    {
      "cell_type": "markdown",
      "metadata": {
        "id": "YdsEkKyAo5ve"
      },
      "source": [
        "# Challenge 1 - Handling Errors Using `if` Statements\n",
        "\n",
        "In many cases, we are able to identify issues that may come up in our code and handle those handlful of issues with an `if` statment. Sometimes we would like to handle different types of inputs and are aware that later in the code, we will have to write two different branches of code for the two different cases we allowed in the beginning.\n",
        "\n",
        "In the 3 cells below, add an `if` statment that will handle both types of input allowed in the functions."
      ]
    },
    {
      "cell_type": "code",
      "execution_count": 2,
      "metadata": {
        "colab": {
          "base_uri": "https://localhost:8080/"
        },
        "id": "PwlxSTcMo5ve",
        "outputId": "2d50cfb1-2eab-42d2-a38d-fefaf2595ecb"
      },
      "outputs": [
        {
          "output_type": "execute_result",
          "data": {
            "text/plain": [
              "2.0"
            ]
          },
          "metadata": {},
          "execution_count": 2
        }
      ],
      "source": [
        "# Modify the code below to handle positive and negative numbers by adding an if statement and performing a transformation:\n",
        "\n",
        "def sqrt_for_all(x):\n",
        "    \"\"\"\n",
        "    This function will take any real number and \n",
        "    return the square root of its magnitude.\n",
        "    \n",
        "    Input: Real number\n",
        "    Output: Real number\n",
        "    \n",
        "    Sample Input: -4\n",
        "    Sample Output: 2.0\n",
        "    \"\"\"\n",
        "\n",
        "    if x < 0:\n",
        "        x = -x\n",
        "    \n",
        "    return math.sqrt(x)\n",
        "\n",
        "sqrt_for_all(-4)"
      ]
    },
    {
      "cell_type": "code",
      "execution_count": 3,
      "metadata": {
        "colab": {
          "base_uri": "https://localhost:8080/"
        },
        "id": "Gux3UozYo5vf",
        "outputId": "e4355a34-6fbe-45b5-b497-88eea1e0afd3"
      },
      "outputs": [
        {
          "output_type": "execute_result",
          "data": {
            "text/plain": [
              "0"
            ]
          },
          "metadata": {},
          "execution_count": 3
        }
      ],
      "source": [
        "# Modify the code below to handle zero as well. In the case of zero, return zero\n",
        "\n",
        "def divide(x, y):\n",
        "    \"\"\"\n",
        "    This function will take any two real numbers \n",
        "    and return their quotient. \n",
        "    If the denominator is zero, we return zero.\n",
        "    \n",
        "    Input: Real number\n",
        "    Output: Real number\n",
        "    \n",
        "    Sample Input: 5, 1\n",
        "    Sample Output: 5.0\n",
        "    \"\"\"\n",
        "\n",
        "    if y == 0:\n",
        "        return 0\n",
        "    \n",
        "    return x / y\n",
        "\n",
        "divide(5, 0)"
      ]
    },
    {
      "cell_type": "code",
      "execution_count": 4,
      "metadata": {
        "colab": {
          "base_uri": "https://localhost:8080/"
        },
        "id": "Z-qPmvO6o5vf",
        "outputId": "30c7edd1-14bf-4f74-c12e-d8e5da280e36"
      },
      "outputs": [
        {
          "output_type": "execute_result",
          "data": {
            "text/plain": [
              "[11]"
            ]
          },
          "metadata": {},
          "execution_count": 4
        }
      ],
      "source": [
        "# Modify the function below that it will take either an number and a list or two numbers. \n",
        "# If we take two numbers, add them together and return a list of length 1. \n",
        "# Otherwise, add the number to every element of the list and return the resulting list\n",
        "\n",
        "def add_elements(a, l):\n",
        "    \"\"\"\n",
        "    This function takes either two numbers or a list and a number \n",
        "    and adds the number to all elements of the list.\n",
        "    If the function only takes two numbers, it returns a list \n",
        "    of length one that is the sum of the numbers.\n",
        "    \n",
        "    Input: number and list or two numbers\n",
        "    Output: list\n",
        "    \n",
        "    Sample Input: 5, 6\n",
        "    Sample Output: [11]\n",
        "    \"\"\"\n",
        "\n",
        "    if isinstance(l, int):\n",
        "        return [a + l]\n",
        "    \n",
        "    return [a + element for element in l]\n",
        "        \n",
        "add_elements(5, 6)"
      ]
    },
    {
      "cell_type": "markdown",
      "metadata": {
        "id": "wnwuTVuNo5vg"
      },
      "source": [
        "# Challenge 2 - Fixing Errors to Get Code to Run\n",
        "\n",
        "Sometimes the error is not caused by the input but by the code itself. In the 2 following cells below, examine the error and correct the code to avoid the error."
      ]
    },
    {
      "cell_type": "code",
      "execution_count": 5,
      "metadata": {
        "colab": {
          "base_uri": "https://localhost:8080/"
        },
        "id": "VWZhLIedo5vg",
        "outputId": "80efdfcb-805c-4f90-fcd2-0ef68371af16"
      },
      "outputs": [
        {
          "output_type": "execute_result",
          "data": {
            "text/plain": [
              "14"
            ]
          },
          "metadata": {},
          "execution_count": 5
        }
      ],
      "source": [
        "# Modify the code below:\n",
        "\n",
        "l = [1,2,3,4]\n",
        "\n",
        "sum([element + 1 for element in l])"
      ]
    },
    {
      "cell_type": "code",
      "execution_count": 6,
      "metadata": {
        "colab": {
          "base_uri": "https://localhost:8080/"
        },
        "id": "gJb1jdfGo5vg",
        "outputId": "68afe1cc-751c-43f6-d801-5781e9860af6"
      },
      "outputs": [
        {
          "output_type": "stream",
          "name": "stdout",
          "text": [
            "The current element in the loop is 1\n",
            "\n",
            "The current element in the loop is 1\n",
            "\n",
            "The current element in the loop is 2\n",
            "\n",
            "The current element in the loop is 2\n",
            "\n",
            "The current element in the loop is 3\n",
            "\n",
            "The current element in the loop is 3\n",
            "\n",
            "The current element in the loop is 4\n",
            "\n",
            "The current element in the loop is 4\n",
            "\n"
          ]
        }
      ],
      "source": [
        "# Modify the code below:\n",
        "\n",
        "l = [1,2,3,4]\n",
        "\n",
        "for element in l:\n",
        "\n",
        "    # method 1 : my only go-to\n",
        "    print(f\"The current element in the loop is {element}\\n\")\n",
        "    \n",
        "    # method 2 : dunno why people still uses this format..\n",
        "    print(\"The current element in the loop is \" + str(element) + \"\\n\")"
      ]
    },
    {
      "cell_type": "markdown",
      "metadata": {
        "id": "Bg7JLXIco5vh"
      },
      "source": [
        "# Bonus Challenge - Raise Errors on Your Own\n",
        "\n",
        "There are cases where you need to alert your users of a problem even if the input will not immediately produce an error. In these cases you may want to throw an error yourself to bring attention to the problem. In the 2 cells below, write the functions as directed and add the appropriate errors using the `raise` clause. Make sure to add a meaningful error message."
      ]
    },
    {
      "cell_type": "code",
      "execution_count": 7,
      "metadata": {
        "colab": {
          "base_uri": "https://localhost:8080/",
          "height": 307
        },
        "id": "O7O8M_YMo5vh",
        "outputId": "1235b4d2-4155-4cd7-d920-a604320039ce"
      },
      "outputs": [
        {
          "output_type": "error",
          "ename": "ValueError",
          "evalue": "ignored",
          "traceback": [
            "\u001b[0;31m---------------------------------------------------------------------------\u001b[0m",
            "\u001b[0;31mValueError\u001b[0m                                Traceback (most recent call last)",
            "\u001b[0;32m<ipython-input-7-59d1d1abc924>\u001b[0m in \u001b[0;36m<cell line: 21>\u001b[0;34m()\u001b[0m\n\u001b[1;32m     19\u001b[0m     \u001b[0;32mreturn\u001b[0m \u001b[0mmath\u001b[0m\u001b[0;34m.\u001b[0m\u001b[0mlog\u001b[0m\u001b[0;34m(\u001b[0m\u001b[0mx\u001b[0m\u001b[0;34m**\u001b[0m\u001b[0;36m2\u001b[0m\u001b[0;34m)\u001b[0m\u001b[0;34m\u001b[0m\u001b[0;34m\u001b[0m\u001b[0m\n\u001b[1;32m     20\u001b[0m \u001b[0;34m\u001b[0m\u001b[0m\n\u001b[0;32m---> 21\u001b[0;31m \u001b[0mprint\u001b[0m\u001b[0;34m(\u001b[0m\u001b[0mlog_square\u001b[0m\u001b[0;34m(\u001b[0m\u001b[0;36m0\u001b[0m\u001b[0;34m)\u001b[0m\u001b[0;34m)\u001b[0m\u001b[0;34m\u001b[0m\u001b[0;34m\u001b[0m\u001b[0m\n\u001b[0m",
            "\u001b[0;32m<ipython-input-7-59d1d1abc924>\u001b[0m in \u001b[0;36mlog_square\u001b[0;34m(x)\u001b[0m\n\u001b[1;32m     15\u001b[0m     \u001b[0;31m# Your code here:\u001b[0m\u001b[0;34m\u001b[0m\u001b[0;34m\u001b[0m\u001b[0m\n\u001b[1;32m     16\u001b[0m     \u001b[0;32mif\u001b[0m \u001b[0mx\u001b[0m \u001b[0;34m==\u001b[0m \u001b[0;36m0\u001b[0m\u001b[0;34m:\u001b[0m\u001b[0;34m\u001b[0m\u001b[0;34m\u001b[0m\u001b[0m\n\u001b[0;32m---> 17\u001b[0;31m         \u001b[0;32mraise\u001b[0m \u001b[0mValueError\u001b[0m\u001b[0;34m(\u001b[0m\u001b[0;34m\"Input cannot be zero\"\u001b[0m\u001b[0;34m)\u001b[0m\u001b[0;34m\u001b[0m\u001b[0;34m\u001b[0m\u001b[0m\n\u001b[0m\u001b[1;32m     18\u001b[0m \u001b[0;34m\u001b[0m\u001b[0m\n\u001b[1;32m     19\u001b[0m     \u001b[0;32mreturn\u001b[0m \u001b[0mmath\u001b[0m\u001b[0;34m.\u001b[0m\u001b[0mlog\u001b[0m\u001b[0;34m(\u001b[0m\u001b[0mx\u001b[0m\u001b[0;34m**\u001b[0m\u001b[0;36m2\u001b[0m\u001b[0;34m)\u001b[0m\u001b[0;34m\u001b[0m\u001b[0;34m\u001b[0m\u001b[0m\n",
            "\u001b[0;31mValueError\u001b[0m: Input cannot be zero"
          ]
        }
      ],
      "source": [
        "def log_square(x):\n",
        "    \"\"\"\n",
        "    This function takes a numeric value and returns the \n",
        "    natural log of the square of the number.\n",
        "    The function raises an error if the number is equal to zero.\n",
        "    Use the math.log function in this funtion.\n",
        "    \n",
        "    Input: Real number\n",
        "    Output: Real number or error\n",
        "    \n",
        "    Sample Input: 5\n",
        "    Sample Output: 3.21887\n",
        "    \"\"\"\n",
        "    \n",
        "    # Your code here:\n",
        "    if x == 0:\n",
        "        raise ValueError(\"Input cannot be zero\")\n",
        "    \n",
        "    return math.log(x**2)\n",
        "\n",
        "print(log_square(0))"
      ]
    },
    {
      "cell_type": "code",
      "execution_count": 8,
      "metadata": {
        "colab": {
          "base_uri": "https://localhost:8080/",
          "height": 307
        },
        "id": "vqF8OZexo5vh",
        "outputId": "d683d991-6b4f-4a51-f937-6afa1ff56937"
      },
      "outputs": [
        {
          "output_type": "error",
          "ename": "ValueError",
          "evalue": "ignored",
          "traceback": [
            "\u001b[0;31m---------------------------------------------------------------------------\u001b[0m",
            "\u001b[0;31mValueError\u001b[0m                                Traceback (most recent call last)",
            "\u001b[0;32m<ipython-input-8-3f5a56a36c63>\u001b[0m in \u001b[0;36m<cell line: 20>\u001b[0;34m()\u001b[0m\n\u001b[1;32m     18\u001b[0m     \u001b[0;32mreturn\u001b[0m \u001b[0;32mTrue\u001b[0m\u001b[0;34m\u001b[0m\u001b[0;34m\u001b[0m\u001b[0m\n\u001b[1;32m     19\u001b[0m \u001b[0;34m\u001b[0m\u001b[0m\n\u001b[0;32m---> 20\u001b[0;31m \u001b[0mprint\u001b[0m\u001b[0;34m(\u001b[0m\u001b[0mcheck_capital\u001b[0m\u001b[0;34m(\u001b[0m\u001b[0;34m\"duh\"\u001b[0m\u001b[0;34m)\u001b[0m\u001b[0;34m)\u001b[0m\u001b[0;34m\u001b[0m\u001b[0;34m\u001b[0m\u001b[0m\n\u001b[0m",
            "\u001b[0;32m<ipython-input-8-3f5a56a36c63>\u001b[0m in \u001b[0;36mcheck_capital\u001b[0;34m(x)\u001b[0m\n\u001b[1;32m     14\u001b[0m     \u001b[0;31m# Your code here:\u001b[0m\u001b[0;34m\u001b[0m\u001b[0;34m\u001b[0m\u001b[0m\n\u001b[1;32m     15\u001b[0m     \u001b[0;32mif\u001b[0m \u001b[0;32mnot\u001b[0m \u001b[0many\u001b[0m\u001b[0;34m(\u001b[0m\u001b[0mchar\u001b[0m\u001b[0;34m.\u001b[0m\u001b[0misupper\u001b[0m\u001b[0;34m(\u001b[0m\u001b[0;34m)\u001b[0m \u001b[0;32mfor\u001b[0m \u001b[0mchar\u001b[0m \u001b[0;32min\u001b[0m \u001b[0mx\u001b[0m\u001b[0;34m)\u001b[0m\u001b[0;34m:\u001b[0m\u001b[0;34m\u001b[0m\u001b[0;34m\u001b[0m\u001b[0m\n\u001b[0;32m---> 16\u001b[0;31m         \u001b[0;32mraise\u001b[0m \u001b[0mValueError\u001b[0m\u001b[0;34m(\u001b[0m\u001b[0;34m\"The input string must contain at least one capital letter\"\u001b[0m\u001b[0;34m)\u001b[0m\u001b[0;34m\u001b[0m\u001b[0;34m\u001b[0m\u001b[0m\n\u001b[0m\u001b[1;32m     17\u001b[0m \u001b[0;34m\u001b[0m\u001b[0m\n\u001b[1;32m     18\u001b[0m     \u001b[0;32mreturn\u001b[0m \u001b[0;32mTrue\u001b[0m\u001b[0;34m\u001b[0m\u001b[0;34m\u001b[0m\u001b[0m\n",
            "\u001b[0;31mValueError\u001b[0m: The input string must contain at least one capital letter"
          ]
        }
      ],
      "source": [
        "# method 1\n",
        "def check_capital(x):\n",
        "    \"\"\"\n",
        "    This function returns true if the string contains \n",
        "    at least one capital letter and throws an error otherwise.\n",
        "    \n",
        "    Input: String\n",
        "    Output: Bool or error message\n",
        "    \n",
        "    Sample Input: 'John'\n",
        "    Sample Output: True\n",
        "    \"\"\"\n",
        "    \n",
        "    # Your code here:\n",
        "    if not any(char.isupper() for char in x):\n",
        "        raise ValueError(\"The input string must contain at least one capital letter\")\n",
        "    \n",
        "    return True\n",
        "\n",
        "print(check_capital(\"duh\"))"
      ]
    },
    {
      "cell_type": "code",
      "source": [
        "# method 2\n",
        "def check_capital(x):\n",
        "    \"\"\"\n",
        "    This function returns true if the string contains \n",
        "    at least one capital letter and throws an error otherwise.\n",
        "    \n",
        "    Input: String\n",
        "    Output: Bool or error message\n",
        "    \n",
        "    Sample Input: 'John'\n",
        "    Sample Output: True\n",
        "    \"\"\"\n",
        "    \n",
        "    # Your code here:\n",
        "    for char in x:\n",
        "        if char.isupper():\n",
        "            return True\n",
        "\n",
        "    raise ValueError(\"The input string must contain at least one capital letter\")\n",
        "\n",
        "print(check_capital(\"uhOh\"))"
      ],
      "metadata": {
        "colab": {
          "base_uri": "https://localhost:8080/"
        },
        "id": "XrZDrrWur9RA",
        "outputId": "46e540bb-7c6f-4e22-a9dc-01ca67901170"
      },
      "execution_count": 9,
      "outputs": [
        {
          "output_type": "stream",
          "name": "stdout",
          "text": [
            "True\n"
          ]
        }
      ]
    }
  ],
  "metadata": {
    "kernelspec": {
      "display_name": "Python 3",
      "language": "python",
      "name": "python3"
    },
    "language_info": {
      "codemirror_mode": {
        "name": "ipython",
        "version": 3
      },
      "file_extension": ".py",
      "mimetype": "text/x-python",
      "name": "python",
      "nbconvert_exporter": "python",
      "pygments_lexer": "ipython3",
      "version": "3.7.2"
    },
    "colab": {
      "provenance": []
    }
  },
  "nbformat": 4,
  "nbformat_minor": 0
}