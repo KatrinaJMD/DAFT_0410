{
  "cells": [
    {
      "cell_type": "markdown",
      "metadata": {
        "id": "view-in-github",
        "colab_type": "text"
      },
      "source": [
        "<a href=\"https://colab.research.google.com/github/KatrinaJMD/DAFT_0410/blob/main/challenge_2.ipynb\" target=\"_parent\"><img src=\"https://colab.research.google.com/assets/colab-badge.svg\" alt=\"Open In Colab\"/></a>"
      ]
    },
    {
      "cell_type": "markdown",
      "metadata": {
        "id": "mMDZWRbHA458"
      },
      "source": [
        "## Challenge 2: Sets\n",
        "\n",
        "There are a lot to learn about Python Sets and the information presented in the lesson is limited due to its length. To learn Python Sets in depth you are strongly encouraged to review the W3Schools tutorial on [Python Sets Examples and Methods](https://www.w3schools.com/python/python_sets.asp) before you work on this lab. Some difficult questions in this lab have their solutions in the W3Schools tutorial.\n",
        "\n",
        "#### First, import the Python `random` library."
      ]
    },
    {
      "cell_type": "code",
      "execution_count": 1,
      "metadata": {
        "id": "CHJpWbBLA45_"
      },
      "outputs": [],
      "source": [
        "import random"
      ]
    },
    {
      "cell_type": "markdown",
      "metadata": {
        "id": "ydm57DI5A46A"
      },
      "source": [
        "#### In the cell below, create a list named `sample_list_1` with 80 random values. \n",
        "\n",
        "Requirements:\n",
        "\n",
        "* Each value is an integer falling between 0 and 100.\n",
        "* Each value in the list is unique.\n",
        "\n",
        "Print `sample_list_1` to review its values\n",
        "\n",
        "*Hint: use `random.sample` ([reference](https://docs.python.org/3/library/random.html#random.sample)).*"
      ]
    },
    {
      "cell_type": "code",
      "execution_count": 2,
      "metadata": {
        "id": "MBtVUg9SA46A",
        "colab": {
          "base_uri": "https://localhost:8080/"
        },
        "outputId": "9aef16b5-b9a4-47e0-b33c-01a2e6fb6043"
      },
      "outputs": [
        {
          "output_type": "execute_result",
          "data": {
            "text/plain": [
              "[10,\n",
              " 32,\n",
              " 24,\n",
              " 96,\n",
              " 18,\n",
              " 27,\n",
              " 79,\n",
              " 50,\n",
              " 63,\n",
              " 98,\n",
              " 56,\n",
              " 43,\n",
              " 1,\n",
              " 87,\n",
              " 26,\n",
              " 85,\n",
              " 46,\n",
              " 86,\n",
              " 90,\n",
              " 45,\n",
              " 84,\n",
              " 75,\n",
              " 76,\n",
              " 69,\n",
              " 60,\n",
              " 88,\n",
              " 94,\n",
              " 0,\n",
              " 29,\n",
              " 64,\n",
              " 62,\n",
              " 82,\n",
              " 16,\n",
              " 59,\n",
              " 37,\n",
              " 48,\n",
              " 12,\n",
              " 57,\n",
              " 11,\n",
              " 53,\n",
              " 68,\n",
              " 97,\n",
              " 61,\n",
              " 2,\n",
              " 71,\n",
              " 89,\n",
              " 52,\n",
              " 51,\n",
              " 21,\n",
              " 14,\n",
              " 77,\n",
              " 4,\n",
              " 99,\n",
              " 80,\n",
              " 65,\n",
              " 9,\n",
              " 39,\n",
              " 35,\n",
              " 25,\n",
              " 15,\n",
              " 44,\n",
              " 83,\n",
              " 40,\n",
              " 36,\n",
              " 70,\n",
              " 58,\n",
              " 54,\n",
              " 67,\n",
              " 81,\n",
              " 38,\n",
              " 8,\n",
              " 28,\n",
              " 34,\n",
              " 17,\n",
              " 49,\n",
              " 22,\n",
              " 5,\n",
              " 74,\n",
              " 47,\n",
              " 92]"
            ]
          },
          "metadata": {},
          "execution_count": 2
        }
      ],
      "source": [
        "# Your code here\n",
        "sample_list_1 =  random.sample(range(100), k=80)\n",
        "sample_list_1"
      ]
    },
    {
      "cell_type": "markdown",
      "metadata": {
        "id": "0KHkTy8qA46B"
      },
      "source": [
        "#### Convert `sample_list_1` to a set called `set1`. Print the length of the set. Is its length still 80?"
      ]
    },
    {
      "cell_type": "code",
      "execution_count": 3,
      "metadata": {
        "id": "QqKjT_KJA46B",
        "colab": {
          "base_uri": "https://localhost:8080/"
        },
        "outputId": "5ad7d284-82f8-47b8-beed-0f9ac8803986"
      },
      "outputs": [
        {
          "output_type": "stream",
          "name": "stdout",
          "text": [
            "{0, 1, 2, 4, 5, 8, 9, 10, 11, 12, 14, 15, 16, 17, 18, 21, 22, 24, 25, 26, 27, 28, 29, 32, 34, 35, 36, 37, 38, 39, 40, 43, 44, 45, 46, 47, 48, 49, 50, 51, 52, 53, 54, 56, 57, 58, 59, 60, 61, 62, 63, 64, 65, 67, 68, 69, 70, 71, 74, 75, 76, 77, 79, 80, 81, 82, 83, 84, 85, 86, 87, 88, 89, 90, 92, 94, 96, 97, 98, 99}\n"
          ]
        },
        {
          "output_type": "execute_result",
          "data": {
            "text/plain": [
              "80"
            ]
          },
          "metadata": {},
          "execution_count": 3
        }
      ],
      "source": [
        "# Your code here\n",
        "set1 = set(sample_list_1)\n",
        "print(set1)\n",
        "len(set1)"
      ]
    },
    {
      "cell_type": "markdown",
      "metadata": {
        "id": "9bzHXKa1A46B"
      },
      "source": [
        "#### Create another list named `sample_list_2` with 80 random values.\n",
        "\n",
        "Requirements:\n",
        "\n",
        "* Each value is an integer falling between 0 and 100.\n",
        "* The values in the list don't have to be unique.\n",
        "\n",
        "*Hint: Use a FOR loop.*"
      ]
    },
    {
      "cell_type": "code",
      "execution_count": 4,
      "metadata": {
        "id": "GB-Dkwl2A46B",
        "colab": {
          "base_uri": "https://localhost:8080/"
        },
        "outputId": "72e46a58-8fad-4b4d-a9ec-858c1147246f"
      },
      "outputs": [
        {
          "output_type": "stream",
          "name": "stdout",
          "text": [
            "[64, 43, 16, 3, 54, 29, 100, 8, 9, 64, 32, 46, 97, 0, 70, 55, 21, 52, 68, 54, 83, 29, 66, 66, 82, 12, 68, 95, 78, 81, 99, 15, 69, 50, 55, 39, 42, 57, 9, 43, 43, 33, 5, 19, 4, 91, 35, 73, 76, 70, 14, 30, 60, 13, 11, 56, 58, 89, 66, 4, 68, 47, 96, 87, 65, 26, 78, 67, 1, 21, 36, 97, 59, 65, 70, 64, 51, 89, 54, 65]\n"
          ]
        }
      ],
      "source": [
        "# Your code here\n",
        "sample_list_2 = []\n",
        "\n",
        "for i in range(80):\n",
        "    x = random.randint(0,100)\n",
        "    sample_list_2.append(x)\n",
        "\n",
        "print(sample_list_2)"
      ]
    },
    {
      "cell_type": "markdown",
      "metadata": {
        "id": "kXhRdhpVA46C"
      },
      "source": [
        "#### Convert `sample_list_2` to a set called `set2`. Print the length of the set. Is its length still 80?"
      ]
    },
    {
      "cell_type": "code",
      "execution_count": 5,
      "metadata": {
        "id": "lIMLn3tyA46C",
        "colab": {
          "base_uri": "https://localhost:8080/"
        },
        "outputId": "8e146a94-c028-400e-cbc0-7a007396b981"
      },
      "outputs": [
        {
          "output_type": "stream",
          "name": "stdout",
          "text": [
            "{0, 1, 3, 4, 5, 8, 9, 11, 12, 13, 14, 15, 16, 19, 21, 26, 29, 30, 32, 33, 35, 36, 39, 42, 43, 46, 47, 50, 51, 52, 54, 55, 56, 57, 58, 59, 60, 64, 65, 66, 67, 68, 69, 70, 73, 76, 78, 81, 82, 83, 87, 89, 91, 95, 96, 97, 99, 100}\n"
          ]
        },
        {
          "output_type": "execute_result",
          "data": {
            "text/plain": [
              "58"
            ]
          },
          "metadata": {},
          "execution_count": 5
        }
      ],
      "source": [
        "# Your code here\n",
        "set2 = set(sample_list_2)\n",
        "print(set2)\n",
        "len(set2)"
      ]
    },
    {
      "cell_type": "markdown",
      "metadata": {
        "id": "BOrShgbmA46C"
      },
      "source": [
        "#### Identify the elements present in `set1` but not in `set2`. Assign the elements to a new set named `set3`."
      ]
    },
    {
      "cell_type": "code",
      "execution_count": 6,
      "metadata": {
        "colab": {
          "base_uri": "https://localhost:8080/"
        },
        "id": "715wuwI1A46C",
        "outputId": "3682f1fd-dbbb-4195-d21a-7f2aa82c202e"
      },
      "outputs": [
        {
          "output_type": "stream",
          "name": "stdout",
          "text": [
            "method 1 : [2, 10, 17, 18, 22, 24, 25, 27, 28, 34, 37, 38, 40, 44, 45, 48, 49, 53, 61, 62, 63, 71, 74, 75, 77, 79, 80, 84, 85, 86, 88, 90, 92, 94, 98]\n",
            "method 2 : {2, 10, 17, 18, 22, 24, 25, 27, 28, 34, 37, 38, 40, 44, 45, 48, 49, 53, 61, 62, 63, 71, 74, 75, 77, 79, 80, 84, 85, 86, 88, 90, 92, 94, 98}\n",
            "method 3 : {2, 10, 17, 18, 22, 24, 25, 27, 28, 34, 37, 38, 40, 44, 45, 48, 49, 53, 61, 62, 63, 71, 74, 75, 77, 79, 80, 84, 85, 86, 88, 90, 92, 94, 98}\n",
            "N° of elements in set1 that cannot be found on set2 : 35\n"
          ]
        }
      ],
      "source": [
        "# Your code here\n",
        "# --------------\n",
        "\n",
        "# method 1\n",
        "set3 = []\n",
        "\n",
        "for i in set1:\n",
        "    if i not in set2:\n",
        "        set3.append(i)\n",
        "print(f\"method 1 : {set3}\")\n",
        "\n",
        "# method 2\n",
        "set3_ = set1.difference(set2)\n",
        "print(f\"method 2 : {set3_}\")\n",
        "\n",
        "# method 3\n",
        "_set3 = set1 - set2\n",
        "print(f\"method 3 : {_set3}\")\n",
        "\n",
        "# BONUS\n",
        "print(f\"N° of elements in set1 that cannot be found on set2 : {len(set3)}\")"
      ]
    },
    {
      "cell_type": "markdown",
      "metadata": {
        "id": "BuLmjSa-A46D"
      },
      "source": [
        "#### Identify the elements present in `set2` but not in `set1`. Assign the elements to a new set named `set4`."
      ]
    },
    {
      "cell_type": "code",
      "execution_count": 7,
      "metadata": {
        "colab": {
          "base_uri": "https://localhost:8080/"
        },
        "id": "6ahrFljgA46D",
        "outputId": "736875fa-b195-4ccf-eedd-9b8139104c2f"
      },
      "outputs": [
        {
          "output_type": "stream",
          "name": "stdout",
          "text": [
            "method 1 : [3, 13, 19, 30, 33, 42, 55, 66, 73, 78, 91, 95, 100]\n",
            "method 2 : [3, 13, 19, 30, 33, 42, 55, 66, 73, 78, 91, 95, 100]\n",
            "method 3 : [3, 13, 19, 30, 33, 42, 55, 66, 73, 78, 91, 95, 100]\n",
            "N° of elements in set2 that cannot be found on set1 : 13\n"
          ]
        }
      ],
      "source": [
        "# Your code here\n",
        "# --------------\n",
        "\n",
        "# method 1\n",
        "set4 = []\n",
        "\n",
        "for i in set2:\n",
        "    if i not in set1:\n",
        "        set4.append(i)\n",
        "print(f\"method 1 : {set4}\")\n",
        "\n",
        "# method 2\n",
        "set4_ = set2.difference(set1)\n",
        "print(f\"method 2 : {sorted(set4_)}\")\n",
        "\n",
        "# method 3\n",
        "_set4 = set2 - set1\n",
        "print(f\"method 3 : {sorted(_set4)}\")\n",
        "\n",
        "# BONUS\n",
        "print(f\"N° of elements in set2 that cannot be found on set1 : {len(set4)}\")"
      ]
    },
    {
      "cell_type": "markdown",
      "metadata": {
        "id": "vIaCEPy8A46D"
      },
      "source": [
        "#### Now Identify the elements shared between `set1` and `set2`. Assign the elements to a new set named `set5`."
      ]
    },
    {
      "cell_type": "code",
      "execution_count": 8,
      "metadata": {
        "colab": {
          "base_uri": "https://localhost:8080/"
        },
        "id": "xltNu0OJA46D",
        "outputId": "6a82f1e5-0509-4f13-cf1e-18f3e2790311"
      },
      "outputs": [
        {
          "output_type": "stream",
          "name": "stdout",
          "text": [
            "method 1 : [0, 1, 4, 5, 8, 9, 11, 12, 14, 15, 16, 21, 26, 29, 32, 35, 36, 39, 43, 46, 47, 50, 51, 52, 54, 56, 57, 58, 59, 60, 64, 65, 67, 68, 69, 70, 76, 81, 82, 83, 87, 89, 96, 97, 99]\n",
            "method 2 : {0, 1, 4, 5, 8, 9, 11, 12, 14, 15, 16, 21, 26, 29, 32, 35, 36, 39, 43, 46, 47, 50, 51, 52, 54, 56, 57, 58, 59, 60, 64, 65, 67, 68, 69, 70, 76, 81, 82, 83, 87, 89, 96, 97, 99}\n",
            "method 3 : {0, 1, 4, 5, 8, 9, 11, 12, 14, 15, 16, 21, 26, 29, 32, 35, 36, 39, 43, 46, 47, 50, 51, 52, 54, 56, 57, 58, 59, 60, 64, 65, 67, 68, 69, 70, 76, 81, 82, 83, 87, 89, 96, 97, 99}\n",
            "N° of elements that can be found on both set1 and set2 : 45\n"
          ]
        }
      ],
      "source": [
        "# Your code here\n",
        "# --------------\n",
        "\n",
        "# method 1\n",
        "set5 = []\n",
        "\n",
        "for i in set1:\n",
        "    if i in set2:\n",
        "        set5.append(i)\n",
        "print(f\"method 1 : {set5}\")\n",
        "\n",
        "# method 2\n",
        "set5_ = set1.intersection(set2)\n",
        "print(f\"method 2 : {set5_}\")\n",
        "\n",
        "# method 3\n",
        "_set5 = set1 & set2\n",
        "print(f\"method 3 : {_set5}\")\n",
        "\n",
        "# BONUS\n",
        "print(f\"N° of elements that can be found on both set1 and set2 : {len(set5)}\")"
      ]
    },
    {
      "cell_type": "markdown",
      "metadata": {
        "id": "XOGgGbuLA46E"
      },
      "source": [
        "#### What is the relationship among the following values:\n",
        "\n",
        "* len(set1)\n",
        "* len(set2)\n",
        "* len(set3)\n",
        "* len(set4)\n",
        "* len(set5)\n",
        "\n",
        "Use a math formular to represent that relationship. Test your formular with Python code."
      ]
    },
    {
      "cell_type": "code",
      "execution_count": 9,
      "metadata": {
        "colab": {
          "base_uri": "https://localhost:8080/"
        },
        "id": "6LLQqqVXA46E",
        "outputId": "51161829-b0fe-47db-f112-12eb76d1a05f"
      },
      "outputs": [
        {
          "output_type": "stream",
          "name": "stdout",
          "text": [
            "80\n",
            "58\n",
            "35\n",
            "13\n",
            "45\n"
          ]
        }
      ],
      "source": [
        "# Your code here\n",
        "print(len(set1))\n",
        "print(len(set2))\n",
        "print(len(set3))\n",
        "print(len(set4))\n",
        "print(len(set5))"
      ]
    },
    {
      "cell_type": "markdown",
      "metadata": {
        "id": "cEFY896LA46E"
      },
      "source": [
        "#### Create an empty set called `set6`."
      ]
    },
    {
      "cell_type": "code",
      "execution_count": 10,
      "metadata": {
        "id": "OQahEmKTA46E"
      },
      "outputs": [],
      "source": [
        "# Your code here\n",
        "set6 = set()"
      ]
    },
    {
      "cell_type": "markdown",
      "metadata": {
        "id": "gv2YLod-A46E"
      },
      "source": [
        "#### Add `set3` and `set5` to `set6` using the Python Set `update` method."
      ]
    },
    {
      "cell_type": "code",
      "execution_count": 11,
      "metadata": {
        "id": "nvGlJyrxA46F",
        "colab": {
          "base_uri": "https://localhost:8080/"
        },
        "outputId": "1d49747c-a572-4c69-f1b0-c3064f075207"
      },
      "outputs": [
        {
          "output_type": "execute_result",
          "data": {
            "text/plain": [
              "{0,\n",
              " 1,\n",
              " 2,\n",
              " 4,\n",
              " 5,\n",
              " 8,\n",
              " 9,\n",
              " 10,\n",
              " 11,\n",
              " 12,\n",
              " 14,\n",
              " 15,\n",
              " 16,\n",
              " 17,\n",
              " 18,\n",
              " 21,\n",
              " 22,\n",
              " 24,\n",
              " 25,\n",
              " 26,\n",
              " 27,\n",
              " 28,\n",
              " 29,\n",
              " 32,\n",
              " 34,\n",
              " 35,\n",
              " 36,\n",
              " 37,\n",
              " 38,\n",
              " 39,\n",
              " 40,\n",
              " 43,\n",
              " 44,\n",
              " 45,\n",
              " 46,\n",
              " 47,\n",
              " 48,\n",
              " 49,\n",
              " 50,\n",
              " 51,\n",
              " 52,\n",
              " 53,\n",
              " 54,\n",
              " 56,\n",
              " 57,\n",
              " 58,\n",
              " 59,\n",
              " 60,\n",
              " 61,\n",
              " 62,\n",
              " 63,\n",
              " 64,\n",
              " 65,\n",
              " 67,\n",
              " 68,\n",
              " 69,\n",
              " 70,\n",
              " 71,\n",
              " 74,\n",
              " 75,\n",
              " 76,\n",
              " 77,\n",
              " 79,\n",
              " 80,\n",
              " 81,\n",
              " 82,\n",
              " 83,\n",
              " 84,\n",
              " 85,\n",
              " 86,\n",
              " 87,\n",
              " 88,\n",
              " 89,\n",
              " 90,\n",
              " 92,\n",
              " 94,\n",
              " 96,\n",
              " 97,\n",
              " 98,\n",
              " 99}"
            ]
          },
          "metadata": {},
          "execution_count": 11
        }
      ],
      "source": [
        "# Your code here\n",
        "set6.update(set3_, set5_)\n",
        "set6"
      ]
    },
    {
      "cell_type": "markdown",
      "metadata": {
        "id": "Mc-d3bnLA46F"
      },
      "source": [
        "#### Check if `set1` and `set6` are equal."
      ]
    },
    {
      "cell_type": "code",
      "execution_count": 12,
      "metadata": {
        "colab": {
          "base_uri": "https://localhost:8080/"
        },
        "id": "jQH2AX2pA46F",
        "outputId": "b470fc23-eb72-47cf-80e2-b2cf5ba91b6e"
      },
      "outputs": [
        {
          "output_type": "execute_result",
          "data": {
            "text/plain": [
              "True"
            ]
          },
          "metadata": {},
          "execution_count": 12
        }
      ],
      "source": [
        "# Your code here\n",
        "set1 == set6"
      ]
    },
    {
      "cell_type": "code",
      "source": [
        "# verify results\n",
        "print(set1)\n",
        "print(set6)"
      ],
      "metadata": {
        "colab": {
          "base_uri": "https://localhost:8080/"
        },
        "id": "vsHD9XEwjgJX",
        "outputId": "ea454045-0c04-49e7-ef89-ae245df0f313"
      },
      "execution_count": 13,
      "outputs": [
        {
          "output_type": "stream",
          "name": "stdout",
          "text": [
            "{0, 1, 2, 4, 5, 8, 9, 10, 11, 12, 14, 15, 16, 17, 18, 21, 22, 24, 25, 26, 27, 28, 29, 32, 34, 35, 36, 37, 38, 39, 40, 43, 44, 45, 46, 47, 48, 49, 50, 51, 52, 53, 54, 56, 57, 58, 59, 60, 61, 62, 63, 64, 65, 67, 68, 69, 70, 71, 74, 75, 76, 77, 79, 80, 81, 82, 83, 84, 85, 86, 87, 88, 89, 90, 92, 94, 96, 97, 98, 99}\n",
            "{0, 1, 2, 4, 5, 8, 9, 10, 11, 12, 14, 15, 16, 17, 18, 21, 22, 24, 25, 26, 27, 28, 29, 32, 34, 35, 36, 37, 38, 39, 40, 43, 44, 45, 46, 47, 48, 49, 50, 51, 52, 53, 54, 56, 57, 58, 59, 60, 61, 62, 63, 64, 65, 67, 68, 69, 70, 71, 74, 75, 76, 77, 79, 80, 81, 82, 83, 84, 85, 86, 87, 88, 89, 90, 92, 94, 96, 97, 98, 99}\n"
          ]
        }
      ]
    },
    {
      "cell_type": "markdown",
      "metadata": {
        "id": "dEgANnIdA46F"
      },
      "source": [
        "#### Check if `set1` contains `set2` using the Python Set `issubset` method. Then check if `set1` contains `set3`.*"
      ]
    },
    {
      "cell_type": "code",
      "execution_count": 14,
      "metadata": {
        "colab": {
          "base_uri": "https://localhost:8080/"
        },
        "id": "GTzIsxejA46F",
        "outputId": "5dfda88e-6bc6-4ca0-c8e7-75e9fe3ce49c"
      },
      "outputs": [
        {
          "output_type": "stream",
          "name": "stdout",
          "text": [
            "False\n",
            "False\n"
          ]
        }
      ],
      "source": [
        "# Your code here\n",
        "print(set1.issubset(set2))\n",
        "print(set1.issubset(set3_))"
      ]
    },
    {
      "cell_type": "markdown",
      "metadata": {
        "id": "3CqL-hDGA46F"
      },
      "source": [
        "#### Using the Python Set `union` method, aggregate `set3`, `set4`, and `set5`. Then aggregate `set1` and `set2`. \n",
        "\n",
        "#### Check if the aggregated values are equal."
      ]
    },
    {
      "cell_type": "code",
      "execution_count": 15,
      "metadata": {
        "colab": {
          "base_uri": "https://localhost:8080/"
        },
        "id": "8y12oszBA46G",
        "outputId": "90f1313a-c650-45c1-ad9a-52d34043fc74"
      },
      "outputs": [
        {
          "output_type": "stream",
          "name": "stdout",
          "text": [
            "N° of values in set3 : 35\n",
            "{2, 10, 17, 18, 22, 24, 25, 27, 28, 34, 37, 38, 40, 44, 45, 48, 49, 53, 61, 62, 63, 71, 74, 75, 77, 79, 80, 84, 85, 86, 88, 90, 92, 94, 98}\n",
            "\n",
            "N° of values in set3 : 35\n",
            "{2, 10, 17, 18, 22, 24, 25, 27, 28, 34, 37, 38, 40, 44, 45, 48, 49, 53, 61, 62, 63, 71, 74, 75, 77, 79, 80, 84, 85, 86, 88, 90, 92, 94, 98}\n"
          ]
        }
      ],
      "source": [
        "# Your code here\n",
        "set3_.union(set4_, set5_)\n",
        "print(f\"N° of values in set3 : {len(set3_)}\")\n",
        "print(set3_)\n",
        "\n",
        "set3_.union(set1, set2)\n",
        "print(f\"\\nN° of values in set3 : {len(set3_)}\")\n",
        "print(set3_)"
      ]
    },
    {
      "cell_type": "markdown",
      "metadata": {
        "id": "z0cELrw6A46G"
      },
      "source": [
        "#### Using the `pop` method, remove the first element from `set1`."
      ]
    },
    {
      "cell_type": "code",
      "execution_count": 16,
      "metadata": {
        "colab": {
          "base_uri": "https://localhost:8080/"
        },
        "id": "0pDoj2yeA46G",
        "outputId": "dc8cf863-cfc3-4cbd-eb50-14d183f2d15b"
      },
      "outputs": [
        {
          "output_type": "stream",
          "name": "stdout",
          "text": [
            "N° of values in set1 before alteration : 80\n",
            "{0, 1, 2, 4, 5, 8, 9, 10, 11, 12, 14, 15, 16, 17, 18, 21, 22, 24, 25, 26, 27, 28, 29, 32, 34, 35, 36, 37, 38, 39, 40, 43, 44, 45, 46, 47, 48, 49, 50, 51, 52, 53, 54, 56, 57, 58, 59, 60, 61, 62, 63, 64, 65, 67, 68, 69, 70, 71, 74, 75, 76, 77, 79, 80, 81, 82, 83, 84, 85, 86, 87, 88, 89, 90, 92, 94, 96, 97, 98, 99}\n",
            "\n",
            "N° of values in set1 after alteration : 79\n",
            "{1, 2, 4, 5, 8, 9, 10, 11, 12, 14, 15, 16, 17, 18, 21, 22, 24, 25, 26, 27, 28, 29, 32, 34, 35, 36, 37, 38, 39, 40, 43, 44, 45, 46, 47, 48, 49, 50, 51, 52, 53, 54, 56, 57, 58, 59, 60, 61, 62, 63, 64, 65, 67, 68, 69, 70, 71, 74, 75, 76, 77, 79, 80, 81, 82, 83, 84, 85, 86, 87, 88, 89, 90, 92, 94, 96, 97, 98, 99}\n"
          ]
        }
      ],
      "source": [
        "# Your code here\n",
        "print(f\"N° of values in set1 before alteration : {len(set1)}\")\n",
        "print(set1)\n",
        "set1.pop()\n",
        "print(f\"\\nN° of values in set1 after alteration : {len(set1)}\")\n",
        "print(set1)"
      ]
    },
    {
      "cell_type": "markdown",
      "metadata": {
        "id": "2Fcmjj1HA46G"
      },
      "source": [
        "#### Remove every element in the following list from `set1` if they are present in the set. Print the remaining elements.\n",
        "\n",
        "```\n",
        "list_to_remove = [1, 9, 11, 19, 21, 29, 31, 39, 41, 49, 51, 59, 61, 69, 71, 79, 81, 89, 91, 99]\n",
        "```"
      ]
    },
    {
      "cell_type": "code",
      "execution_count": 17,
      "metadata": {
        "colab": {
          "base_uri": "https://localhost:8080/"
        },
        "id": "Bv5dii-GA46G",
        "outputId": "d1c15d9a-bce6-457e-8f0d-2cc43ea1e38d"
      },
      "outputs": [
        {
          "output_type": "stream",
          "name": "stdout",
          "text": [
            "method 1 : [2, 4, 5, 8, 10, 12, 14, 15, 16, 17, 18, 22, 24, 25, 26, 27, 28, 32, 34, 35, 36, 37, 38, 40, 43, 44, 45, 46, 47, 48, 50, 52, 53, 54, 56, 57, 58, 60, 62, 63, 64, 65, 67, 68, 70, 74, 75, 76, 77, 80, 82, 83, 84, 85, 86, 87, 88, 90, 92, 94, 96, 97, 98]\n",
            "method 2 : {2, 4, 5, 8, 10, 12, 14, 15, 16, 17, 18, 22, 24, 25, 26, 27, 28, 32, 34, 35, 36, 37, 38, 40, 43, 44, 45, 46, 47, 48, 50, 52, 53, 54, 56, 57, 58, 60, 62, 63, 64, 65, 67, 68, 70, 74, 75, 76, 77, 80, 82, 83, 84, 85, 86, 87, 88, 90, 92, 94, 96, 97, 98}\n",
            "method 3 : {2, 4, 5, 8, 10, 12, 14, 15, 16, 17, 18, 22, 24, 25, 26, 27, 28, 32, 34, 35, 36, 37, 38, 40, 43, 44, 45, 46, 47, 48, 50, 52, 53, 54, 56, 57, 58, 60, 62, 63, 64, 65, 67, 68, 70, 74, 75, 76, 77, 80, 82, 83, 84, 85, 86, 87, 88, 90, 92, 94, 96, 97, 98}\n",
            "N° of values in set1 after removing values from the list : 63\n"
          ]
        }
      ],
      "source": [
        "# Your code here\n",
        "list_to_remove = [1, 9, 11, 19, 21, 29, 31, 39, 41, 49, 51, 59, 61, 69, 71, 79, 81, 89, 91, 99]\n",
        "\n",
        "# method 1\n",
        "_set1_ = []\n",
        "for i in set1:\n",
        "    if i not in list_to_remove:\n",
        "        _set1_.append(i)\n",
        "print(f\"method 1 : {_set1_}\")\n",
        "\n",
        "# method 2\n",
        "list_to_remove = set(list_to_remove)\n",
        "\n",
        "_set1 = set1\n",
        "_set1 = _set1 - list_to_remove\n",
        "print(f\"method 2 : {_set1}\")\n",
        "\n",
        "# method 3\n",
        "set1 = {i for i in set1 if i not in list_to_remove}\n",
        "print(f\"method 3 : {set1}\")     \n",
        "\n",
        "print(f\"N° of values in set1 after removing values from the list : {len(set1)}\")"
      ]
    }
  ],
  "metadata": {
    "kernelspec": {
      "display_name": "Python 3",
      "language": "python",
      "name": "python3"
    },
    "language_info": {
      "codemirror_mode": {
        "name": "ipython",
        "version": 3
      },
      "file_extension": ".py",
      "mimetype": "text/x-python",
      "name": "python",
      "nbconvert_exporter": "python",
      "pygments_lexer": "ipython3",
      "version": "3.7.2"
    },
    "colab": {
      "provenance": [],
      "include_colab_link": true
    }
  },
  "nbformat": 4,
  "nbformat_minor": 0
}