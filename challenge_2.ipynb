{
  "cells": [
    {
      "cell_type": "markdown",
      "metadata": {
        "id": "view-in-github",
        "colab_type": "text"
      },
      "source": [
        "<a href=\"https://colab.research.google.com/github/KatrinaJMD/DAFT_0410/blob/main/challenge_2.ipynb\" target=\"_parent\"><img src=\"https://colab.research.google.com/assets/colab-badge.svg\" alt=\"Open In Colab\"/></a>"
      ]
    },
    {
      "cell_type": "markdown",
      "metadata": {
        "id": "mMDZWRbHA458"
      },
      "source": [
        "## Challenge 2: Sets\n",
        "\n",
        "There are a lot to learn about Python Sets and the information presented in the lesson is limited due to its length. To learn Python Sets in depth you are strongly encouraged to review the W3Schools tutorial on [Python Sets Examples and Methods](https://www.w3schools.com/python/python_sets.asp) before you work on this lab. Some difficult questions in this lab have their solutions in the W3Schools tutorial.\n",
        "\n",
        "#### First, import the Python `random` library."
      ]
    },
    {
      "cell_type": "code",
      "execution_count": 1,
      "metadata": {
        "id": "CHJpWbBLA45_"
      },
      "outputs": [],
      "source": [
        "import random"
      ]
    },
    {
      "cell_type": "markdown",
      "metadata": {
        "id": "ydm57DI5A46A"
      },
      "source": [
        "#### In the cell below, create a list named `sample_list_1` with 80 random values. \n",
        "\n",
        "Requirements:\n",
        "\n",
        "* Each value is an integer falling between 0 and 100.\n",
        "* Each value in the list is unique.\n",
        "\n",
        "Print `sample_list_1` to review its values\n",
        "\n",
        "*Hint: use `random.sample` ([reference](https://docs.python.org/3/library/random.html#random.sample)).*"
      ]
    },
    {
      "cell_type": "code",
      "execution_count": null,
      "metadata": {
        "id": "MBtVUg9SA46A"
      },
      "outputs": [],
      "source": [
        "# Your code here\n",
        "sample_list_1 =  random.sample(range(100), k=80)\n",
        "sample_list_1"
      ]
    },
    {
      "cell_type": "markdown",
      "metadata": {
        "id": "0KHkTy8qA46B"
      },
      "source": [
        "#### Convert `sample_list_1` to a set called `set1`. Print the length of the set. Is its length still 80?"
      ]
    },
    {
      "cell_type": "code",
      "execution_count": null,
      "metadata": {
        "id": "QqKjT_KJA46B"
      },
      "outputs": [],
      "source": [
        "# Your code here\n",
        "set1 = set(sample_list_1)\n",
        "print(set1)\n",
        "len(set1)"
      ]
    },
    {
      "cell_type": "markdown",
      "metadata": {
        "id": "9bzHXKa1A46B"
      },
      "source": [
        "#### Create another list named `sample_list_2` with 80 random values.\n",
        "\n",
        "Requirements:\n",
        "\n",
        "* Each value is an integer falling between 0 and 100.\n",
        "* The values in the list don't have to be unique.\n",
        "\n",
        "*Hint: Use a FOR loop.*"
      ]
    },
    {
      "cell_type": "code",
      "execution_count": null,
      "metadata": {
        "id": "GB-Dkwl2A46B"
      },
      "outputs": [],
      "source": [
        "# Your code here\n",
        "sample_list_2 = []\n",
        "\n",
        "for i in range(80):\n",
        "    x = random.randint(0,100)\n",
        "    sample_list_2.append(x)\n",
        "\n",
        "print(sample_list_2)"
      ]
    },
    {
      "cell_type": "markdown",
      "metadata": {
        "id": "kXhRdhpVA46C"
      },
      "source": [
        "#### Convert `sample_list_2` to a set called `set2`. Print the length of the set. Is its length still 80?"
      ]
    },
    {
      "cell_type": "code",
      "execution_count": null,
      "metadata": {
        "id": "lIMLn3tyA46C"
      },
      "outputs": [],
      "source": [
        "# Your code here\n",
        "set2 = set(sample_list_2)\n",
        "print(set2)\n",
        "len(set2)"
      ]
    },
    {
      "cell_type": "markdown",
      "metadata": {
        "id": "BOrShgbmA46C"
      },
      "source": [
        "#### Identify the elements present in `set1` but not in `set2`. Assign the elements to a new set named `set3`."
      ]
    },
    {
      "cell_type": "code",
      "execution_count": 6,
      "metadata": {
        "colab": {
          "base_uri": "https://localhost:8080/"
        },
        "id": "715wuwI1A46C",
        "outputId": "15f9357e-eeec-4214-b74e-2f32c2e15eae"
      },
      "outputs": [
        {
          "output_type": "stream",
          "name": "stdout",
          "text": [
            "method 1 : [6, 9, 10, 11, 17, 18, 21, 23, 24, 31, 37, 38, 39, 41, 45, 47, 50, 59, 61, 64, 65, 67, 68, 71, 75, 76, 78, 80, 81, 82, 88, 89, 95]\n",
            "method 2 : {6, 9, 10, 11, 17, 18, 21, 23, 24, 31, 37, 38, 39, 41, 45, 47, 50, 59, 61, 64, 65, 67, 68, 71, 75, 76, 78, 80, 81, 82, 88, 89, 95}\n",
            "method 3 : {6, 9, 10, 11, 17, 18, 21, 23, 24, 31, 37, 38, 39, 41, 45, 47, 50, 59, 61, 64, 65, 67, 68, 71, 75, 76, 78, 80, 81, 82, 88, 89, 95}\n",
            "N° of elements in set1 that cannot be found on set2 : 33\n"
          ]
        }
      ],
      "source": [
        "# Your code here\n",
        "# --------------\n",
        "\n",
        "# method 1\n",
        "set3 = []\n",
        "\n",
        "for i in set1:\n",
        "    if i not in set2:\n",
        "        set3.append(i)\n",
        "print(f\"method 1 : {set3}\")\n",
        "\n",
        "# method 2\n",
        "set3_ = set1.difference(set2)\n",
        "print(f\"method 2 : {set3_}\")\n",
        "\n",
        "# method 3\n",
        "_set3 = set1 - set2\n",
        "print(f\"method 3 : {_set3}\")\n",
        "\n",
        "# BONUS\n",
        "print(f\"N° of elements in set1 that cannot be found on set2 : {len(set3)}\")"
      ]
    },
    {
      "cell_type": "markdown",
      "metadata": {
        "id": "BuLmjSa-A46D"
      },
      "source": [
        "#### Identify the elements present in `set2` but not in `set1`. Assign the elements to a new set named `set4`."
      ]
    },
    {
      "cell_type": "code",
      "execution_count": 7,
      "metadata": {
        "colab": {
          "base_uri": "https://localhost:8080/"
        },
        "id": "6ahrFljgA46D",
        "outputId": "7d62c79a-81bd-4294-a230-f8f6c419d78e"
      },
      "outputs": [
        {
          "output_type": "stream",
          "name": "stdout",
          "text": [
            "method 1 : [2, 4, 13, 14, 25, 27, 29, 33, 49, 62, 87, 94]\n",
            "method 2 : [2, 4, 13, 14, 25, 27, 29, 33, 49, 62, 87, 94]\n",
            "method 3 : [2, 4, 13, 14, 25, 27, 29, 33, 49, 62, 87, 94]\n",
            "N° of elements in set2 that cannot be found on set1 : 12\n"
          ]
        }
      ],
      "source": [
        "# Your code here\n",
        "# --------------\n",
        "\n",
        "# method 1\n",
        "set4 = []\n",
        "\n",
        "for i in set2:\n",
        "    if i not in set1:\n",
        "        set4.append(i)\n",
        "print(f\"method 1 : {set4}\")\n",
        "\n",
        "# method 2\n",
        "set4_ = set2.difference(set1)\n",
        "print(f\"method 2 : {sorted(set4_)}\")\n",
        "\n",
        "# method 3\n",
        "_set4 = set2 - set1\n",
        "print(f\"method 3 : {sorted(_set4)}\")\n",
        "\n",
        "# BONUS\n",
        "print(f\"N° of elements in set2 that cannot be found on set1 : {len(set4)}\")"
      ]
    },
    {
      "cell_type": "markdown",
      "metadata": {
        "id": "vIaCEPy8A46D"
      },
      "source": [
        "#### Now Identify the elements shared between `set1` and `set2`. Assign the elements to a new set named `set5`."
      ]
    },
    {
      "cell_type": "code",
      "execution_count": 8,
      "metadata": {
        "colab": {
          "base_uri": "https://localhost:8080/"
        },
        "id": "xltNu0OJA46D",
        "outputId": "b7b964bf-52e2-42c5-b143-cb4caa0912fd"
      },
      "outputs": [
        {
          "output_type": "stream",
          "name": "stdout",
          "text": [
            "method 1 : [0, 3, 5, 7, 8, 12, 19, 20, 22, 26, 28, 30, 34, 35, 36, 40, 42, 44, 46, 48, 51, 53, 54, 55, 56, 58, 60, 63, 66, 69, 70, 72, 73, 74, 77, 79, 83, 84, 85, 86, 91, 92, 93, 96, 97, 98, 99]\n",
            "method 2 : {0, 3, 5, 7, 8, 12, 19, 20, 22, 26, 28, 30, 34, 35, 36, 40, 42, 44, 46, 48, 51, 53, 54, 55, 56, 58, 60, 63, 66, 69, 70, 72, 73, 74, 77, 79, 83, 84, 85, 86, 91, 92, 93, 96, 97, 98, 99}\n",
            "method 3 : {0, 3, 5, 7, 8, 12, 19, 20, 22, 26, 28, 30, 34, 35, 36, 40, 42, 44, 46, 48, 51, 53, 54, 55, 56, 58, 60, 63, 66, 69, 70, 72, 73, 74, 77, 79, 83, 84, 85, 86, 91, 92, 93, 96, 97, 98, 99}\n",
            "N° of elements that can be found on both set1 and set2 : 47\n"
          ]
        }
      ],
      "source": [
        "# Your code here\n",
        "# --------------\n",
        "\n",
        "# method 1\n",
        "set5 = []\n",
        "\n",
        "for i in set1:\n",
        "    if i in set2:\n",
        "        set5.append(i)\n",
        "print(f\"method 1 : {set5}\")\n",
        "\n",
        "# method 2\n",
        "set5_ = set1.intersection(set2)\n",
        "print(f\"method 2 : {set5_}\")\n",
        "\n",
        "# method 3\n",
        "_set5 = set1 & set2\n",
        "print(f\"method 3 : {_set5}\")\n",
        "\n",
        "# BONUS\n",
        "print(f\"N° of elements that can be found on both set1 and set2 : {len(set5)}\")"
      ]
    },
    {
      "cell_type": "markdown",
      "metadata": {
        "id": "XOGgGbuLA46E"
      },
      "source": [
        "#### What is the relationship among the following values:\n",
        "\n",
        "* len(set1)\n",
        "* len(set2)\n",
        "* len(set3)\n",
        "* len(set4)\n",
        "* len(set5)\n",
        "\n",
        "Use a math formular to represent that relationship. Test your formular with Python code."
      ]
    },
    {
      "cell_type": "code",
      "execution_count": 9,
      "metadata": {
        "colab": {
          "base_uri": "https://localhost:8080/"
        },
        "id": "6LLQqqVXA46E",
        "outputId": "8d9d2c32-749d-42d4-d8b6-b9ccb95774b0"
      },
      "outputs": [
        {
          "output_type": "stream",
          "name": "stdout",
          "text": [
            "80\n",
            "59\n",
            "33\n",
            "12\n",
            "47\n"
          ]
        }
      ],
      "source": [
        "# Your code here\n",
        "print(len(set1))\n",
        "print(len(set2))\n",
        "print(len(set3))\n",
        "print(len(set4))\n",
        "print(len(set5))"
      ]
    },
    {
      "cell_type": "markdown",
      "metadata": {
        "id": "cEFY896LA46E"
      },
      "source": [
        "#### Create an empty set called `set6`."
      ]
    },
    {
      "cell_type": "code",
      "execution_count": 10,
      "metadata": {
        "id": "OQahEmKTA46E"
      },
      "outputs": [],
      "source": [
        "# Your code here\n",
        "set6 = set()"
      ]
    },
    {
      "cell_type": "markdown",
      "metadata": {
        "id": "gv2YLod-A46E"
      },
      "source": [
        "#### Add `set3` and `set5` to `set6` using the Python Set `update` method."
      ]
    },
    {
      "cell_type": "code",
      "execution_count": null,
      "metadata": {
        "id": "nvGlJyrxA46F"
      },
      "outputs": [],
      "source": [
        "# Your code here\n",
        "set6.update(set3_, set5_)\n",
        "set6"
      ]
    },
    {
      "cell_type": "markdown",
      "metadata": {
        "id": "Mc-d3bnLA46F"
      },
      "source": [
        "#### Check if `set1` and `set6` are equal."
      ]
    },
    {
      "cell_type": "code",
      "execution_count": 12,
      "metadata": {
        "colab": {
          "base_uri": "https://localhost:8080/"
        },
        "id": "jQH2AX2pA46F",
        "outputId": "ae8b217b-4148-44cf-de23-75907f4c5a4b"
      },
      "outputs": [
        {
          "output_type": "execute_result",
          "data": {
            "text/plain": [
              "True"
            ]
          },
          "metadata": {},
          "execution_count": 12
        }
      ],
      "source": [
        "# Your code here\n",
        "set1 == set6"
      ]
    },
    {
      "cell_type": "code",
      "source": [
        "# verify results\n",
        "print(set1)\n",
        "print(set6)"
      ],
      "metadata": {
        "colab": {
          "base_uri": "https://localhost:8080/"
        },
        "id": "vsHD9XEwjgJX",
        "outputId": "6d931dc0-58b9-49cf-af04-e81d79a13136"
      },
      "execution_count": 13,
      "outputs": [
        {
          "output_type": "stream",
          "name": "stdout",
          "text": [
            "{0, 3, 5, 6, 7, 8, 9, 10, 11, 12, 17, 18, 19, 20, 21, 22, 23, 24, 26, 28, 30, 31, 34, 35, 36, 37, 38, 39, 40, 41, 42, 44, 45, 46, 47, 48, 50, 51, 53, 54, 55, 56, 58, 59, 60, 61, 63, 64, 65, 66, 67, 68, 69, 70, 71, 72, 73, 74, 75, 76, 77, 78, 79, 80, 81, 82, 83, 84, 85, 86, 88, 89, 91, 92, 93, 95, 96, 97, 98, 99}\n",
            "{0, 3, 5, 6, 7, 8, 9, 10, 11, 12, 17, 18, 19, 20, 21, 22, 23, 24, 26, 28, 30, 31, 34, 35, 36, 37, 38, 39, 40, 41, 42, 44, 45, 46, 47, 48, 50, 51, 53, 54, 55, 56, 58, 59, 60, 61, 63, 64, 65, 66, 67, 68, 69, 70, 71, 72, 73, 74, 75, 76, 77, 78, 79, 80, 81, 82, 83, 84, 85, 86, 88, 89, 91, 92, 93, 95, 96, 97, 98, 99}\n"
          ]
        }
      ]
    },
    {
      "cell_type": "markdown",
      "metadata": {
        "id": "dEgANnIdA46F"
      },
      "source": [
        "#### Check if `set1` contains `set2` using the Python Set `issubset` method. Then check if `set1` contains `set3`.*"
      ]
    },
    {
      "cell_type": "code",
      "execution_count": 14,
      "metadata": {
        "colab": {
          "base_uri": "https://localhost:8080/"
        },
        "id": "GTzIsxejA46F",
        "outputId": "59bb0080-ac42-4c38-c4ef-6723eec8c8a9"
      },
      "outputs": [
        {
          "output_type": "stream",
          "name": "stdout",
          "text": [
            "False\n",
            "False\n"
          ]
        }
      ],
      "source": [
        "# Your code here\n",
        "print(set1.issubset(set2))\n",
        "print(set1.issubset(set3_))"
      ]
    },
    {
      "cell_type": "markdown",
      "metadata": {
        "id": "3CqL-hDGA46F"
      },
      "source": [
        "#### Using the Python Set `union` method, aggregate `set3`, `set4`, and `set5`. Then aggregate `set1` and `set2`. \n",
        "\n",
        "#### Check if the aggregated values are equal."
      ]
    },
    {
      "cell_type": "code",
      "execution_count": 15,
      "metadata": {
        "colab": {
          "base_uri": "https://localhost:8080/"
        },
        "id": "8y12oszBA46G",
        "outputId": "678d18e4-932f-43d0-f546-7394dae11a26"
      },
      "outputs": [
        {
          "output_type": "stream",
          "name": "stdout",
          "text": [
            "N° of values in set3 : 33\n",
            "{6, 9, 10, 11, 17, 18, 21, 23, 24, 31, 37, 38, 39, 41, 45, 47, 50, 59, 61, 64, 65, 67, 68, 71, 75, 76, 78, 80, 81, 82, 88, 89, 95}\n",
            "\n",
            "N° of values in set3 : 33\n",
            "{6, 9, 10, 11, 17, 18, 21, 23, 24, 31, 37, 38, 39, 41, 45, 47, 50, 59, 61, 64, 65, 67, 68, 71, 75, 76, 78, 80, 81, 82, 88, 89, 95}\n"
          ]
        }
      ],
      "source": [
        "# Your code here\n",
        "set3_.union(set4_, set5_)\n",
        "print(f\"N° of values in set3 : {len(set3_)}\")\n",
        "print(set3_)\n",
        "\n",
        "set3_.union(set1, set2)\n",
        "print(f\"\\nN° of values in set3 : {len(set3_)}\")\n",
        "print(set3_)"
      ]
    },
    {
      "cell_type": "markdown",
      "metadata": {
        "id": "z0cELrw6A46G"
      },
      "source": [
        "#### Using the `pop` method, remove the first element from `set1`."
      ]
    },
    {
      "cell_type": "code",
      "execution_count": 16,
      "metadata": {
        "colab": {
          "base_uri": "https://localhost:8080/"
        },
        "id": "0pDoj2yeA46G",
        "outputId": "139a5f28-9212-433a-f0f8-7afdd1dda30a"
      },
      "outputs": [
        {
          "output_type": "stream",
          "name": "stdout",
          "text": [
            "N° of values in set1 before alteration : 80\n",
            "{0, 3, 5, 6, 7, 8, 9, 10, 11, 12, 17, 18, 19, 20, 21, 22, 23, 24, 26, 28, 30, 31, 34, 35, 36, 37, 38, 39, 40, 41, 42, 44, 45, 46, 47, 48, 50, 51, 53, 54, 55, 56, 58, 59, 60, 61, 63, 64, 65, 66, 67, 68, 69, 70, 71, 72, 73, 74, 75, 76, 77, 78, 79, 80, 81, 82, 83, 84, 85, 86, 88, 89, 91, 92, 93, 95, 96, 97, 98, 99}\n",
            "\n",
            "N° of values in set1 after alteration : 79\n",
            "{3, 5, 6, 7, 8, 9, 10, 11, 12, 17, 18, 19, 20, 21, 22, 23, 24, 26, 28, 30, 31, 34, 35, 36, 37, 38, 39, 40, 41, 42, 44, 45, 46, 47, 48, 50, 51, 53, 54, 55, 56, 58, 59, 60, 61, 63, 64, 65, 66, 67, 68, 69, 70, 71, 72, 73, 74, 75, 76, 77, 78, 79, 80, 81, 82, 83, 84, 85, 86, 88, 89, 91, 92, 93, 95, 96, 97, 98, 99}\n"
          ]
        }
      ],
      "source": [
        "# Your code here\n",
        "print(f\"N° of values in set1 before alteration : {len(set1)}\")\n",
        "print(set1)\n",
        "set1.pop()\n",
        "print(f\"\\nN° of values in set1 after alteration : {len(set1)}\")\n",
        "print(set1)"
      ]
    },
    {
      "cell_type": "markdown",
      "metadata": {
        "id": "2Fcmjj1HA46G"
      },
      "source": [
        "#### Remove every element in the following list from `set1` if they are present in the set. Print the remaining elements.\n",
        "\n",
        "```\n",
        "list_to_remove = [1, 9, 11, 19, 21, 29, 31, 39, 41, 49, 51, 59, 61, 69, 71, 79, 81, 89, 91, 99]\n",
        "```"
      ]
    },
    {
      "cell_type": "code",
      "execution_count": 17,
      "metadata": {
        "colab": {
          "base_uri": "https://localhost:8080/"
        },
        "id": "Bv5dii-GA46G",
        "outputId": "edd100c2-c25f-49c8-b9ed-d6e54a7f816a"
      },
      "outputs": [
        {
          "output_type": "stream",
          "name": "stdout",
          "text": [
            "method 1 : [3, 5, 6, 7, 8, 10, 12, 17, 18, 20, 22, 23, 24, 26, 28, 30, 34, 35, 36, 37, 38, 40, 42, 44, 45, 46, 47, 48, 50, 53, 54, 55, 56, 58, 60, 63, 64, 65, 66, 67, 68, 70, 72, 73, 74, 75, 76, 77, 78, 80, 82, 83, 84, 85, 86, 88, 92, 93, 95, 96, 97, 98]\n",
            "method 2 : {3, 5, 6, 7, 8, 10, 12, 17, 18, 20, 22, 23, 24, 26, 28, 30, 34, 35, 36, 37, 38, 40, 42, 44, 45, 46, 47, 48, 50, 53, 54, 55, 56, 58, 60, 63, 64, 65, 66, 67, 68, 70, 72, 73, 74, 75, 76, 77, 78, 80, 82, 83, 84, 85, 86, 88, 92, 93, 95, 96, 97, 98}\n",
            "method 3 : {3, 5, 6, 7, 8, 10, 12, 17, 18, 20, 22, 23, 24, 26, 28, 30, 34, 35, 36, 37, 38, 40, 42, 44, 45, 46, 47, 48, 50, 53, 54, 55, 56, 58, 60, 63, 64, 65, 66, 67, 68, 70, 72, 73, 74, 75, 76, 77, 78, 80, 82, 83, 84, 85, 86, 88, 92, 93, 95, 96, 97, 98}\n",
            "N° of values in set1 after removing values from the list : 62\n"
          ]
        }
      ],
      "source": [
        "# Your code here\n",
        "list_to_remove = [1, 9, 11, 19, 21, 29, 31, 39, 41, 49, 51, 59, 61, 69, 71, 79, 81, 89, 91, 99]\n",
        "\n",
        "# method 1\n",
        "_set1_ = []\n",
        "for i in set1:\n",
        "    if i not in list_to_remove:\n",
        "        _set1_.append(i)\n",
        "print(f\"method 1 : {_set1_}\")\n",
        "\n",
        "# method 2\n",
        "list_to_remove = set(list_to_remove)\n",
        "\n",
        "_set1 = set1\n",
        "_set1 = _set1 - list_to_remove\n",
        "print(f\"method 2 : {_set1}\")\n",
        "\n",
        "# method 3\n",
        "set1 = {i for i in set1 if i not in list_to_remove}\n",
        "print(f\"method 3 : {set1}\")     \n",
        "\n",
        "print(f\"N° of values in set1 after removing values from the list : {len(set1)}\")"
      ]
    }
  ],
  "metadata": {
    "kernelspec": {
      "display_name": "Python 3",
      "language": "python",
      "name": "python3"
    },
    "language_info": {
      "codemirror_mode": {
        "name": "ipython",
        "version": 3
      },
      "file_extension": ".py",
      "mimetype": "text/x-python",
      "name": "python",
      "nbconvert_exporter": "python",
      "pygments_lexer": "ipython3",
      "version": "3.7.2"
    },
    "colab": {
      "provenance": [],
      "include_colab_link": true
    }
  },
  "nbformat": 4,
  "nbformat_minor": 0
}