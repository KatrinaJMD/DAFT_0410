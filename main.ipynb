{
  "cells": [
    {
      "cell_type": "markdown",
      "metadata": {
        "id": "view-in-github",
        "colab_type": "text"
      },
      "source": [
        "<a href=\"https://colab.research.google.com/github/KatrinaJMD/DAFT_0410/blob/main/main.ipynb\" target=\"_parent\"><img src=\"https://colab.research.google.com/assets/colab-badge.svg\" alt=\"Open In Colab\"/></a>"
      ]
    },
    {
      "cell_type": "markdown",
      "metadata": {
        "id": "qayiDHhfkCU6"
      },
      "source": [
        "# Before your start:\n",
        "- Read the README.md file\n",
        "- Comment as much as you can and use the resources in the README.md file\n",
        "- Happy learning!"
      ]
    },
    {
      "cell_type": "code",
      "source": [
        "import re"
      ],
      "metadata": {
        "id": "21pEJHfSpjts"
      },
      "execution_count": 9,
      "outputs": []
    },
    {
      "cell_type": "markdown",
      "metadata": {
        "id": "WFoppuRbkCU9"
      },
      "source": [
        "# Challenge 1 - Combining Strings\n",
        "\n",
        "Combining strings is an important skill to acquire. There are multiple ways of combining strings in Python, as well as combining strings with variables. We will explore this in the first challenge. In the cell below, combine the strings in the list and add spaces between the strings (do not add a space after the last string). Insert a period after the last string."
      ]
    },
    {
      "cell_type": "code",
      "execution_count": 10,
      "metadata": {
        "colab": {
          "base_uri": "https://localhost:8080/"
        },
        "id": "8NEzNqZLkCU-",
        "outputId": "85ff20db-35ca-4f59-fe53-c41a26b35f6e"
      },
      "outputs": [
        {
          "output_type": "stream",
          "name": "stdout",
          "text": [
            "Durante un tiempo no estuvo segura de si su marido era su marido.\n"
          ]
        }
      ],
      "source": [
        "str_list = ['Durante', 'un', 'tiempo', 'no', 'estuvo', 'segura', 'de', 'si', 'su', 'marido', 'era', 'su', 'marido']\n",
        "\n",
        "# Your code here:\n",
        "new_string = \" \".join([i for i in str_list]) + \".\"\n",
        "print(new_string)"
      ]
    },
    {
      "cell_type": "markdown",
      "metadata": {
        "id": "COSCCg2WkCU_"
      },
      "source": [
        "In the cell below, use the list of strings to create a grocery list. Start the list with the string `Grocery list: ` and include a comma and a space between each item except for the last one. Include a period at the end. Only include foods in the list that start with the letter 'b' and ensure all foods are lower case."
      ]
    },
    {
      "cell_type": "code",
      "execution_count": 11,
      "metadata": {
        "colab": {
          "base_uri": "https://localhost:8080/"
        },
        "id": "Vs_VRM6JkCVA",
        "outputId": "7c7bc012-521a-4f2d-80c3-b5aa7706f56b"
      },
      "outputs": [
        {
          "output_type": "stream",
          "name": "stdout",
          "text": [
            "Grocery list: bananas, bread, brownie mix, broccoli.\n"
          ]
        }
      ],
      "source": [
        "food_list = ['Bananas', 'Chocolate', 'bread', 'diapers', 'Ice Cream', 'Brownie Mix', 'broccoli']\n",
        "\n",
        "# Your code here:\n",
        "grocery = \"Grocery list: \"+\", \".join([food.lower() for food in food_list if food.lower().startswith(\"b\")])+\".\"\n",
        "print(grocery)"
      ]
    },
    {
      "cell_type": "markdown",
      "metadata": {
        "id": "ZoxZvXJZkCVA"
      },
      "source": [
        "In the cell below, write a function that computes the area of a circle using its radius. Compute the area of the circle and insert the radius and the area between the two strings. Make sure to include spaces between the variable and the strings. \n",
        "\n",
        "Note: You can use the techniques we have learned so far or use f-strings. F-strings allow us to embed code inside strings. You can read more about f-strings [here](https://www.python.org/dev/peps/pep-0498/)."
      ]
    },
    {
      "cell_type": "code",
      "execution_count": 12,
      "metadata": {
        "colab": {
          "base_uri": "https://localhost:8080/"
        },
        "id": "8EJ4WDQxkCVA",
        "outputId": "86c027b1-52c6-4a2f-d79b-803dafbfc427"
      },
      "outputs": [
        {
          "output_type": "stream",
          "name": "stdout",
          "text": [
            "The area of this circle with a radius of 4.5 is 63.61725123519331\n"
          ]
        }
      ],
      "source": [
        "import math\n",
        "\n",
        "string1 = \"The area of the circle with radius:\"\n",
        "string2  = \"is:\"\n",
        "radius = 4.5\n",
        "\n",
        "def area(x, pi = math.pi):\n",
        "    \"\"\"\n",
        "    This function takes a radius and returns the area of a circle. \n",
        "    We also pass a default value for pi.\n",
        "    \n",
        "    Input: Float (and default value for pi)\n",
        "    Output: Float\n",
        "    \n",
        "    Sample input: 5.0\n",
        "    Sample Output: 78.53981633\n",
        "    \"\"\"\n",
        "    \n",
        "    # Your code here:\n",
        "    a = pi * x**2\n",
        "    print(f\"The area of this circle with a radius of {radius} is {a}\")\n",
        "    \n",
        "# Your output string here:\n",
        "area(radius)"
      ]
    },
    {
      "cell_type": "markdown",
      "metadata": {
        "id": "saFJxJjokCVB"
      },
      "source": [
        "# Challenge 2 - Splitting Strings\n",
        "\n",
        "We have first looked at combining strings into one long string. There are times where we need to do the opposite and split the string into smaller components for further analysis. \n",
        "\n",
        "In the cell below, split the string into a list of strings using the space delimiter. Count the frequency of each word in the string in a dictionary. Strip the periods, line breaks and commas from the text. Make sure to remove empty strings from your dictionary."
      ]
    },
    {
      "cell_type": "code",
      "execution_count": 13,
      "metadata": {
        "id": "4_G8nfVOkCVB"
      },
      "outputs": [],
      "source": [
        "poem = \"\"\"Some say the world will end in fire,\n",
        "Some say in ice.\n",
        "From what I’ve tasted of desire\n",
        "I hold with those who favor fire.\n",
        "But if it had to perish twice,\n",
        "I think I know enough of hate\n",
        "To say that for destruction ice\n",
        "Is also great\n",
        "And would suffice.\"\"\"\n",
        "\n",
        "# Your code here:"
      ]
    },
    {
      "cell_type": "code",
      "source": [
        "words = re.split(\"[ ,.\\n]\", poem)\n",
        "words = [word for word in words if word != '']\n",
        "print(f\"Step 1: removing delimiters, punctuations, and empty strings\")\n",
        "print(\"-\" * 60)\n",
        "print(words)\n",
        "\n",
        "from collections import Counter\n",
        "word_freq = {}\n",
        "word_counter = dict(Counter(words))\n",
        "print(f\"\\nStep 2: dictionary of word frequency\")\n",
        "print(\"-\" * 36)\n",
        "print(word_counter)\n",
        "\n",
        "# BONUS 1 : sorting keys ASC\n",
        "keys = list(word_counter.keys())\n",
        "keys.sort()\n",
        "\n",
        "sort_keys = {}\n",
        "for key in keys:\n",
        "    sort_keys[key] = word_counter[key]\n",
        "print(f\"\\nBONUS 1: sorting keys in ascending\")\n",
        "print(\"-\" * 53)\n",
        "print(sort_keys)\n",
        "\n",
        "# BONUS 2 : sorting values ASC\n",
        "import operator\n",
        "sort_values = sorted((value, key) for (key, value) in word_counter.items())\n",
        "print(f\"\\nBONUS 2: sorting values in ascending\")\n",
        "print(\"-\" * 36)\n",
        "print(sort_values)"
      ],
      "metadata": {
        "colab": {
          "base_uri": "https://localhost:8080/"
        },
        "id": "6pqPx4QU1RYi",
        "outputId": "8c5d66c9-2c60-4cf0-e302-2cbc489b3aff"
      },
      "execution_count": 14,
      "outputs": [
        {
          "output_type": "stream",
          "name": "stdout",
          "text": [
            "Step 1: removing delimiters, punctuations, and empty strings\n",
            "------------------------------------------------------------\n",
            "['Some', 'say', 'the', 'world', 'will', 'end', 'in', 'fire', 'Some', 'say', 'in', 'ice', 'From', 'what', 'I’ve', 'tasted', 'of', 'desire', 'I', 'hold', 'with', 'those', 'who', 'favor', 'fire', 'But', 'if', 'it', 'had', 'to', 'perish', 'twice', 'I', 'think', 'I', 'know', 'enough', 'of', 'hate', 'To', 'say', 'that', 'for', 'destruction', 'ice', 'Is', 'also', 'great', 'And', 'would', 'suffice']\n",
            "\n",
            "Step 2: dictionary of word frequency\n",
            "------------------------------------\n",
            "{'Some': 2, 'say': 3, 'the': 1, 'world': 1, 'will': 1, 'end': 1, 'in': 2, 'fire': 2, 'ice': 2, 'From': 1, 'what': 1, 'I’ve': 1, 'tasted': 1, 'of': 2, 'desire': 1, 'I': 3, 'hold': 1, 'with': 1, 'those': 1, 'who': 1, 'favor': 1, 'But': 1, 'if': 1, 'it': 1, 'had': 1, 'to': 1, 'perish': 1, 'twice': 1, 'think': 1, 'know': 1, 'enough': 1, 'hate': 1, 'To': 1, 'that': 1, 'for': 1, 'destruction': 1, 'Is': 1, 'also': 1, 'great': 1, 'And': 1, 'would': 1, 'suffice': 1}\n",
            "\n",
            "BONUS 1: sorting keys in ascending\n",
            "-----------------------------------------------------\n",
            "{'And': 1, 'But': 1, 'From': 1, 'I': 3, 'Is': 1, 'I’ve': 1, 'Some': 2, 'To': 1, 'also': 1, 'desire': 1, 'destruction': 1, 'end': 1, 'enough': 1, 'favor': 1, 'fire': 2, 'for': 1, 'great': 1, 'had': 1, 'hate': 1, 'hold': 1, 'ice': 2, 'if': 1, 'in': 2, 'it': 1, 'know': 1, 'of': 2, 'perish': 1, 'say': 3, 'suffice': 1, 'tasted': 1, 'that': 1, 'the': 1, 'think': 1, 'those': 1, 'to': 1, 'twice': 1, 'what': 1, 'who': 1, 'will': 1, 'with': 1, 'world': 1, 'would': 1}\n",
            "\n",
            "BONUS 2: sorting values in ascending\n",
            "------------------------------------\n",
            "[(1, 'And'), (1, 'But'), (1, 'From'), (1, 'Is'), (1, 'I’ve'), (1, 'To'), (1, 'also'), (1, 'desire'), (1, 'destruction'), (1, 'end'), (1, 'enough'), (1, 'favor'), (1, 'for'), (1, 'great'), (1, 'had'), (1, 'hate'), (1, 'hold'), (1, 'if'), (1, 'it'), (1, 'know'), (1, 'perish'), (1, 'suffice'), (1, 'tasted'), (1, 'that'), (1, 'the'), (1, 'think'), (1, 'those'), (1, 'to'), (1, 'twice'), (1, 'what'), (1, 'who'), (1, 'will'), (1, 'with'), (1, 'world'), (1, 'would'), (2, 'Some'), (2, 'fire'), (2, 'ice'), (2, 'in'), (2, 'of'), (3, 'I'), (3, 'say')]\n"
          ]
        }
      ]
    },
    {
      "cell_type": "markdown",
      "metadata": {
        "id": "HEHUJd-gkCVB"
      },
      "source": [
        "In the cell below, find all the words that appear in the text and do not appear in the blacklist. You must parse the string but can choose any data structure you wish for the words that do not appear in the blacklist. Remove all non letter characters and convert all words to lower case."
      ]
    },
    {
      "cell_type": "code",
      "execution_count": 15,
      "metadata": {
        "colab": {
          "base_uri": "https://localhost:8080/"
        },
        "id": "1cPysD8DkCVC",
        "outputId": "d11c1db8-5338-4c16-94c7-57dd46cc789b"
      },
      "outputs": [
        {
          "output_type": "stream",
          "name": "stdout",
          "text": [
            "Step 1: removing delimiters, punctuations, and empty strings\n",
            "------------------------------------------------------------\n",
            "Count words = 101\n",
            "['I', 'was', 'angry', 'with', 'my', 'friend', 'I', 'told', 'my', 'wrath', 'my', 'wrath', 'did', 'end', 'I', 'was', 'angry', 'with', 'my', 'foe', 'I', 'told', 'it', 'not', 'my', 'wrath', 'did', 'grow', 'And', 'I', 'waterd', 'it', 'in', 'fears', 'Night', '&', 'morning', 'with', 'my', 'tears', 'And', 'I', 'sunned', 'it', 'with', 'smiles', 'And', 'with', 'soft', 'deceitful', 'wiles', 'And', 'it', 'grew', 'both', 'day', 'and', 'night', 'Till', 'it', 'bore', 'an', 'apple', 'bright', 'And', 'my', 'foe', 'beheld', 'it', 'shine', 'And', 'he', 'knew', 'that', 'it', 'was', 'mine', 'And', 'into', 'my', 'garden', 'stole', 'When', 'the', 'night', 'had', 'veild', 'the', 'pole', 'In', 'the', 'morning', 'glad', 'I', 'see', 'My', 'foe', 'outstretched', 'beneath', 'the', 'tree']\n",
            "\n",
            "Step 2: removing non letter characters and converting words to lower cases\n",
            "--------------------------------------------------------------------------\n",
            "Count words = 100\n",
            "['i', 'was', 'angry', 'with', 'my', 'friend', 'i', 'told', 'my', 'wrath', 'my', 'wrath', 'did', 'end', 'i', 'was', 'angry', 'with', 'my', 'foe', 'i', 'told', 'it', 'not', 'my', 'wrath', 'did', 'grow', 'and', 'i', 'waterd', 'it', 'in', 'fears', 'night', 'morning', 'with', 'my', 'tears', 'and', 'i', 'sunned', 'it', 'with', 'smiles', 'and', 'with', 'soft', 'deceitful', 'wiles', 'and', 'it', 'grew', 'both', 'day', 'and', 'night', 'till', 'it', 'bore', 'an', 'apple', 'bright', 'and', 'my', 'foe', 'beheld', 'it', 'shine', 'and', 'he', 'knew', 'that', 'it', 'was', 'mine', 'and', 'into', 'my', 'garden', 'stole', 'when', 'the', 'night', 'had', 'veild', 'the', 'pole', 'in', 'the', 'morning', 'glad', 'i', 'see', 'my', 'foe', 'outstretched', 'beneath', 'the', 'tree']\n"
          ]
        }
      ],
      "source": [
        "blacklist = ['and', 'as', 'an', 'a', 'the', 'in', 'it']\n",
        "\n",
        "poem = \"\"\"I was angry with my friend; \n",
        "I told my wrath, my wrath did end.\n",
        "I was angry with my foe: \n",
        "I told it not, my wrath did grow. \n",
        "\n",
        "And I waterd it in fears,\n",
        "Night & morning with my tears: \n",
        "And I sunned it with smiles,\n",
        "And with soft deceitful wiles. \n",
        "\n",
        "And it grew both day and night. \n",
        "Till it bore an apple bright. \n",
        "And my foe beheld it shine,\n",
        "And he knew that it was mine. \n",
        "\n",
        "And into my garden stole, \n",
        "When the night had veild the pole; \n",
        "In the morning glad I see; \n",
        "My foe outstretched beneath the tree.\"\"\"\n",
        "\n",
        "# Your code here:\n",
        "words_poem = re.split(\"[ ,.\\n;:]\", poem)\n",
        "words = [word for word in words_poem if word != '']\n",
        "print(f\"Step 1: removing delimiters, punctuations, and empty strings\")\n",
        "print(\"-\" * 60)\n",
        "print(f\"Count words = {len(words)}\")\n",
        "print(words)\n",
        "\n",
        "x = []\n",
        "for i in words:\n",
        "    z = re.sub(\"[^a-zA-Z]\", \"\", i)\n",
        "    x.append(z.lower())\n",
        "x = [word for word in x if word != '']\n",
        "print(f\"\\nStep 2: removing non letter characters and converting words to lower cases\")\n",
        "print(\"-\" * 74)\n",
        "print(f\"Count words = {len(x)}\")\n",
        "print(x)"
      ]
    },
    {
      "cell_type": "code",
      "source": [
        "# test\n",
        "str = \"123456790abcdefABCDEF!@#$%^&*()_+<>?,./\" \n",
        "result = re.sub(r'[^a-zA-Z]', \"\", str) \n",
        "print(result)"
      ],
      "metadata": {
        "colab": {
          "base_uri": "https://localhost:8080/"
        },
        "id": "leF-9JSfEukC",
        "outputId": "9554a42c-f890-4001-fabd-3c3401e1d1f6"
      },
      "execution_count": 16,
      "outputs": [
        {
          "output_type": "stream",
          "name": "stdout",
          "text": [
            "abcdefABCDEF\n"
          ]
        }
      ]
    }
  ],
  "metadata": {
    "kernelspec": {
      "display_name": "Python 3",
      "language": "python",
      "name": "python3"
    },
    "language_info": {
      "codemirror_mode": {
        "name": "ipython",
        "version": 3
      },
      "file_extension": ".py",
      "mimetype": "text/x-python",
      "name": "python",
      "nbconvert_exporter": "python",
      "pygments_lexer": "ipython3",
      "version": "3.7.3"
    },
    "varInspector": {
      "cols": {
        "lenName": 16,
        "lenType": 16,
        "lenVar": 40
      },
      "kernels_config": {
        "python": {
          "delete_cmd_postfix": "",
          "delete_cmd_prefix": "del ",
          "library": "var_list.py",
          "varRefreshCmd": "print(var_dic_list())"
        },
        "r": {
          "delete_cmd_postfix": ") ",
          "delete_cmd_prefix": "rm(",
          "library": "var_list.r",
          "varRefreshCmd": "cat(var_dic_list()) "
        }
      },
      "types_to_exclude": [
        "module",
        "function",
        "builtin_function_or_method",
        "instance",
        "_Feature"
      ],
      "window_display": false
    },
    "colab": {
      "provenance": [],
      "include_colab_link": true
    }
  },
  "nbformat": 4,
  "nbformat_minor": 0
}