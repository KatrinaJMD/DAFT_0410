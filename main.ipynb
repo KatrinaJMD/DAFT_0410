{
  "cells": [
    {
      "cell_type": "markdown",
      "metadata": {
        "id": "view-in-github",
        "colab_type": "text"
      },
      "source": [
        "<a href=\"https://colab.research.google.com/github/KatrinaJMD/DAFT_0410/blob/main/main.ipynb\" target=\"_parent\"><img src=\"https://colab.research.google.com/assets/colab-badge.svg\" alt=\"Open In Colab\"/></a>"
      ]
    },
    {
      "cell_type": "markdown",
      "metadata": {
        "id": "dc_kb0tbNAm7"
      },
      "source": [
        "# Loops\n",
        "\n",
        "Complete the following set of exercises to solidify your knowledge for Loops."
      ]
    },
    {
      "cell_type": "markdown",
      "metadata": {
        "id": "naChuia4NAnA"
      },
      "source": [
        "#### 1. Print first 10 natural numbers using while loop"
      ]
    },
    {
      "cell_type": "code",
      "execution_count": 1,
      "metadata": {
        "colab": {
          "base_uri": "https://localhost:8080/"
        },
        "id": "CHw6ekLDNAnB",
        "outputId": "b39076b6-f0be-4bfa-a808-501b25d3c9c8"
      },
      "outputs": [
        {
          "output_type": "stream",
          "name": "stdout",
          "text": [
            "0\n",
            "1\n",
            "2\n",
            "3\n",
            "4\n",
            "5\n",
            "6\n",
            "7\n",
            "8\n",
            "9\n"
          ]
        }
      ],
      "source": [
        "for i in range(10):\n",
        "    print(i)"
      ]
    },
    {
      "cell_type": "markdown",
      "metadata": {
        "id": "NARzZZwaNAnB"
      },
      "source": [
        "#### 2. Display numbers from a list using loop\n",
        "Write a program to display only those numbers from a list that satisfy the following conditions\n",
        "\n",
        "The number must be divisible by five\n",
        "\n",
        "If the number is greater than 150, then skip it and move to the next number\n",
        "\n",
        "If the number is greater than 500, then stop the loop\n",
        "\n",
        "numbers = [12, 75, 150, 180, 145, 525, 50]"
      ]
    },
    {
      "cell_type": "code",
      "source": [
        "numbers = [12, 75, 150, 180, 145, 525, 50]\n",
        "\n",
        "for i in numbers:\n",
        "    if i % 5 == 0:\n",
        "        if i > 150:\n",
        "            continue\n",
        "        elif i > 500:\n",
        "            break\n",
        "        print(i)"
      ],
      "metadata": {
        "colab": {
          "base_uri": "https://localhost:8080/"
        },
        "id": "4P5_zgn_ys4_",
        "outputId": "1e1a5d25-4729-4e30-cefd-8db2793be2e0"
      },
      "execution_count": 2,
      "outputs": [
        {
          "output_type": "stream",
          "name": "stdout",
          "text": [
            "75\n",
            "150\n",
            "145\n",
            "50\n"
          ]
        }
      ]
    },
    {
      "cell_type": "markdown",
      "metadata": {
        "id": "KTN-Qol_NAnC"
      },
      "source": [
        "#### 3.Write a Python program to check the validity of a password (input from users).\n",
        "\n",
        "Validation :\n",
        "\n",
        "At least 1 letter between [a-z] and 1 letter between [A-Z].\n",
        "\n",
        "At least 1 number between [0-9].\n",
        "\n",
        "At least 1 character from [$#@].\n",
        "\n",
        "Minimum length 6 characters.\n",
        "\n",
        "Maximum length 16 characters."
      ]
    },
    {
      "cell_type": "code",
      "execution_count": 3,
      "metadata": {
        "colab": {
          "base_uri": "https://localhost:8080/"
        },
        "id": "9N9MFiMINAnD",
        "outputId": "b0672109-ddb5-48ca-d5e2-648626fb6f08"
      },
      "outputs": [
        {
          "output_type": "stream",
          "name": "stdout",
          "text": [
            "Password: Forbes400$\n",
            "--------------------------------------------------\n",
            "VALID PASSWORD\n"
          ]
        }
      ],
      "source": [
        "def check_password():    \n",
        "    import re\n",
        "\n",
        "    password = input(\"Password: \")\n",
        "    checkpoint = 0\n",
        "\n",
        "    while True:\n",
        "        if not re.search(\"[a-z]\", password):\n",
        "            checkpoint = -1\n",
        "            break\n",
        "        elif not re.search(\"[A-Z]\", password):\n",
        "            checkpoint = -1\n",
        "            break\n",
        "        elif not re.search(\"[0-9]\", password):\n",
        "            checkpoint = -1\n",
        "            break\n",
        "        elif not re.search(\"[$#@]\", password):\n",
        "            checkpoint = -1\n",
        "            break\n",
        "        elif len(password) < 5:\n",
        "            checkpoint = -1\n",
        "            break\n",
        "        elif len(password) > 16:\n",
        "            checkpoint = -1\n",
        "            break\n",
        "        else:\n",
        "            checkpoint = 0\n",
        "            break\n",
        "    \n",
        "    if checkpoint == 0:\n",
        "        print(\"-\" * 50)\n",
        "        print(\"VALID PASSWORD\")\n",
        "    else:\n",
        "        print(\"\"\"\n",
        "        INVALID CHOICE.\n",
        "        -------------------------------\n",
        "        Password must contain at least:\n",
        "\n",
        "        - 1 capital letter\n",
        "        - 1 small letter\n",
        "        - 1 number\n",
        "        - 1 special character ($#@)\n",
        "        - Minimum of 6 characters\n",
        "        - Maximum of 6 characters\"\"\")\n",
        "\n",
        "check_password()"
      ]
    },
    {
      "cell_type": "markdown",
      "metadata": {
        "id": "dVEy6GjVNAnD"
      },
      "source": [
        "#### 4. Break the loop when x is 6, and see what happens with the else block"
      ]
    },
    {
      "cell_type": "code",
      "execution_count": 4,
      "metadata": {
        "colab": {
          "base_uri": "https://localhost:8080/"
        },
        "id": "Q2zI7vIwNAnE",
        "outputId": "0ef8ab24-b63c-46cc-e9a7-2e7095eecf8d"
      },
      "outputs": [
        {
          "output_type": "stream",
          "name": "stdout",
          "text": [
            "0\n",
            "1\n",
            "2\n",
            "3\n",
            "4\n",
            "5\n"
          ]
        }
      ],
      "source": [
        "for i in range(10):\n",
        "    if i == 6:\n",
        "        break\n",
        "    print(i)"
      ]
    },
    {
      "cell_type": "markdown",
      "metadata": {
        "id": "yxoB5aI8NAnF"
      },
      "source": [
        "#### 5. Write a Python program to calculate the sum and average of n integer numbers (input from the user). Input 0 to finish.\n"
      ]
    },
    {
      "cell_type": "code",
      "execution_count": 5,
      "metadata": {
        "id": "e9Fi3rMZNAnF"
      },
      "outputs": [],
      "source": [
        "def sum_avg():\n",
        "\n",
        "    import numpy as np\n",
        "\n",
        "    numbers = []\n",
        "\n",
        "    while True:\n",
        "        user_input = float(input(\"Choose a number [type 0 (zero) when you're done]: \"))\n",
        "        if user_input == 0:\n",
        "            break\n",
        "        else:\n",
        "            numbers.append(user_input)\n",
        "\n",
        "    total = sum(numbers)\n",
        "    avg = round(np.mean(numbers), 2)\n",
        "    print(\"-\" * 50)\n",
        "\n",
        "    print(f\"\\nYour chosen numbers are: {numbers}\")\n",
        "    print(f\"Sum of the list = {total}\")\n",
        "    print(f\"Average of the list = {avg}\")"
      ]
    },
    {
      "cell_type": "code",
      "source": [
        "sum_avg()"
      ],
      "metadata": {
        "colab": {
          "base_uri": "https://localhost:8080/"
        },
        "id": "KhC6Y8XCERzq",
        "outputId": "b739d16e-992a-443e-ef1d-232c222dc2e4"
      },
      "execution_count": 6,
      "outputs": [
        {
          "output_type": "stream",
          "name": "stdout",
          "text": [
            "Choose a number [type 0 (zero) when you're done]: 88.5\n",
            "Choose a number [type 0 (zero) when you're done]: 10\n",
            "Choose a number [type 0 (zero) when you're done]: 1.5\n",
            "Choose a number [type 0 (zero) when you're done]: 400\n",
            "Choose a number [type 0 (zero) when you're done]: 0\n",
            "--------------------------------------------------\n",
            "\n",
            "Your chosen numbers are: [88.5, 10.0, 1.5, 400.0]\n",
            "Sum of the list = 500.0\n",
            "Average of the list = 125.0\n"
          ]
        }
      ]
    }
  ],
  "metadata": {
    "kernelspec": {
      "display_name": "Python 3",
      "language": "python",
      "name": "python3"
    },
    "language_info": {
      "codemirror_mode": {
        "name": "ipython",
        "version": 3
      },
      "file_extension": ".py",
      "mimetype": "text/x-python",
      "name": "python",
      "nbconvert_exporter": "python",
      "pygments_lexer": "ipython3",
      "version": "3.7.4"
    },
    "colab": {
      "provenance": [],
      "include_colab_link": true
    }
  },
  "nbformat": 4,
  "nbformat_minor": 0
}