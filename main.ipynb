{
  "nbformat": 4,
  "nbformat_minor": 0,
  "metadata": {
    "colab": {
      "provenance": [],
      "collapsed_sections": [
        "-60FtBmX1dI2"
      ],
      "authorship_tag": "ABX9TyNUgK64L10Omd2m84zIPBK1",
      "include_colab_link": true
    },
    "kernelspec": {
      "name": "python3",
      "display_name": "Python 3"
    },
    "language_info": {
      "name": "python"
    }
  },
  "cells": [
    {
      "cell_type": "markdown",
      "metadata": {
        "id": "view-in-github",
        "colab_type": "text"
      },
      "source": [
        "<a href=\"https://colab.research.google.com/github/KatrinaJMD/DAFT_0410/blob/main/main.ipynb\" target=\"_parent\"><img src=\"https://colab.research.google.com/assets/colab-badge.svg\" alt=\"Open In Colab\"/></a>"
      ]
    },
    {
      "cell_type": "markdown",
      "source": [
        "## [Challenge 1](https://www.codewars.com/kata/remove-all-the-marked-elements-of-a-list) : Remove All The Marked Elements of a List"
      ],
      "metadata": {
        "id": "G9sYtZiW00nI"
      }
    },
    {
      "cell_type": "markdown",
      "source": [
        "**Description**\n",
        "\n",
        "Define a method/function that removes from a given array of integers all the values contained in a second array.\n",
        "\n",
        "Examples `(input -> output)`:\n",
        "\n",
        "````python\n",
        "[1, 1, 2, 3, 1, 2, 3, 4], [1, 3] -> [2, 2, 4]\n",
        "[1, 1, 2, 3, 1, 2, 3, 4, 4, 3, 5, 6, 7, 2, 8], [1, 3, 4, 2] -> [5, 6, 7, 8]\n",
        "[8, 2, 7, 2, 3, 4, 6, 5, 4, 4, 1, 2, 3], [2, 4, 3] -> [8, 7, 6, 5, 1]\n",
        "````\n",
        "\n",
        "Enjoy it!!"
      ],
      "metadata": {
        "id": "-60FtBmX1dI2"
      }
    },
    {
      "cell_type": "code",
      "source": [
        "# method 1\n",
        "def remove_elements(array, to_remove):\n",
        "    return [x for x in array if x not in to_remove]\n",
        "\n",
        "elements = [1, 1, 2, 3, 1, 2, 3, 4]\n",
        "to_remove = [1, 3]\n",
        "result = remove_elements(elements, to_remove)\n",
        "print(result)\n",
        "\n",
        "elements = [1, 1, 2, 3, 1, 2, 3, 4, 4, 3, 5, 6, 7, 2, 8]\n",
        "to_remove = [1, 3, 4, 2]\n",
        "result = remove_elements(elements, to_remove)\n",
        "print(result)\n",
        "\n",
        "elements = [8, 2, 7, 2, 3, 4, 6, 5, 4, 4, 1, 2, 3]\n",
        "to_remove = [2, 4, 3]\n",
        "result = remove_elements(elements, to_remove)\n",
        "print(result)"
      ],
      "metadata": {
        "colab": {
          "base_uri": "https://localhost:8080/"
        },
        "id": "d450DrMScwDZ",
        "outputId": "1aa47999-d358-42bf-d164-21e74792314a"
      },
      "execution_count": 1,
      "outputs": [
        {
          "output_type": "stream",
          "name": "stdout",
          "text": [
            "[2, 2, 4]\n",
            "[5, 6, 7, 8]\n",
            "[8, 7, 6, 5, 1]\n"
          ]
        }
      ]
    },
    {
      "cell_type": "code",
      "source": [
        "# method 2\n",
        "class remove_elements:\n",
        "    def __init__(self, array, to_remove):\n",
        "        self.result = [x for x in array if x not in to_remove]\n",
        "\n",
        "values = remove_elements([1, 1, 2, 3, 1, 2, 3, 4], [1, 3])\n",
        "print(values.result)\n",
        "\n",
        "values = remove_elements([1, 1, 2, 3, 1, 2, 3, 4, 4, 3, 5, 6, 7, 2, 8], [1, 3, 4, 2])\n",
        "print(values.result)\n",
        "\n",
        "values = remove_elements([8, 2, 7, 2, 3, 4, 6, 5, 4, 4, 1, 2, 3], [2, 4, 3])\n",
        "print(values.result)\n"
      ],
      "metadata": {
        "colab": {
          "base_uri": "https://localhost:8080/"
        },
        "id": "zCsXxyWQdrlT",
        "outputId": "a1df303e-30c3-463f-f278-50b5f99791bd"
      },
      "execution_count": 2,
      "outputs": [
        {
          "output_type": "stream",
          "name": "stdout",
          "text": [
            "[2, 2, 4]\n",
            "[5, 6, 7, 8]\n",
            "[8, 7, 6, 5, 1]\n"
          ]
        }
      ]
    },
    {
      "cell_type": "markdown",
      "source": [
        "## [Challenge 2](https://www.codewars.com/kata/method-for-counting-total-occurence-of-specific-digits) : Method For Counting Total Occurence Of Specific Digits"
      ],
      "metadata": {
        "id": "HreeJOrT1Eoy"
      }
    },
    {
      "cell_type": "markdown",
      "source": [
        "**DESCRIPTION:**\n",
        "\n",
        "We need a method in the `List Class` that may count specific digits from a given list of integers. This marked digits will be given in a second list.\n",
        "\n",
        "The method **`.count_spec_digits()/.countSpecDigits()`** will accept two arguments:\n",
        "- a list of an uncertain amount of integers **`integers_lists/integersLists`** (*and of an uncertain amount of digits, too*)\n",
        "- and a second list, **`digits_list/digitsList`** that has the specific digits to count which ***length cannot be be longer than 10*** (*it's obvious, we've got ten digits*)\n",
        "\n",
        "The method will output a list of tuples,\n",
        "> each tuple having two elements:\n",
        "- the first one will be a digit to count\n",
        "- and second one, its corresponding total frequency in all the integers of the first list\n",
        "\n",
        "This list of tuples should be ordered with the same order that the digits have in digitsList\n",
        "\n",
        "Let's see some cases:\n",
        "\n",
        "```python\n",
        "l = List()\n",
        "\n",
        "integers_list =  [1, 1, 2 ,3 ,1 ,2 ,3 ,4]\n",
        "digits_list = [1, 3]\n",
        "l.count_spec_digits(integers_list, digits_list) == [(1, 3), (3, 2)]\n",
        "\n",
        "integers_list = [-18, -31, 81, -19, 111, -888]\n",
        "digits_list = [1, 8, 4]\n",
        "l.count_spec_digits(integers_list, digits_list) == [(1, 7), (8, 5), (4, 0)]\n",
        "\n",
        "integers_list = [-77, -65, 56, -79, 6666, 222]\n",
        "digits_list = [1, 8, 4]\n",
        "l.count_spec_digits(integers_list, digits_list) == [(1, 0), (8, 0), (4, 0)]\n",
        "```\n",
        "\n",
        "Enjoy it!!"
      ],
      "metadata": {
        "id": "2dJHB07Xpd3M"
      }
    },
    {
      "cell_type": "code",
      "source": [
        "# method 1\n",
        "class List:\n",
        "    def count_spec_digits(self, integers_list, digits_list):\n",
        "        \n",
        "        result = []\n",
        "\n",
        "        for digit in digits_list:\n",
        "            count = 0\n",
        "\n",
        "            for integer in integers_list:\n",
        "                count += str(integer).count(str(digit))\n",
        "\n",
        "            result.append((digit, count))\n",
        "\n",
        "        return result\n",
        "\n",
        "# test cases using the sample above to verify results\n",
        "l = List()\n",
        "\n",
        "integers_list = [1, 1, 2, 3, 1, 2, 3, 4]\n",
        "digits_list = [1, 3]\n",
        "print(l.count_spec_digits(integers_list, digits_list))\n",
        "\n",
        "integers_list = [-18, -31, 81, -19, 111, -888]\n",
        "digits_list = [1, 8, 4]\n",
        "print(l.count_spec_digits(integers_list, digits_list))\n",
        "\n",
        "integers_list = [-77, -65, 56, -79, 6666, 222]\n",
        "digits_list = [1, 8, 4]\n",
        "print(l.count_spec_digits(integers_list, digits_list))"
      ],
      "metadata": {
        "colab": {
          "base_uri": "https://localhost:8080/"
        },
        "id": "itWHBnFXOSgI",
        "outputId": "dfd0542c-8759-4c1c-cb5a-8fa781491175"
      },
      "execution_count": 3,
      "outputs": [
        {
          "output_type": "stream",
          "name": "stdout",
          "text": [
            "[(1, 3), (3, 2)]\n",
            "[(1, 7), (8, 5), (4, 0)]\n",
            "[(1, 0), (8, 0), (4, 0)]\n"
          ]
        }
      ]
    },
    {
      "cell_type": "code",
      "source": [
        "# method 2 (using __init__)\n",
        "class List_:\n",
        "    def __init__(self, integers_list, digits_list):\n",
        "        self.integers_list = integers_list\n",
        "        self.digits_list = digits_list\n",
        "\n",
        "    def count_digits_in_integers(self):\n",
        "\n",
        "        result = []\n",
        "\n",
        "        for digit in self.digits_list:\n",
        "            count = sum(str(digit) in str(abs(integer)) for integer in self.integers_list)\n",
        "\n",
        "            result.append((digit, count))\n",
        "\n",
        "        return result\n",
        "\n",
        "# test to verify if same result\n",
        "l = List()\n",
        "\n",
        "integers_list = [1, 1, 2, 3, 1, 2, 3, 4]\n",
        "digits_list = [1, 3]\n",
        "\n",
        "params = List_(integers_list, digits_list)\n",
        "output = params.count_digits_in_integers()\n",
        "print(output)\n",
        "\n",
        "integers_list = [-18, -31, 81, -19, 111, -888]\n",
        "digits_list = [1, 8, 4]\n",
        "\n",
        "params = List_(integers_list, digits_list)\n",
        "output = params.count_digits_in_integers()\n",
        "print(output)\n",
        "\n",
        "integers_list = [-77, -65, 56, -79, 6666, 222]\n",
        "digits_list = [1, 8, 4]\n",
        "\n",
        "params = List_(integers_list, digits_list)\n",
        "output = params.count_digits_in_integers()\n",
        "print(output)"
      ],
      "metadata": {
        "colab": {
          "base_uri": "https://localhost:8080/"
        },
        "id": "mE1fiABiRZGb",
        "outputId": "baa69e3d-27c3-4757-923c-0835801536bd"
      },
      "execution_count": 4,
      "outputs": [
        {
          "output_type": "stream",
          "name": "stdout",
          "text": [
            "[(1, 3), (3, 2)]\n",
            "[(1, 5), (8, 3), (4, 0)]\n",
            "[(1, 0), (8, 0), (4, 0)]\n"
          ]
        }
      ]
    },
    {
      "cell_type": "markdown",
      "source": [
        "## [Challenge 3](https://www.codewars.com/kata/ordered-count-of-characters) : Ordered Count of Characters"
      ],
      "metadata": {
        "id": "bR_UE5Wf1OPT"
      }
    },
    {
      "cell_type": "markdown",
      "source": [
        "**Description**\n",
        "- Count the number of occurrences of each character and return it as a (list of tuples) in order of appearance.\n",
        "    > For empty output return (an empty list).\n",
        "\n",
        "- Consult the solution set-up for the exact data structure implementation depending on your language.\n",
        "\n",
        "Example:\n",
        "````python\n",
        "ordered_count(\"abracadabra\") == [('a', 5), ('b', 2), ('r', 2), ('c', 1), ('d', 1)]\n",
        "````"
      ],
      "metadata": {
        "id": "gvggUZFf2MFa"
      }
    },
    {
      "cell_type": "code",
      "source": [
        "# method 1\n",
        "def ordered_count(message):\n",
        "    character_count = {}\n",
        "    result = []\n",
        "\n",
        "    for letter in message:\n",
        "        if letter not in character_count:\n",
        "            character_count[letter] = 1\n",
        "            result.append((letter, character_count[letter]))\n",
        "        else:\n",
        "            character_count[letter] += 1\n",
        "            for i, z in enumerate(result):\n",
        "                if z[0] == letter:\n",
        "                    result[i] = (letter, character_count[letter])\n",
        "\n",
        "    return result\n",
        "\n",
        "# test the function\n",
        "print(f'abracadabra = {ordered_count(\"abracadabra\")}')\n",
        "print(f'katrina = {ordered_count(\"katrina\")}')\n",
        "print(f'on an empty string = {ordered_count(\"\")}')"
      ],
      "metadata": {
        "colab": {
          "base_uri": "https://localhost:8080/"
        },
        "id": "ss-M8OfTfFPm",
        "outputId": "b7e4e0de-ef55-4680-956b-1f9789f2db31"
      },
      "execution_count": 5,
      "outputs": [
        {
          "output_type": "stream",
          "name": "stdout",
          "text": [
            "abracadabra = [('a', 5), ('b', 2), ('r', 2), ('c', 1), ('d', 1)]\n",
            "katrina = [('k', 1), ('a', 2), ('t', 1), ('r', 1), ('i', 1), ('n', 1)]\n",
            "on an empty string = []\n"
          ]
        }
      ]
    },
    {
      "cell_type": "code",
      "source": [
        "# method 2\n",
        "class OrderedCount:\n",
        "    def __init__(self, message):\n",
        "        self.message = message\n",
        "\n",
        "    def count_characters(self):\n",
        "        character_count = {}\n",
        "        for letter in self.message:\n",
        "            if letter not in character_count:\n",
        "                character_count[letter] = 1\n",
        "            else:\n",
        "                character_count[letter] += 1\n",
        "        return character_count\n",
        "\n",
        "    def get_ordered_count(self):\n",
        "        character_count = self.count_characters()\n",
        "        ordered_count_list = [(letter, count) for letter, count in character_count.items()]\n",
        "        return ordered_count_list\n",
        "\n",
        "def ordered_count(message):\n",
        "    ordered_count_obj = OrderedCount(message)\n",
        "    return ordered_count_obj.get_ordered_count()\n",
        "\n",
        "# test the function\n",
        "print(f'abracadabra = {ordered_count(\"abracadabra\")}')\n",
        "print(f'katrina = {ordered_count(\"katrina\")}')\n",
        "print(f'on an empty string = {ordered_count(\"\")}')"
      ],
      "metadata": {
        "colab": {
          "base_uri": "https://localhost:8080/"
        },
        "id": "r7Ddkh4of0QF",
        "outputId": "3ff43adf-cf60-472b-ae02-968a10e9722e"
      },
      "execution_count": 6,
      "outputs": [
        {
          "output_type": "stream",
          "name": "stdout",
          "text": [
            "abracadabra = [('a', 5), ('b', 2), ('r', 2), ('c', 1), ('d', 1)]\n",
            "katrina = [('k', 1), ('a', 2), ('t', 1), ('r', 1), ('i', 1), ('n', 1)]\n",
            "on an empty string = []\n"
          ]
        }
      ]
    }
  ]
}