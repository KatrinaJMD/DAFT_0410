{
  "cells": [
    {
      "cell_type": "markdown",
      "metadata": {
        "id": "view-in-github",
        "colab_type": "text"
      },
      "source": [
        "<a href=\"https://colab.research.google.com/github/KatrinaJMD/DAFT_0410/blob/main/main.ipynb\" target=\"_parent\"><img src=\"https://colab.research.google.com/assets/colab-badge.svg\" alt=\"Open In Colab\"/></a>"
      ]
    },
    {
      "cell_type": "markdown",
      "metadata": {
        "id": "5WXgiC3lhDqp"
      },
      "source": [
        "# List Comprehensions\n",
        "\n",
        "Complete the following set of exercises to solidify your knowledge of list comprehensions."
      ]
    },
    {
      "cell_type": "code",
      "execution_count": null,
      "metadata": {
        "id": "sjiUcKQBhDqw"
      },
      "outputs": [],
      "source": [
        "import os;"
      ]
    },
    {
      "cell_type": "markdown",
      "metadata": {
        "id": "WRexlKNxhDqy"
      },
      "source": [
        "#### 1. Use a list comprehension to create and print a list of consecutive integers starting with 1 and ending with 50."
      ]
    },
    {
      "cell_type": "code",
      "execution_count": null,
      "metadata": {
        "colab": {
          "base_uri": "https://localhost:8080/"
        },
        "id": "wcI0uXjphDqy",
        "outputId": "ad8d840e-6d89-414e-80ea-a8d487cf9ad3"
      },
      "outputs": [
        {
          "output_type": "stream",
          "name": "stdout",
          "text": [
            "1\n",
            "2\n",
            "3\n",
            "4\n",
            "5\n",
            "6\n",
            "7\n",
            "8\n",
            "9\n",
            "10\n",
            "11\n",
            "12\n",
            "13\n",
            "14\n",
            "15\n",
            "16\n",
            "17\n",
            "18\n",
            "19\n",
            "20\n",
            "21\n",
            "22\n",
            "23\n",
            "24\n",
            "25\n",
            "26\n",
            "27\n",
            "28\n",
            "29\n",
            "30\n",
            "31\n",
            "32\n",
            "33\n",
            "34\n",
            "35\n",
            "36\n",
            "37\n",
            "38\n",
            "39\n",
            "40\n",
            "41\n",
            "42\n",
            "43\n",
            "44\n",
            "45\n",
            "46\n",
            "47\n",
            "48\n",
            "49\n",
            "50\n"
          ]
        }
      ],
      "source": [
        "for i in range(1,51):\n",
        "    print(i)"
      ]
    },
    {
      "cell_type": "markdown",
      "metadata": {
        "id": "h6QcXbBmhDqz"
      },
      "source": [
        "#### 2. Use a list comprehension to create and print a list of even numbers starting with 2 and ending with 200."
      ]
    },
    {
      "cell_type": "code",
      "execution_count": null,
      "metadata": {
        "colab": {
          "base_uri": "https://localhost:8080/"
        },
        "id": "OVBYf0q5hDqz",
        "outputId": "8d47a99a-f7b4-4dfc-b773-4bec0f0bd12a"
      },
      "outputs": [
        {
          "output_type": "execute_result",
          "data": {
            "text/plain": [
              "[2,\n",
              " 4,\n",
              " 6,\n",
              " 8,\n",
              " 10,\n",
              " 12,\n",
              " 14,\n",
              " 16,\n",
              " 18,\n",
              " 20,\n",
              " 22,\n",
              " 24,\n",
              " 26,\n",
              " 28,\n",
              " 30,\n",
              " 32,\n",
              " 34,\n",
              " 36,\n",
              " 38,\n",
              " 40,\n",
              " 42,\n",
              " 44,\n",
              " 46,\n",
              " 48,\n",
              " 50,\n",
              " 52,\n",
              " 54,\n",
              " 56,\n",
              " 58,\n",
              " 60,\n",
              " 62,\n",
              " 64,\n",
              " 66,\n",
              " 68,\n",
              " 70,\n",
              " 72,\n",
              " 74,\n",
              " 76,\n",
              " 78,\n",
              " 80,\n",
              " 82,\n",
              " 84,\n",
              " 86,\n",
              " 88,\n",
              " 90,\n",
              " 92,\n",
              " 94,\n",
              " 96,\n",
              " 98,\n",
              " 100,\n",
              " 102,\n",
              " 104,\n",
              " 106,\n",
              " 108,\n",
              " 110,\n",
              " 112,\n",
              " 114,\n",
              " 116,\n",
              " 118,\n",
              " 120,\n",
              " 122,\n",
              " 124,\n",
              " 126,\n",
              " 128,\n",
              " 130,\n",
              " 132,\n",
              " 134,\n",
              " 136,\n",
              " 138,\n",
              " 140,\n",
              " 142,\n",
              " 144,\n",
              " 146,\n",
              " 148,\n",
              " 150,\n",
              " 152,\n",
              " 154,\n",
              " 156,\n",
              " 158,\n",
              " 160,\n",
              " 162,\n",
              " 164,\n",
              " 166,\n",
              " 168,\n",
              " 170,\n",
              " 172,\n",
              " 174,\n",
              " 176,\n",
              " 178,\n",
              " 180,\n",
              " 182,\n",
              " 184,\n",
              " 186,\n",
              " 188,\n",
              " 190,\n",
              " 192,\n",
              " 194,\n",
              " 196,\n",
              " 198,\n",
              " 200]"
            ]
          },
          "metadata": {},
          "execution_count": 2
        }
      ],
      "source": [
        "evens = [num for num in range(2,201) if num % 2 == 0]\n",
        "evens"
      ]
    },
    {
      "cell_type": "markdown",
      "metadata": {
        "id": "Sxlfik-3hDqz"
      },
      "source": [
        "#### 3. Use a list comprehension to create and print a list containing all elements of the 10 x 4 array below."
      ]
    },
    {
      "cell_type": "code",
      "execution_count": null,
      "metadata": {
        "id": "ZzkGREa9hDq0"
      },
      "outputs": [],
      "source": [
        "a = [[0.84062117, 0.48006452, 0.7876326 , 0.77109654],\n",
        "       [0.44409793, 0.09014516, 0.81835917, 0.87645456],\n",
        "       [0.7066597 , 0.09610873, 0.41247947, 0.57433389],\n",
        "       [0.29960807, 0.42315023, 0.34452557, 0.4751035 ],\n",
        "       [0.17003563, 0.46843998, 0.92796258, 0.69814654],\n",
        "       [0.41290051, 0.19561071, 0.16284783, 0.97016248],\n",
        "       [0.71725408, 0.87702738, 0.31244595, 0.76615487],\n",
        "       [0.20754036, 0.57871812, 0.07214068, 0.40356048],\n",
        "       [0.12149553, 0.53222417, 0.9976855 , 0.12536346],\n",
        "       [0.80930099, 0.50962849, 0.94555126, 0.33364763]];"
      ]
    },
    {
      "cell_type": "code",
      "execution_count": null,
      "metadata": {
        "colab": {
          "base_uri": "https://localhost:8080/"
        },
        "id": "QbWreVq3hDq1",
        "outputId": "90f71e6f-3c58-4f08-b691-71c6759fc1e0"
      },
      "outputs": [
        {
          "output_type": "stream",
          "name": "stdout",
          "text": [
            "[0.84062117, 0.48006452, 0.7876326, 0.77109654]\n",
            "[0.44409793, 0.09014516, 0.81835917, 0.87645456]\n",
            "[0.7066597, 0.09610873, 0.41247947, 0.57433389]\n",
            "[0.29960807, 0.42315023, 0.34452557, 0.4751035]\n",
            "[0.17003563, 0.46843998, 0.92796258, 0.69814654]\n",
            "[0.41290051, 0.19561071, 0.16284783, 0.97016248]\n",
            "[0.71725408, 0.87702738, 0.31244595, 0.76615487]\n",
            "[0.20754036, 0.57871812, 0.07214068, 0.40356048]\n",
            "[0.12149553, 0.53222417, 0.9976855, 0.12536346]\n",
            "[0.80930099, 0.50962849, 0.94555126, 0.33364763]\n"
          ]
        }
      ],
      "source": [
        "# level 1\n",
        "for i in a:\n",
        "    print(i)"
      ]
    },
    {
      "cell_type": "code",
      "source": [
        "# level 2\n",
        "for i in a:\n",
        "    for x in i:\n",
        "        print(x)"
      ],
      "metadata": {
        "colab": {
          "base_uri": "https://localhost:8080/"
        },
        "id": "7hOP_YHsuVMd",
        "outputId": "228d6fac-8857-4b4d-e7a4-7c9c8025d712"
      },
      "execution_count": 45,
      "outputs": [
        {
          "output_type": "stream",
          "name": "stdout",
          "text": [
            "0.84062117\n",
            "0.48006452\n",
            "0.7876326\n",
            "0.77109654\n",
            "0.44409793\n",
            "0.09014516\n",
            "0.81835917\n",
            "0.87645456\n",
            "0.7066597\n",
            "0.09610873\n",
            "0.41247947\n",
            "0.57433389\n",
            "0.29960807\n",
            "0.42315023\n",
            "0.34452557\n",
            "0.4751035\n",
            "0.17003563\n",
            "0.46843998\n",
            "0.92796258\n",
            "0.69814654\n",
            "0.41290051\n",
            "0.19561071\n",
            "0.16284783\n",
            "0.97016248\n",
            "0.71725408\n",
            "0.87702738\n",
            "0.31244595\n",
            "0.76615487\n",
            "0.20754036\n",
            "0.57871812\n",
            "0.07214068\n",
            "0.40356048\n",
            "0.12149553\n",
            "0.53222417\n",
            "0.9976855\n",
            "0.12536346\n",
            "0.80930099\n",
            "0.50962849\n",
            "0.94555126\n",
            "0.33364763\n"
          ]
        }
      ]
    },
    {
      "cell_type": "code",
      "source": [
        "# flatten version\n",
        "to_print = []\n",
        "\n",
        "for i in a:\n",
        "    for x in i:\n",
        "        to_print.append(x)\n",
        "\n",
        "print(to_print) "
      ],
      "metadata": {
        "colab": {
          "base_uri": "https://localhost:8080/"
        },
        "id": "Z6S75-vvsl7u",
        "outputId": "b2cf2502-1ed4-4a77-c356-97a8dbd4f62c"
      },
      "execution_count": 33,
      "outputs": [
        {
          "output_type": "stream",
          "name": "stdout",
          "text": [
            "[0.84062117, 0.48006452, 0.7876326, 0.77109654, 0.44409793, 0.09014516, 0.81835917, 0.87645456, 0.7066597, 0.09610873, 0.41247947, 0.57433389, 0.29960807, 0.42315023, 0.34452557, 0.4751035, 0.17003563, 0.46843998, 0.92796258, 0.69814654, 0.41290051, 0.19561071, 0.16284783, 0.97016248, 0.71725408, 0.87702738, 0.31244595, 0.76615487, 0.20754036, 0.57871812, 0.07214068, 0.40356048, 0.12149553, 0.53222417, 0.9976855, 0.12536346, 0.80930099, 0.50962849, 0.94555126, 0.33364763]\n"
          ]
        }
      ]
    },
    {
      "cell_type": "markdown",
      "metadata": {
        "id": "Bvouf1c8hDq1"
      },
      "source": [
        "#### 4. Add a condition to the list comprehension above so that only values greater than or equal to 0.5 are printed."
      ]
    },
    {
      "cell_type": "code",
      "source": [
        "type(a[0][0])"
      ],
      "metadata": {
        "colab": {
          "base_uri": "https://localhost:8080/"
        },
        "id": "OM-ASITBikiV",
        "outputId": "2407e009-1c04-448c-cf94-b929a7f3194a"
      },
      "execution_count": null,
      "outputs": [
        {
          "output_type": "execute_result",
          "data": {
            "text/plain": [
              "float"
            ]
          },
          "metadata": {},
          "execution_count": 12
        }
      ]
    },
    {
      "cell_type": "code",
      "execution_count": null,
      "metadata": {
        "colab": {
          "base_uri": "https://localhost:8080/"
        },
        "id": "Iy34Z28EhDq2",
        "outputId": "f0130297-d956-44bc-f553-ad9a397dd055"
      },
      "outputs": [
        {
          "output_type": "stream",
          "name": "stdout",
          "text": [
            "0.84062117\n",
            "0.7876326\n",
            "0.77109654\n",
            "0.81835917\n",
            "0.87645456\n",
            "0.7066597\n",
            "0.57433389\n",
            "0.92796258\n",
            "0.69814654\n",
            "0.97016248\n",
            "0.71725408\n",
            "0.87702738\n",
            "0.76615487\n",
            "0.57871812\n",
            "0.53222417\n",
            "0.9976855\n",
            "0.80930099\n",
            "0.50962849\n",
            "0.94555126\n"
          ]
        }
      ],
      "source": [
        "for i in a:\n",
        "    for x in i:\n",
        "        if x >= 0.5:\n",
        "            print(x)"
      ]
    },
    {
      "cell_type": "markdown",
      "metadata": {
        "id": "nd6vAF3VhDq2"
      },
      "source": [
        "#### 5. Use a list comprehension to create and print a list containing all elements of the 5 x 2 x 3 array below."
      ]
    },
    {
      "cell_type": "code",
      "execution_count": 38,
      "metadata": {
        "id": "dHUgKyQzhDq3"
      },
      "outputs": [],
      "source": [
        "b = [[[0.55867166, 0.06210792, 0.08147297],\n",
        "        [0.82579068, 0.91512478, 0.06833034]],\n",
        "\n",
        "       [[0.05440634, 0.65857693, 0.30296619],\n",
        "        [0.06769833, 0.96031863, 0.51293743]],\n",
        "\n",
        "       [[0.09143215, 0.71893382, 0.45850679],\n",
        "        [0.58256464, 0.59005654, 0.56266457]],\n",
        "\n",
        "       [[0.71600294, 0.87392666, 0.11434044],\n",
        "        [0.8694668 , 0.65669313, 0.10708681]],\n",
        "\n",
        "       [[0.07529684, 0.46470767, 0.47984544],\n",
        "        [0.65368638, 0.14901286, 0.23760688]]];"
      ]
    },
    {
      "cell_type": "code",
      "execution_count": null,
      "metadata": {
        "colab": {
          "base_uri": "https://localhost:8080/"
        },
        "id": "fdpTLoJnhDq3",
        "outputId": "0e9e001a-4dae-407b-a4f5-18e38c21b912"
      },
      "outputs": [
        {
          "output_type": "stream",
          "name": "stdout",
          "text": [
            "[[0.55867166, 0.06210792, 0.08147297], [0.82579068, 0.91512478, 0.06833034]]\n",
            "[[0.05440634, 0.65857693, 0.30296619], [0.06769833, 0.96031863, 0.51293743]]\n",
            "[[0.09143215, 0.71893382, 0.45850679], [0.58256464, 0.59005654, 0.56266457]]\n",
            "[[0.71600294, 0.87392666, 0.11434044], [0.8694668, 0.65669313, 0.10708681]]\n",
            "[[0.07529684, 0.46470767, 0.47984544], [0.65368638, 0.14901286, 0.23760688]]\n"
          ]
        }
      ],
      "source": [
        "# level 1\n",
        "for i in b:\n",
        "    print(i)"
      ]
    },
    {
      "cell_type": "code",
      "source": [
        "# level 2\n",
        "for i in b:\n",
        "    for x in i:\n",
        "        print(i)"
      ],
      "metadata": {
        "colab": {
          "base_uri": "https://localhost:8080/"
        },
        "id": "nQaIjxXjtFWa",
        "outputId": "542c15df-762f-4814-d8ce-c2de3631a17e"
      },
      "execution_count": 35,
      "outputs": [
        {
          "output_type": "stream",
          "name": "stdout",
          "text": [
            "[[0.55867166, 0.06210792, 0.08147297], [0.82579068, 0.91512478, 0.06833034]]\n",
            "[[0.55867166, 0.06210792, 0.08147297], [0.82579068, 0.91512478, 0.06833034]]\n",
            "[[0.05440634, 0.65857693, 0.30296619], [0.06769833, 0.96031863, 0.51293743]]\n",
            "[[0.05440634, 0.65857693, 0.30296619], [0.06769833, 0.96031863, 0.51293743]]\n",
            "[[0.09143215, 0.71893382, 0.45850679], [0.58256464, 0.59005654, 0.56266457]]\n",
            "[[0.09143215, 0.71893382, 0.45850679], [0.58256464, 0.59005654, 0.56266457]]\n",
            "[[0.71600294, 0.87392666, 0.11434044], [0.8694668, 0.65669313, 0.10708681]]\n",
            "[[0.71600294, 0.87392666, 0.11434044], [0.8694668, 0.65669313, 0.10708681]]\n",
            "[[0.07529684, 0.46470767, 0.47984544], [0.65368638, 0.14901286, 0.23760688]]\n",
            "[[0.07529684, 0.46470767, 0.47984544], [0.65368638, 0.14901286, 0.23760688]]\n"
          ]
        }
      ]
    },
    {
      "cell_type": "code",
      "source": [
        "# level 3\n",
        "for i in b:\n",
        "    for x in i:\n",
        "        for z in x:\n",
        "            print(z)"
      ],
      "metadata": {
        "colab": {
          "base_uri": "https://localhost:8080/"
        },
        "id": "i06KLwRMuIzH",
        "outputId": "5fd3f5be-cf49-40c1-9df5-b9e47152e248"
      },
      "execution_count": 44,
      "outputs": [
        {
          "output_type": "stream",
          "name": "stdout",
          "text": [
            "0.55867166\n",
            "0.06210792\n",
            "0.08147297\n",
            "0.82579068\n",
            "0.91512478\n",
            "0.06833034\n",
            "0.05440634\n",
            "0.65857693\n",
            "0.30296619\n",
            "0.06769833\n",
            "0.96031863\n",
            "0.51293743\n",
            "0.09143215\n",
            "0.71893382\n",
            "0.45850679\n",
            "0.58256464\n",
            "0.59005654\n",
            "0.56266457\n",
            "0.71600294\n",
            "0.87392666\n",
            "0.11434044\n",
            "0.8694668\n",
            "0.65669313\n",
            "0.10708681\n",
            "0.07529684\n",
            "0.46470767\n",
            "0.47984544\n",
            "0.65368638\n",
            "0.14901286\n",
            "0.23760688\n"
          ]
        }
      ]
    },
    {
      "cell_type": "code",
      "source": [
        "# flatten version\n",
        "to_print = []\n",
        "\n",
        "for i in b:\n",
        "    for x in i:\n",
        "        for z in x:\n",
        "            to_print.append(z)\n",
        "\n",
        "print(to_print) "
      ],
      "metadata": {
        "colab": {
          "base_uri": "https://localhost:8080/"
        },
        "id": "tg8jOd1PsS88",
        "outputId": "50133d6c-e90d-488f-f344-eb67b6e293e4"
      },
      "execution_count": 43,
      "outputs": [
        {
          "output_type": "stream",
          "name": "stdout",
          "text": [
            "[0.55867166, 0.06210792, 0.08147297, 0.82579068, 0.91512478, 0.06833034, 0.05440634, 0.65857693, 0.30296619, 0.06769833, 0.96031863, 0.51293743, 0.09143215, 0.71893382, 0.45850679, 0.58256464, 0.59005654, 0.56266457, 0.71600294, 0.87392666, 0.11434044, 0.8694668, 0.65669313, 0.10708681, 0.07529684, 0.46470767, 0.47984544, 0.65368638, 0.14901286, 0.23760688]\n"
          ]
        }
      ]
    },
    {
      "cell_type": "markdown",
      "metadata": {
        "id": "7q_Z2garhDq4"
      },
      "source": [
        "#### 6. Add a condition to the list comprehension above so that the last value in each subarray is printed, but only if it is less than or equal to 0.5."
      ]
    },
    {
      "cell_type": "code",
      "execution_count": 46,
      "metadata": {
        "colab": {
          "base_uri": "https://localhost:8080/"
        },
        "id": "qZecbtBthDq4",
        "outputId": "a70f067c-7039-4f1b-fe2f-e20155463117"
      },
      "outputs": [
        {
          "output_type": "stream",
          "name": "stdout",
          "text": [
            "0.06210792\n",
            "0.08147297\n",
            "0.06833034\n",
            "0.05440634\n",
            "0.30296619\n",
            "0.06769833\n",
            "0.09143215\n",
            "0.45850679\n",
            "0.11434044\n",
            "0.10708681\n",
            "0.07529684\n",
            "0.46470767\n",
            "0.47984544\n",
            "0.14901286\n",
            "0.23760688\n"
          ]
        }
      ],
      "source": [
        "for i in b:\n",
        "    for x in i:\n",
        "        for z in x:\n",
        "            if z <= 0.5:\n",
        "                print(z)"
      ]
    },
    {
      "cell_type": "markdown",
      "metadata": {
        "id": "1rBFiN13hDq4"
      },
      "source": [
        "#### 7. Use a list comprehension to select and print the names of all CSV files in the */data* directory."
      ]
    },
    {
      "cell_type": "code",
      "source": [
        "import os\n",
        "\n",
        "from google.colab import drive\n",
        "drive.mount('/content/drive')\n",
        "\n",
        "directory_path = \"/content/drive/MyDrive/[01] Data Analytics - IronHack/data\"\n",
        "directory_files = os.listdir(directory_path)\n",
        "\n",
        "files = [sheet for sheet in directory_files if sheet.endswith(\".csv\")]\n",
        "files"
      ],
      "metadata": {
        "colab": {
          "base_uri": "https://localhost:8080/"
        },
        "id": "cDevLqGMn4OX",
        "outputId": "759e581b-3a12-4476-8f02-015eb5e0d406"
      },
      "execution_count": 30,
      "outputs": [
        {
          "output_type": "stream",
          "name": "stdout",
          "text": [
            "Drive already mounted at /content/drive; to attempt to forcibly remount, call drive.mount(\"/content/drive\", force_remount=True).\n"
          ]
        },
        {
          "output_type": "execute_result",
          "data": {
            "text/plain": [
              "['sample_file_8.csv',\n",
              " 'sample_file_2.csv',\n",
              " 'sample_file_6.csv',\n",
              " 'sample_file_7.csv',\n",
              " 'sample_file_4.csv',\n",
              " 'sample_file_3.csv',\n",
              " 'sample_file_5.csv',\n",
              " 'sample_file_9.csv',\n",
              " 'sample_file_1.csv',\n",
              " 'sample_file_0.csv']"
            ]
          },
          "metadata": {},
          "execution_count": 30
        }
      ]
    },
    {
      "cell_type": "markdown",
      "metadata": {
        "id": "6Tnpe91ahDq5"
      },
      "source": [
        "### Bonus"
      ]
    },
    {
      "cell_type": "markdown",
      "metadata": {
        "id": "vtasVTCyhDq5"
      },
      "source": [
        "Try to solve these katas using list comprehensions."
      ]
    },
    {
      "cell_type": "markdown",
      "metadata": {
        "id": "tVOJ4RnChDq5"
      },
      "source": [
        "**Easy**\n",
        "- [Insert values](https://www.codewars.com/kata/invert-values)\n",
        "- [Sum Square(n)](https://www.codewars.com/kata/square-n-sum)\n",
        "- [Digitize](https://www.codewars.com/kata/digitize)\n",
        "- [List filtering](https://www.codewars.com/kata/list-filtering)\n",
        "- [Arithmetic list](https://www.codewars.com/kata/541da001259d9ca85d000688)\n",
        "\n",
        "**Medium**\n",
        "- [Multiples of 3 or 5](https://www.codewars.com/kata/514b92a657cdc65150000006)\n",
        "- [Count of positives / sum of negatives](https://www.codewars.com/kata/count-of-positives-slash-sum-of-negatives)\n",
        "- [Categorize new member](https://www.codewars.com/kata/5502c9e7b3216ec63c0001aa)\n",
        "\n",
        "**Advanced**\n",
        "- [Queue time counter](https://www.codewars.com/kata/queue-time-counter)"
      ]
    }
  ],
  "metadata": {
    "kernelspec": {
      "display_name": "Python 3",
      "language": "python",
      "name": "python3"
    },
    "language_info": {
      "codemirror_mode": {
        "name": "ipython",
        "version": 3
      },
      "file_extension": ".py",
      "mimetype": "text/x-python",
      "name": "python",
      "nbconvert_exporter": "python",
      "pygments_lexer": "ipython3",
      "version": "3.7.2"
    },
    "colab": {
      "provenance": [],
      "include_colab_link": true
    }
  },
  "nbformat": 4,
  "nbformat_minor": 0
}