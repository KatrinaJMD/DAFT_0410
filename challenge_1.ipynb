{
  "cells": [
    {
      "cell_type": "markdown",
      "metadata": {
        "id": "view-in-github",
        "colab_type": "text"
      },
      "source": [
        "<a href=\"https://colab.research.google.com/github/KatrinaJMD/DAFT_0410/blob/main/challenge_1.ipynb\" target=\"_parent\"><img src=\"https://colab.research.google.com/assets/colab-badge.svg\" alt=\"Open In Colab\"/></a>"
      ]
    },
    {
      "cell_type": "markdown",
      "metadata": {
        "id": "riALJ9RR5ZLV"
      },
      "source": [
        "## Challenge 1: Tuples\n",
        "\n",
        "#### Do you know you can create tuples with only one element?\n",
        "\n",
        "**In the cell below, define a variable `tup` with a single element `\"I\"`.**\n",
        "\n",
        "*Hint: you need to add a comma (`,`) after the single element.*"
      ]
    },
    {
      "cell_type": "code",
      "execution_count": 1,
      "metadata": {
        "colab": {
          "base_uri": "https://localhost:8080/"
        },
        "id": "WRkkrCoi5ZLb",
        "outputId": "1714105f-906a-4f4f-f382-4e4ae0f2dd38"
      },
      "outputs": [
        {
          "output_type": "execute_result",
          "data": {
            "text/plain": [
              "('I',)"
            ]
          },
          "metadata": {},
          "execution_count": 1
        }
      ],
      "source": [
        "# Your code here\n",
        "tup = (\"I\",)\n",
        "tup"
      ]
    },
    {
      "cell_type": "markdown",
      "metadata": {
        "id": "xCepoZg45ZLd"
      },
      "source": [
        "#### Print the type of `tup`. \n",
        "\n",
        "Make sure its type is correct (i.e. *tuple* instead of *str*)."
      ]
    },
    {
      "cell_type": "code",
      "execution_count": 2,
      "metadata": {
        "colab": {
          "base_uri": "https://localhost:8080/"
        },
        "id": "JOUWqs4C5ZLd",
        "outputId": "6ef92a87-3e85-4219-ba65-68ca2a9378e8"
      },
      "outputs": [
        {
          "output_type": "execute_result",
          "data": {
            "text/plain": [
              "tuple"
            ]
          },
          "metadata": {},
          "execution_count": 2
        }
      ],
      "source": [
        "# Your code here\n",
        "type(tup)"
      ]
    },
    {
      "cell_type": "markdown",
      "metadata": {
        "id": "_rvndUM95ZLe"
      },
      "source": [
        "#### Now try to append the following elements to `tup`. \n",
        "\n",
        "Are you able to do it? Explain.\n",
        "\n",
        "```\n",
        "\"r\", \"o\", \"n\", \"h\", \"a\", \"c\", \"k',\n",
        "```"
      ]
    },
    {
      "cell_type": "code",
      "execution_count": null,
      "metadata": {
        "id": "mmVXKMe55ZLe"
      },
      "outputs": [],
      "source": [
        "# Your code here\n",
        "to_add = \"r\", \"o\", \"n\", \"h\", \"a\", \"c\", \"k',\n",
        "\n",
        "tup.append(to_add)\n",
        "tup.extend(to_add)\n",
        "\n",
        "# Your explanation here\n",
        "answer = \"Tuples are immutable\""
      ]
    },
    {
      "cell_type": "markdown",
      "metadata": {
        "id": "YKcHIlLo5ZLf"
      },
      "source": [
        "#### How about re-assign a new value to an existing tuple?\n",
        "\n",
        "Re-assign the following elements to `tup`. Are you able to do it? Explain.\n",
        "\n",
        "```\n",
        "\"I\", \"r\", \"o\", \"n\", \"h\", \"a\", \"c\", \"k\"\n",
        "```"
      ]
    },
    {
      "cell_type": "code",
      "execution_count": 4,
      "metadata": {
        "id": "MApFdNyU5ZLf"
      },
      "outputs": [],
      "source": [
        "# Your code here\n",
        "tup = (\"I\", \"r\", \"o\", \"n\", \"h\", \"a\", \"c\", \"k\")\n",
        "\n",
        "# Your explanation here\n",
        "answer = \"Overwriting is possible by using the existing variable 'tup' with new values\""
      ]
    },
    {
      "cell_type": "markdown",
      "metadata": {
        "id": "3tEZD_cd5ZLf"
      },
      "source": [
        "#### Split `tup` into `tup1` and `tup2` with 4 elements in each. \n",
        "\n",
        "`tup1` should be `(\"I\", \"r\", \"o\", \"n\")` and `tup2` should be `(\"h\", \"a\", \"c\", \"k\")`.\n",
        "\n",
        "*Hint: use positive index numbers for `tup1` assignment and use negative index numbers for `tup2` assignment. Positive index numbers count from the beginning whereas negative index numbers count from the end of the sequence.*\n",
        "\n",
        "Also print `tup1` and `tup2`."
      ]
    },
    {
      "cell_type": "code",
      "execution_count": 10,
      "metadata": {
        "colab": {
          "base_uri": "https://localhost:8080/"
        },
        "id": "dK3PatcG5ZLg",
        "outputId": "65f40bd7-77a7-48f6-8e2e-58f62958e82e"
      },
      "outputs": [
        {
          "output_type": "stream",
          "name": "stdout",
          "text": [
            "('I', 'r', 'o', 'n')\n",
            "('h', 'a', 'c', 'k')\n"
          ]
        }
      ],
      "source": [
        "# Your code here\n",
        "tup1 = tup[:4]\n",
        "tup2 = tup[4:]\n",
        "\n",
        "print(tup1)\n",
        "print(tup2)"
      ]
    },
    {
      "cell_type": "markdown",
      "metadata": {
        "id": "J_Db6wFc5ZLg"
      },
      "source": [
        "#### Add `tup1` and `tup2` into `tup3` using the `+` operator.\n",
        "\n",
        "Then print `tup3` and check if `tup3` equals to `tup`."
      ]
    },
    {
      "cell_type": "code",
      "execution_count": 12,
      "metadata": {
        "colab": {
          "base_uri": "https://localhost:8080/"
        },
        "id": "q0psya5I5ZLg",
        "outputId": "e34ce826-e83e-4046-e6a4-2c0dcb20b00c"
      },
      "outputs": [
        {
          "output_type": "stream",
          "name": "stdout",
          "text": [
            "Yup!\n"
          ]
        }
      ],
      "source": [
        "# Your code here\n",
        "tup3 = tup1 + tup2\n",
        "\n",
        "# BONUS: mini game\n",
        "def is_equals_to_tup(source):\n",
        "    if source == tup:\n",
        "        print(\"Yup!\")\n",
        "    else:\n",
        "        print(\"Nope..\")\n",
        "\n",
        "is_equals_to_tup(tup3)"
      ]
    },
    {
      "cell_type": "markdown",
      "metadata": {
        "id": "Q55olMc95ZLh"
      },
      "source": [
        "#### Count the number of elements in `tup1` and `tup2`. Then add the two counts together and check if the sum is the same as the number of elements in `tup3`."
      ]
    },
    {
      "cell_type": "code",
      "execution_count": 13,
      "metadata": {
        "colab": {
          "base_uri": "https://localhost:8080/"
        },
        "id": "mhgG6hn55ZLh",
        "outputId": "50c73f63-21a5-4adc-c2ba-654134a23628"
      },
      "outputs": [
        {
          "output_type": "stream",
          "name": "stdout",
          "text": [
            "N° of elements in tup1 = 4\n",
            "N° of elements in tup2 = 4\n",
            "tup1 + tup2 = 8\n",
            "N° of elements in tup3 = 8\n"
          ]
        }
      ],
      "source": [
        "# Your code here\n",
        "print(f\"N° of elements in tup1 = {len(tup1)}\")\n",
        "print(f\"N° of elements in tup2 = {len(tup2)}\")\n",
        "print(f\"tup1 + tup2 = {len(tup1 + tup2)}\")\n",
        "print(f\"N° of elements in tup3 = {len(tup3)}\")"
      ]
    },
    {
      "cell_type": "markdown",
      "metadata": {
        "id": "qm3ujD-65ZLh"
      },
      "source": [
        "#### What is the index number of `\"h\"` in `tup3`?"
      ]
    },
    {
      "cell_type": "code",
      "execution_count": 16,
      "metadata": {
        "colab": {
          "base_uri": "https://localhost:8080/"
        },
        "id": "YODjaNI75ZLh",
        "outputId": "a9b8844a-fa1d-41bd-ccd2-4a84cd48ce57"
      },
      "outputs": [
        {
          "output_type": "execute_result",
          "data": {
            "text/plain": [
              "4"
            ]
          },
          "metadata": {},
          "execution_count": 16
        }
      ],
      "source": [
        "# Your code here\n",
        "tup3.index(\"h\")"
      ]
    },
    {
      "cell_type": "markdown",
      "metadata": {
        "id": "xy55Hrdu5ZLh"
      },
      "source": [
        "#### Now, use a FOR loop to check whether each letter in the following list is present in `tup3`:\n",
        "\n",
        "```\n",
        "letters = [\"a\", \"b\", \"c\", \"d\", \"e\"]\n",
        "```\n",
        "\n",
        "For each letter you check, print `True` if it is present in `tup3` otherwise print `False`.\n",
        "\n",
        "*Hint: you only need to loop `letters`. You don't need to loop `tup3` because there is a Python operator `in` you can use. See [reference](https://stackoverflow.com/questions/17920147/how-to-check-if-a-tuple-contains-an-element-in-python).*"
      ]
    },
    {
      "cell_type": "code",
      "source": [
        "letters = [\"a\", \"b\", \"c\", \"d\", \"e\"]\n",
        "\n",
        "for i in letters:\n",
        "    if i in tup3:\n",
        "        print(f\"{i} in tup3? Answer: True\")\n",
        "    else:\n",
        "        print(\"Nope..\")"
      ],
      "metadata": {
        "colab": {
          "base_uri": "https://localhost:8080/"
        },
        "id": "diXzfOM69ive",
        "outputId": "ea665ec2-2ed1-4429-d0d0-605f5ec33173"
      },
      "execution_count": 18,
      "outputs": [
        {
          "output_type": "stream",
          "name": "stdout",
          "text": [
            "a in tup3? Answer: True\n",
            "Nope..\n",
            "c in tup3? Answer: True\n",
            "Nope..\n",
            "Nope..\n"
          ]
        }
      ]
    },
    {
      "cell_type": "markdown",
      "metadata": {
        "id": "mGJXEMdN5ZLi"
      },
      "source": [
        "#### How many times does each letter in `letters` appear in `tup3`?\n",
        "\n",
        "Print out the number of occurrence of each letter."
      ]
    },
    {
      "cell_type": "code",
      "execution_count": 20,
      "metadata": {
        "colab": {
          "base_uri": "https://localhost:8080/"
        },
        "id": "R5Zn3BdE5ZLi",
        "outputId": "b5c470fe-e58d-40dc-e94e-b0d9260a41b2"
      },
      "outputs": [
        {
          "output_type": "execute_result",
          "data": {
            "text/plain": [
              "[('a', 1), ('c', 1)]"
            ]
          },
          "metadata": {},
          "execution_count": 20
        }
      ],
      "source": [
        "# Your code here\n",
        "from collections import Counter\n",
        "\n",
        "to_count = []\n",
        "\n",
        "for i in letters:\n",
        "    if i in tup3:\n",
        "        to_count.append(i)\n",
        "\n",
        "result = list(Counter(to_count).items())\n",
        "result"
      ]
    }
  ],
  "metadata": {
    "kernelspec": {
      "display_name": "Python 3",
      "language": "python",
      "name": "python3"
    },
    "language_info": {
      "codemirror_mode": {
        "name": "ipython",
        "version": 3
      },
      "file_extension": ".py",
      "mimetype": "text/x-python",
      "name": "python",
      "nbconvert_exporter": "python",
      "pygments_lexer": "ipython3",
      "version": "3.7.2"
    },
    "colab": {
      "provenance": [],
      "include_colab_link": true
    }
  },
  "nbformat": 4,
  "nbformat_minor": 0
}