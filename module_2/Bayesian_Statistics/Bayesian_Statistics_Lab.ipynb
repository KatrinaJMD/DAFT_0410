{
  "cells": [
    {
      "cell_type": "markdown",
      "metadata": {
        "id": "mbQGkwcjHFqm"
      },
      "source": [
        "# Intro to Bayesian Statistics Lab\n",
        "\n",
        "Complete the following set of exercises to solidify your knowledge of Bayesian statistics and Bayesian data analysis."
      ]
    },
    {
      "cell_type": "code",
      "execution_count": 1,
      "metadata": {
        "id": "62qopgd2HFqq"
      },
      "outputs": [],
      "source": [
        "import pandas as pd\n",
        "import numpy as np\n",
        "import matplotlib.pyplot as plt"
      ]
    },
    {
      "cell_type": "markdown",
      "metadata": {
        "id": "BlL77UqOHFqq"
      },
      "source": [
        "## 1. Cookie Problem\n",
        "\n",
        "Suppose we have two bowls of cookies. Bowl 1 contains 30 vanilla cookies and 10 chocolate cookies. Bowl 2 contains 20 of each. You randomly pick one cookie out of one of the bowls, and it is vanilla. Use Bayes Theorem to calculate the probability that the vanilla cookie you picked came from Bowl 1?"
      ]
    },
    {
      "cell_type": "markdown",
      "source": [
        "> GENERAL\n",
        "\n",
        "|            |vanilla|chocolate|row total|\n",
        "|------------|-------|---------|---------|\n",
        "|bowl 1      |30     |10       |40       |\n",
        "|bowl 2      |20     |20       |40       |\n",
        "|column total|50     |30       |80       |\n",
        "\n",
        "\n",
        "> TOTAL WISE\n",
        "\n",
        "|            |vanilla|chocolate|row total|\n",
        "|------------|-------|---------|---------|\n",
        "|bowl 1      |37.5%  |12.5%    |50%      |\n",
        "|bowl 2      |25%    |25%      |50%      |\n",
        "|column total|62.5%  |37.5%    |100%     |\n",
        "\n",
        "\n",
        "> ROW WISE\n",
        "\n",
        "|            |vanilla|chocolate|row total|\n",
        "|------------|-------|---------|---------|\n",
        "|bowl 1      |75%    |25%      |100%     |\n",
        "|bowl 2      |50%    |50%      |100%     |\n",
        "|column total|50     |30       |80       |\n",
        "\n",
        "\n",
        "> COLUMN WISE\n",
        "\n",
        "|            |vanilla|chocolate|row total|\n",
        "|------------|-------|---------|---------|\n",
        "|bowl 1      |60%    |33%      |40       |\n",
        "|bowl 2      |40%    |67%      |40       |\n",
        "|column total|100%   |100%     |80       |"
      ],
      "metadata": {
        "id": "uWBHxoo8aXnA"
      }
    },
    {
      "cell_type": "code",
      "execution_count": 34,
      "metadata": {
        "colab": {
          "base_uri": "https://localhost:8080/"
        },
        "id": "0ySA7NNgHFqr",
        "outputId": "57d311f0-a2f0-45b8-a85a-409efc77e1d5"
      },
      "outputs": [
        {
          "output_type": "stream",
          "name": "stdout",
          "text": [
            "Probability of vanilla cookie coming from Bowl 1 = 60.0%\n"
          ]
        }
      ],
      "source": [
        "# defining the probabilities\n",
        "p_b1 = 0.5\n",
        "p_b2 = 0.5\n",
        "p_vb1 = 0.75\n",
        "p_vb2 = 0.5\n",
        "\n",
        "# calculating P(V)\n",
        "pVanilla = p_b1 * p_vb1 + p_b2 * p_vb2\n",
        "\n",
        "# using Bayes' theorem to calculate P(B1|V)\n",
        "p_b1_Vanilla = (p_vb1 * p_b1) / pVanilla\n",
        "print(f\"Probability of vanilla cookie coming from Bowl 1 = {p_b1_Vanilla*100}%\")"
      ]
    },
    {
      "cell_type": "markdown",
      "metadata": {
        "id": "nXkwH0JNHFqr"
      },
      "source": [
        "What is the probability that it came from Bowl 2?"
      ]
    },
    {
      "cell_type": "code",
      "source": [
        "p_b2_Vanilla = (p_vb2 * p_b2) / pVanilla\n",
        "print(f\"Probability of vanilla cookie coming from Bowl 2 = {p_b2_Vanilla*100}%\")"
      ],
      "metadata": {
        "colab": {
          "base_uri": "https://localhost:8080/"
        },
        "id": "uyPTwcP2ef4B",
        "outputId": "a073d831-62ef-49ae-b5ad-d95cd77e02fc"
      },
      "execution_count": 35,
      "outputs": [
        {
          "output_type": "stream",
          "name": "stdout",
          "text": [
            "Probability of vanilla cookie coming from Bowl 2 = 40.0%\n"
          ]
        }
      ]
    },
    {
      "cell_type": "markdown",
      "metadata": {
        "id": "AzwfKqE_HFqr"
      },
      "source": [
        "What if the cookie you had picked was chocolate? What are the probabilities that the chocolate cookie came from Bowl 1 and Bowl 2 respectively?"
      ]
    },
    {
      "cell_type": "code",
      "execution_count": 33,
      "metadata": {
        "colab": {
          "base_uri": "https://localhost:8080/"
        },
        "id": "OjsMFHnLHFqs",
        "outputId": "949d9647-2daf-44d1-99ac-c0a55a0dbfdf"
      },
      "outputs": [
        {
          "output_type": "stream",
          "name": "stdout",
          "text": [
            "Probability of chocolate cookie coming from Bowl 1 = 33%\n",
            "Probability of chocolate cookie coming from Bowl 2 = 67%\n"
          ]
        }
      ],
      "source": [
        "# defining the probabilities\n",
        "p_b1 = 0.5\n",
        "p_b2 = 0.5\n",
        "p_cb1 = 0.25\n",
        "p_cb2 = 0.5\n",
        "\n",
        "# calculating P(C)\n",
        "pChocolate = (p_b1 * p_cb1) + (p_b2 * p_cb2)\n",
        "\n",
        "# bowl 1\n",
        "p_b1_Chocolate = (p_cb1 * p_b1) / pChocolate\n",
        "print(f\"Probability of chocolate cookie coming from Bowl 1 = {round(p_b1_Chocolate*100)}%\")\n",
        "\n",
        "# bowl 2\n",
        "p_b2_Chocolate = (p_cb2 * p_b2) / pChocolate\n",
        "print(f\"Probability of chocolate cookie coming from Bowl 2 = {round(p_b2_Chocolate*100)}%\")"
      ]
    },
    {
      "cell_type": "markdown",
      "metadata": {
        "id": "jD9fAHpGHFqs"
      },
      "source": [
        "## 2. Candy Problem\n",
        "\n",
        "Suppose you have two bags of candies:\n",
        "\n",
        "- In Bag 1, the mix of colors is:\n",
        "    - Brown - 30%\n",
        "    - Yellow - 20%\n",
        "    - Red - 20%\n",
        "    - Green - 10%\n",
        "    - Orange - 10%\n",
        "    - Tan - 10%\n",
        "    \n",
        "- In Bag 2, the mix of colors is:\n",
        "    - Blue - 24%\n",
        "    - Green - 20%\n",
        "    - Orange - 16%\n",
        "    - Yellow - 14%\n",
        "    - Red - 13%\n",
        "    - Brown - 13%\n",
        "    \n",
        "Not knowing which bag is which, you randomly draw one candy from each bag. One is yellow and one is green. What is the probability that the yellow one came from the Bag 1?\n",
        "\n",
        "*Hint: For the likelihoods, you will need to multiply the probabilities of drawing yellow from one bag and green from the other bag and vice versa.*"
      ]
    },
    {
      "cell_type": "markdown",
      "source": [
        "> GENERAL\n",
        "\n",
        "|            |bag 1|bag 2|row total|\n",
        "|------------|-----|-----|---------|\n",
        "|brown       |30%  |13%  |43%      |\n",
        "|yellow      |20%  |14%  |34%      |\n",
        "|red         |20%  |13%  |33%      |\n",
        "|green       |10%  |20%  |30%      |\n",
        "|orange      |10%  |16%  |26%      |\n",
        "|tan         |10%  |0%   |10%      |\n",
        "|blue        |0%   |24%  |24%      |\n",
        "|column total|100% |100% |200%     |"
      ],
      "metadata": {
        "id": "7JBXcdyUp4av"
      }
    },
    {
      "cell_type": "code",
      "source": [
        "# defining the dictionaries\n",
        "bag1 = {\"Brown\": 0.3, \"Yellow\": 0.2, \"Red\": 0.2, \"Green\": 0.1, \"Orange\": 0.1, \"Tan\": 0.1}\n",
        "bag2 = {\"Blue\": 0.24, \"Green\": 0.2, \"Orange\": 0.16, \"Yellow\": 0.14, \"Red\": 0.13, \"Brown\": 0.13}\n",
        "\n",
        "# converting dictionaries to dataframes\n",
        "bag1 = pd.DataFrame(list(bag1.items()), columns=[\"Color\", \"Bag1\"])\n",
        "bag2 = pd.DataFrame(list(bag2.items()), columns=[\"Color\", \"Bag2\"])\n",
        "\n",
        "# merging the dataframes\n",
        "candy = pd.merge(bag1, bag2, on=\"Color\", how=\"outer\")\n",
        "\n",
        "# filling NaN values with 0\n",
        "candy.fillna(0, inplace=True)\n",
        "\n",
        "# show\n",
        "candy"
      ],
      "metadata": {
        "colab": {
          "base_uri": "https://localhost:8080/",
          "height": 266
        },
        "id": "nT7O4Im_lXUe",
        "outputId": "276e13e8-1caa-4b21-87bf-51cee1401265"
      },
      "execution_count": 59,
      "outputs": [
        {
          "output_type": "execute_result",
          "data": {
            "text/plain": [
              "    Color  Bag1  Bag2\n",
              "0   Brown   0.3  0.13\n",
              "1  Yellow   0.2  0.14\n",
              "2     Red   0.2  0.13\n",
              "3   Green   0.1  0.20\n",
              "4  Orange   0.1  0.16\n",
              "5     Tan   0.1  0.00\n",
              "6    Blue   0.0  0.24"
            ],
            "text/html": [
              "\n",
              "  <div id=\"df-7bdd013f-0287-4894-a21d-92b8a1021ee9\">\n",
              "    <div class=\"colab-df-container\">\n",
              "      <div>\n",
              "<style scoped>\n",
              "    .dataframe tbody tr th:only-of-type {\n",
              "        vertical-align: middle;\n",
              "    }\n",
              "\n",
              "    .dataframe tbody tr th {\n",
              "        vertical-align: top;\n",
              "    }\n",
              "\n",
              "    .dataframe thead th {\n",
              "        text-align: right;\n",
              "    }\n",
              "</style>\n",
              "<table border=\"1\" class=\"dataframe\">\n",
              "  <thead>\n",
              "    <tr style=\"text-align: right;\">\n",
              "      <th></th>\n",
              "      <th>Color</th>\n",
              "      <th>Bag1</th>\n",
              "      <th>Bag2</th>\n",
              "    </tr>\n",
              "  </thead>\n",
              "  <tbody>\n",
              "    <tr>\n",
              "      <th>0</th>\n",
              "      <td>Brown</td>\n",
              "      <td>0.3</td>\n",
              "      <td>0.13</td>\n",
              "    </tr>\n",
              "    <tr>\n",
              "      <th>1</th>\n",
              "      <td>Yellow</td>\n",
              "      <td>0.2</td>\n",
              "      <td>0.14</td>\n",
              "    </tr>\n",
              "    <tr>\n",
              "      <th>2</th>\n",
              "      <td>Red</td>\n",
              "      <td>0.2</td>\n",
              "      <td>0.13</td>\n",
              "    </tr>\n",
              "    <tr>\n",
              "      <th>3</th>\n",
              "      <td>Green</td>\n",
              "      <td>0.1</td>\n",
              "      <td>0.20</td>\n",
              "    </tr>\n",
              "    <tr>\n",
              "      <th>4</th>\n",
              "      <td>Orange</td>\n",
              "      <td>0.1</td>\n",
              "      <td>0.16</td>\n",
              "    </tr>\n",
              "    <tr>\n",
              "      <th>5</th>\n",
              "      <td>Tan</td>\n",
              "      <td>0.1</td>\n",
              "      <td>0.00</td>\n",
              "    </tr>\n",
              "    <tr>\n",
              "      <th>6</th>\n",
              "      <td>Blue</td>\n",
              "      <td>0.0</td>\n",
              "      <td>0.24</td>\n",
              "    </tr>\n",
              "  </tbody>\n",
              "</table>\n",
              "</div>\n",
              "      <button class=\"colab-df-convert\" onclick=\"convertToInteractive('df-7bdd013f-0287-4894-a21d-92b8a1021ee9')\"\n",
              "              title=\"Convert this dataframe to an interactive table.\"\n",
              "              style=\"display:none;\">\n",
              "        \n",
              "  <svg xmlns=\"http://www.w3.org/2000/svg\" height=\"24px\"viewBox=\"0 0 24 24\"\n",
              "       width=\"24px\">\n",
              "    <path d=\"M0 0h24v24H0V0z\" fill=\"none\"/>\n",
              "    <path d=\"M18.56 5.44l.94 2.06.94-2.06 2.06-.94-2.06-.94-.94-2.06-.94 2.06-2.06.94zm-11 1L8.5 8.5l.94-2.06 2.06-.94-2.06-.94L8.5 2.5l-.94 2.06-2.06.94zm10 10l.94 2.06.94-2.06 2.06-.94-2.06-.94-.94-2.06-.94 2.06-2.06.94z\"/><path d=\"M17.41 7.96l-1.37-1.37c-.4-.4-.92-.59-1.43-.59-.52 0-1.04.2-1.43.59L10.3 9.45l-7.72 7.72c-.78.78-.78 2.05 0 2.83L4 21.41c.39.39.9.59 1.41.59.51 0 1.02-.2 1.41-.59l7.78-7.78 2.81-2.81c.8-.78.8-2.07 0-2.86zM5.41 20L4 18.59l7.72-7.72 1.47 1.35L5.41 20z\"/>\n",
              "  </svg>\n",
              "      </button>\n",
              "      \n",
              "  <style>\n",
              "    .colab-df-container {\n",
              "      display:flex;\n",
              "      flex-wrap:wrap;\n",
              "      gap: 12px;\n",
              "    }\n",
              "\n",
              "    .colab-df-convert {\n",
              "      background-color: #E8F0FE;\n",
              "      border: none;\n",
              "      border-radius: 50%;\n",
              "      cursor: pointer;\n",
              "      display: none;\n",
              "      fill: #1967D2;\n",
              "      height: 32px;\n",
              "      padding: 0 0 0 0;\n",
              "      width: 32px;\n",
              "    }\n",
              "\n",
              "    .colab-df-convert:hover {\n",
              "      background-color: #E2EBFA;\n",
              "      box-shadow: 0px 1px 2px rgba(60, 64, 67, 0.3), 0px 1px 3px 1px rgba(60, 64, 67, 0.15);\n",
              "      fill: #174EA6;\n",
              "    }\n",
              "\n",
              "    [theme=dark] .colab-df-convert {\n",
              "      background-color: #3B4455;\n",
              "      fill: #D2E3FC;\n",
              "    }\n",
              "\n",
              "    [theme=dark] .colab-df-convert:hover {\n",
              "      background-color: #434B5C;\n",
              "      box-shadow: 0px 1px 3px 1px rgba(0, 0, 0, 0.15);\n",
              "      filter: drop-shadow(0px 1px 2px rgba(0, 0, 0, 0.3));\n",
              "      fill: #FFFFFF;\n",
              "    }\n",
              "  </style>\n",
              "\n",
              "      <script>\n",
              "        const buttonEl =\n",
              "          document.querySelector('#df-7bdd013f-0287-4894-a21d-92b8a1021ee9 button.colab-df-convert');\n",
              "        buttonEl.style.display =\n",
              "          google.colab.kernel.accessAllowed ? 'block' : 'none';\n",
              "\n",
              "        async function convertToInteractive(key) {\n",
              "          const element = document.querySelector('#df-7bdd013f-0287-4894-a21d-92b8a1021ee9');\n",
              "          const dataTable =\n",
              "            await google.colab.kernel.invokeFunction('convertToInteractive',\n",
              "                                                     [key], {});\n",
              "          if (!dataTable) return;\n",
              "\n",
              "          const docLinkHtml = 'Like what you see? Visit the ' +\n",
              "            '<a target=\"_blank\" href=https://colab.research.google.com/notebooks/data_table.ipynb>data table notebook</a>'\n",
              "            + ' to learn more about interactive tables.';\n",
              "          element.innerHTML = '';\n",
              "          dataTable['output_type'] = 'display_data';\n",
              "          await google.colab.output.renderOutput(dataTable, element);\n",
              "          const docLink = document.createElement('div');\n",
              "          docLink.innerHTML = docLinkHtml;\n",
              "          element.appendChild(docLink);\n",
              "        }\n",
              "      </script>\n",
              "    </div>\n",
              "  </div>\n",
              "  "
            ]
          },
          "metadata": {},
          "execution_count": 59
        }
      ]
    },
    {
      "cell_type": "code",
      "source": [
        "# defining the probabilities\n",
        "p_b1 = 0.5\n",
        "p_b2 = 0.5\n",
        "\n",
        "p_yb1 = candy[candy[\"Color\"] == \"Yellow\"][\"Bag1\"].values[0]\n",
        "p_yb2 = candy[candy[\"Color\"] == \"Yellow\"][\"Bag2\"].values[0]\n",
        "\n",
        "p_gb1 = candy[candy[\"Color\"] == \"Green\"][\"Bag1\"].values[0]\n",
        "p_gb2 = candy[candy[\"Color\"] == \"Green\"][\"Bag2\"].values[0]\n",
        "\n",
        "# calculating P(Yellow and Green)\n",
        "p_YellowGreen = p_b1 * p_yb1 * p_b2 * p_gb2 + p_b2 * p_yb2 * p_b1 * p_gb1\n",
        "\n",
        "# using Bayes\" theorem to calculate P(Bag1|Yellow)\n",
        "p_b1_Yellow = (p_yb1 * p_gb2 * p_b1 * p_b2) / p_YellowGreen\n",
        "print(f\"Probability of yellow candy coming from Bag 1 = {round(p_b1_Yellow*100)}%\")"
      ],
      "metadata": {
        "colab": {
          "base_uri": "https://localhost:8080/"
        },
        "id": "K-KV4MFCnVyK",
        "outputId": "7cad394d-0d52-4d30-dd18-ff0c17c6635d"
      },
      "execution_count": 52,
      "outputs": [
        {
          "output_type": "stream",
          "name": "stdout",
          "text": [
            "Probability of yellow candy coming from Bag 1 = 74%\n"
          ]
        }
      ]
    },
    {
      "cell_type": "markdown",
      "metadata": {
        "id": "TgMPXUDmHFqs"
      },
      "source": [
        "What is the probability that the yellow candy came from Bag 2?"
      ]
    },
    {
      "cell_type": "code",
      "execution_count": 53,
      "metadata": {
        "colab": {
          "base_uri": "https://localhost:8080/"
        },
        "id": "RWL9wM5SHFqs",
        "outputId": "495fe06c-41e2-49ee-ee1b-6a213ee30664"
      },
      "outputs": [
        {
          "output_type": "stream",
          "name": "stdout",
          "text": [
            "Probability of yellow candy coming from Bag 2 = 26%\n"
          ]
        }
      ],
      "source": [
        "# using Bayes' theorem to calculate P(Bag2|Yellow)\n",
        "p_b2_Yellow = (p_yb2 * p_gb1 * p_b2 * p_b1) / p_YellowGreen\n",
        "print(f\"Probability of yellow candy coming from Bag 2 = {round(p_b2_Yellow*100)}%\")"
      ]
    },
    {
      "cell_type": "markdown",
      "metadata": {
        "id": "Z-rQHx-zHFqt"
      },
      "source": [
        "What are the probabilities that the green one came from Bag 1 and Bag 2 respectively?"
      ]
    },
    {
      "cell_type": "code",
      "execution_count": 54,
      "metadata": {
        "colab": {
          "base_uri": "https://localhost:8080/"
        },
        "id": "rDk4HFhDHFqt",
        "outputId": "eb537cb0-776f-4157-dbe8-d46fcaf46f6d"
      },
      "outputs": [
        {
          "output_type": "stream",
          "name": "stdout",
          "text": [
            "Probability of green candy coming from Bag 1 = 26%\n",
            "Probability of green candy coming from Bag 2 = 74%\n"
          ]
        }
      ],
      "source": [
        "# using Bayes' theorem to calculate P(Bag1|Green)\n",
        "p_b1_Green = (p_gb1 * p_yb2 * p_b1 * p_b2) / p_YellowGreen\n",
        "print(f\"Probability of green candy coming from Bag 1 = {round(p_b1_Green*100)}%\")\n",
        "\n",
        "# using Bayes' theorem to calculate P(Bag2|Green)\n",
        "p_b2_Green = (p_gb2 * p_yb1 * p_b1 * p_b2) / p_YellowGreen\n",
        "print(f\"Probability of green candy coming from Bag 2 = {round(p_b2_Green*100)}%\")"
      ]
    },
    {
      "cell_type": "markdown",
      "metadata": {
        "id": "y_ILJQtlHFqt"
      },
      "source": [
        "## 3. Monty Hall Problem\n",
        "\n",
        "Suppose you are a contestant on the popular game show *Let's Make a Deal*. The host of the show (Monty Hall) presents you with three doors - Door A, Door B, and Door C. He tells you that there is a sports car behind one of them and if you choose the correct one, you win the car!\n",
        "\n",
        "You select Door A, but then Monty makes things a little more interesting. He opens Door B to reveal that there is no sports car behind it and asks you if you would like to stick with your choice of Door A or switch your choice to Door C. Given this new information, what are the probabilities of you winning the car if you stick with Door A versus if you switch to Door C?"
      ]
    },
    {
      "cell_type": "code",
      "execution_count": 63,
      "metadata": {
        "colab": {
          "base_uri": "https://localhost:8080/"
        },
        "id": "hnreLedGHFqt",
        "outputId": "c80c1835-08a5-472f-b15b-82c05bd8ac23"
      },
      "outputs": [
        {
          "output_type": "stream",
          "name": "stdout",
          "text": [
            "The probability of winning if you stick with Door A is 33%\n",
            "The probability of winning if you switch to Door C is 67%\n"
          ]
        }
      ],
      "source": [
        "# defining the probabilities\n",
        "pA = 1/3\n",
        "pC = 2/3\n",
        "\n",
        "print(f\"The probability of winning if you stick with Door A is {round(pA * 100)}%\")\n",
        "print(f\"The probability of winning if you switch to Door C is {round(pC * 100)}%\")"
      ]
    },
    {
      "cell_type": "markdown",
      "metadata": {
        "id": "h-VCjfYnHFqu"
      },
      "source": [
        "## 4. Bayesian Analysis \n",
        "\n",
        "Suppose you work for a landscaping company, and they want to advertise their service online. They create an ad and sit back waiting for the money to roll in. On the first day, the ad sends 100 visitors to the site and 14 of them sign up for landscaping services. Create a generative model to come up with the posterior distribution and produce a visualization of what the posterior distribution would look like given the observed data."
      ]
    },
    {
      "cell_type": "code",
      "execution_count": 64,
      "metadata": {
        "colab": {
          "base_uri": "https://localhost:8080/",
          "height": 564
        },
        "id": "XK8QtnWDHFqu",
        "outputId": "2ff0d1e3-489d-48b8-83a3-9378278ad761"
      },
      "outputs": [
        {
          "output_type": "display_data",
          "data": {
            "text/plain": [
              "<Figure size 1500x600 with 1 Axes>"
            ],
            "image/png": "[encoded data removed]"
          },
          "metadata": {}
        }
      ],
      "source": [
        "import matplotlib.pyplot as plt\n",
        "import numpy as np\n",
        "from scipy.stats import beta\n",
        "\n",
        "# observed data\n",
        "visitors = 100\n",
        "signups = 14\n",
        "\n",
        "# parameters for the prior distribution\n",
        "alpha_prior = 1\n",
        "beta_prior = 1\n",
        "\n",
        "# parameters for the posterior distribution\n",
        "alpha_posterior = alpha_prior + signups\n",
        "beta_posterior = beta_prior + visitors - signups\n",
        "\n",
        "# create a range of possible conversion rates\n",
        "rates = np.linspace(0, 1, 1000)\n",
        "\n",
        "# compute the probability density function (pdf) of the prior and posterior distributions\n",
        "prior_pdf = beta.pdf(rates, alpha_prior, beta_prior)\n",
        "posterior_pdf = beta.pdf(rates, alpha_posterior, beta_posterior)\n",
        "\n",
        "# plot the prior and posterior distributions\n",
        "plt.figure(figsize=(15, 6))\n",
        "plt.plot(rates, prior_pdf, label=\"Prior\", color=\"blue\")\n",
        "plt.plot(rates, posterior_pdf, label=\"Posterior\", color=\"red\")\n",
        "plt.title(\"Prior and Posterior Distributions of Conversion Rate\")\n",
        "plt.xlabel(\"Conversion Rate\")\n",
        "plt.ylabel(\"Density\")\n",
        "plt.legend()\n",
        "plt.show()"
      ]
    },
    {
      "cell_type": "markdown",
      "metadata": {
        "id": "D5tkDKXHHFqu"
      },
      "source": [
        "Produce a set of descriptive statistics for the posterior distribution."
      ]
    },
    {
      "cell_type": "code",
      "execution_count": 66,
      "metadata": {
        "colab": {
          "base_uri": "https://localhost:8080/"
        },
        "id": "B5ZboREDHFqu",
        "outputId": "8fbb08c1-d741-4720-c89b-15764f035ecb"
      },
      "outputs": [
        {
          "output_type": "stream",
          "name": "stdout",
          "text": [
            "Mean: 0.15\n",
            "Variance: 0.0\n",
            "Standard Deviation: 0.03\n",
            "Median: 0.14\n",
            "Mode: 0.14\n"
          ]
        }
      ],
      "source": [
        "# create a random variable for the posterior distribution\n",
        "posterior = beta(alpha_posterior, beta_posterior)\n",
        "\n",
        "# calculate descriptive statistics\n",
        "mean = round(posterior.mean(), 2)\n",
        "variance = round(posterior.var(), 2)\n",
        "std_dev = round(posterior.std(), 2)\n",
        "median = round(posterior.median(), 2)\n",
        "mode = (alpha_posterior - 1) / (alpha_posterior + beta_posterior - 2)  # mode for a Beta distribution\n",
        "\n",
        "# print the statistics\n",
        "print(\"Mean:\", mean)\n",
        "print(\"Variance:\", variance)\n",
        "print(\"Standard Deviation:\", std_dev)\n",
        "print(\"Median:\", median)\n",
        "print(\"Mode:\", mode)"
      ]
    },
    {
      "cell_type": "markdown",
      "metadata": {
        "id": "M74f1XKvHFqu"
      },
      "source": [
        "What is the 90% credible interval range?"
      ]
    },
    {
      "cell_type": "markdown",
      "source": [
        "The credible interval, also known as the **highest posterior density interval** (HPDI), is an interval estimate of a parameter that is plausible given the data and a particular level of confidence. A 90% credible interval is the range within which the true parameter value lies with 90% probability.\n",
        "\n",
        "In Python, we can use the **ppf** (percent point function) method of the posterior distribution to calculate the lower and upper bounds of the credible interval.\n",
        "\n",
        "This code calculates the **5th** and **95th percentiles** of the posterior distribution, which define the **lower** and **upper bounds** of the ***90% credible interval***. The **ppf method** returns the value of the parameter for which the **cumulative distribution function** (CDF) is equal to a given probability.\n",
        "\n",
        "> For example, posterior.ppf(0.05) returns the value of the conversion rate for which 5% of the distribution's probability mass lies to the left.\n",
        "\n",
        "Note that the **90% credible interval** is ***not the same*** as the **90% confidence interval** from ***frequentist statistics***.\n",
        "\n",
        "While they both provide a range of plausible values for a parameter, they are interpreted differently:\n",
        "- a **90% confidence interval** means that if you were to repeat the experiment many times, 90% of the confidence intervals would contain the true parameter value\n",
        "- whereas a **90% credible interval** means that given the observed data, there is a 90% probability that the true parameter value lies within the interval"
      ],
      "metadata": {
        "id": "TDPSpqcX2mZk"
      }
    },
    {
      "cell_type": "code",
      "execution_count": 67,
      "metadata": {
        "colab": {
          "base_uri": "https://localhost:8080/"
        },
        "id": "6YFW3mICHFqv",
        "outputId": "39505086-1ba1-46ac-801e-bfd7702d1457"
      },
      "outputs": [
        {
          "output_type": "stream",
          "name": "stdout",
          "text": [
            "90% credible interval: (0.09383120735394776, 0.20817889490003688)\n"
          ]
        }
      ],
      "source": [
        "# calculate the 90% credible interval\n",
        "lower_bound = posterior.ppf(0.05)  # 5th percentile\n",
        "upper_bound = posterior.ppf(0.95)  # 95th percentile\n",
        "\n",
        "print(f\"90% credible interval: {(lower_bound, upper_bound)}\")"
      ]
    },
    {
      "cell_type": "markdown",
      "source": [
        "The 90% credible interval (0.094, 0.208) gives us a range of plausible values for the conversion rate of the ad, given the data we observed. \n",
        "\n",
        "In simpler terms, based on the data of 100 visitors and 14 sign-ups, we can say with 90% confidence that the true conversion rate (i.e., the probability that a visitor to the site will sign up for landscaping services) is between approximately 9.4% and 20.8%. \n",
        "\n",
        "This is a useful range as it tells us what we might expect if we continue to run the ad. For example, if we have 100 new visitors to the site, we might expect between about 9 and 21 of them to sign up for the services, based on the current data."
      ],
      "metadata": {
        "id": "G4p02cGS21F6"
      }
    },
    {
      "cell_type": "markdown",
      "metadata": {
        "id": "kRMcyhTPHFqv"
      },
      "source": [
        "What is the Maximum Likelihood Estimate?"
      ]
    },
    {
      "cell_type": "markdown",
      "source": [
        "The **Maximum Likelihood Estimate** (MLE) is a method of estimating the parameters of a statistical model. It finds the parameter values that maximize the likelihood function, given the observed data.\n",
        "\n",
        "In the context of the conversion rate problem, the MLE of the conversion rate would be the proportion of visitors who signed up for landscaping services, which is 14 out of 100 or 0.14.\n",
        "\n",
        "It's important to note that the MLE is a point estimate, meaning it gives a single value as the \"best\" estimate of the conversion rate. On the other hand, the Bayesian approach gives a posterior distribution, which represents a range of plausible values for the conversion rate, along with the relative probabilities of these values.\n",
        "\n",
        "The peak of this distribution (the mode) corresponds to the maximum a posteriori (MAP) estimate, which is the most likely value of the conversion rate, given the observed data and the prior distribution.\n",
        "\n",
        "For a Beta distribution, the MAP is `(alpha - 1) / (alpha + beta - 2)`, assuming alpha and beta are both greater than 1."
      ],
      "metadata": {
        "id": "IC3ymhXL353E"
      }
    },
    {
      "cell_type": "code",
      "execution_count": 68,
      "metadata": {
        "colab": {
          "base_uri": "https://localhost:8080/"
        },
        "id": "7NidcAGKHFqv",
        "outputId": "b232451c-a04c-4e4f-b831-02cff7887cd0"
      },
      "outputs": [
        {
          "output_type": "stream",
          "name": "stdout",
          "text": [
            "Maximum Likelihood Estimate: 0.14\n"
          ]
        }
      ],
      "source": [
        "# calculate the MLE\n",
        "mle = signups / visitors\n",
        "print(\"Maximum Likelihood Estimate:\", mle)\n",
        "\n",
        "# outputs the MLE of the conversion rate."
      ]
    }
  ],
  "metadata": {
    "kernelspec": {
      "display_name": "Python 3",
      "language": "python",
      "name": "python3"
    },
    "language_info": {
      "codemirror_mode": {
        "name": "ipython",
        "version": 3
      },
      "file_extension": ".py",
      "mimetype": "text/x-python",
      "name": "python",
      "nbconvert_exporter": "python",
      "pygments_lexer": "ipython3",
      "version": "3.7.2"
    },
    "colab": {
      "provenance": [],
      "collapsed_sections": [
        "BlL77UqOHFqq",
        "jD9fAHpGHFqs",
        "y_ILJQtlHFqt",
        "h-VCjfYnHFqu"
      ]
    }
  },
  "nbformat": 4,
  "nbformat_minor": 0
}