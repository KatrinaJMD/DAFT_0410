{
  "cells": [
    {
      "cell_type": "markdown",
      "metadata": {
        "toc": true,
        "id": "yhWkmpJsmwp0"
      },
      "source": [
        "<h1>Table of Contents<span class=\"tocSkip\"></span></h1>\n",
        "<div class=\"toc\"><ul class=\"toc-item\"><li><span><a href=\"#Confidence-Intervals\" data-toc-modified-id=\"Confidence-Intervals-1\"><span class=\"toc-item-num\">1&nbsp;&nbsp;</span>Confidence Intervals</a></span><ul class=\"toc-item\"><li><span><a href=\"#Challenge-1\" data-toc-modified-id=\"Challenge-1-1.1\"><span class=\"toc-item-num\">1.1&nbsp;&nbsp;</span>Challenge 1</a></span></li><li><span><a href=\"#Challenge-2\" data-toc-modified-id=\"Challenge-2-1.2\"><span class=\"toc-item-num\">1.2&nbsp;&nbsp;</span>Challenge 2</a></span></li><li><span><a href=\"#Challenge-3---More-practice\" data-toc-modified-id=\"Challenge-3---More-practice-1.3\"><span class=\"toc-item-num\">1.3&nbsp;&nbsp;</span>Challenge 3 - More practice</a></span></li><li><span><a href=\"#Challenge-4---More-practice\" data-toc-modified-id=\"Challenge-4---More-practice-1.4\"><span class=\"toc-item-num\">1.4&nbsp;&nbsp;</span>Challenge 4 - More practice</a></span></li><li><span><a href=\"#Bonus-Challenge\" data-toc-modified-id=\"Bonus-Challenge-1.5\"><span class=\"toc-item-num\">1.5&nbsp;&nbsp;</span>Bonus Challenge</a></span><ul class=\"toc-item\"><li><ul class=\"toc-item\"><li><span><a href=\"#1.--Determine-what-size-the-selected-sample-of-men-should-be.\" data-toc-modified-id=\"1.--Determine-what-size-the-selected-sample-of-men-should-be.-1.5.0.1\"><span class=\"toc-item-num\">1.5.0.1&nbsp;&nbsp;</span>1.- Determine what size the selected sample of men should be.</a></span></li><li><span><a href=\"#2.--For-the-second-challenge,-we-have-the-following-error:\" data-toc-modified-id=\"2.--For-the-second-challenge,-we-have-the-following-error:-1.5.0.2\"><span class=\"toc-item-num\">1.5.0.2&nbsp;&nbsp;</span>2.- For the second challenge, we have the following error:</a></span></li><li><span><a href=\"#Determine-the-sample-size-required-to-not-exceed-an-error-of-1%-with-a-confidence-of-80%.\" data-toc-modified-id=\"Determine-the-sample-size-required-to-not-exceed-an-error-of-1%-with-a-confidence-of-80%.-1.5.0.3\"><span class=\"toc-item-num\">1.5.0.3&nbsp;&nbsp;</span>Determine the sample size required to not exceed an error of 1% with a confidence of 80%.</a></span></li></ul></li></ul></li><li><span><a href=\"#Bonus-Challenge\" data-toc-modified-id=\"Bonus-Challenge-1.6\"><span class=\"toc-item-num\">1.6&nbsp;&nbsp;</span>Bonus Challenge</a></span></li></ul></li></ul></div>"
      ]
    },
    {
      "cell_type": "markdown",
      "metadata": {
        "id": "uSpNcZd9mwp3"
      },
      "source": [
        "# Confidence Intervals"
      ]
    },
    {
      "cell_type": "code",
      "execution_count": 1,
      "metadata": {
        "colab": {
          "base_uri": "https://localhost:8080/"
        },
        "id": "u0QCPi5Mmwp3",
        "outputId": "b5852d67-692d-4dc4-8da6-88ab4f3c9c2d"
      },
      "outputs": [
        {
          "output_type": "stream",
          "name": "stdout",
          "text": [
            "Mounted at /content/drive\n"
          ]
        }
      ],
      "source": [
        "# Libraries\n",
        "import numpy as np\n",
        "import pandas as pd\n",
        "import scipy as sp\n",
        "from scipy import stats\n",
        "%matplotlib inline\n",
        "\n",
        "# mount drive\n",
        "from google.colab import drive\n",
        "drive.mount('/content/drive')"
      ]
    },
    {
      "cell_type": "markdown",
      "metadata": {
        "id": "KwAYaMZsmwp4"
      },
      "source": [
        "## Challenge 1\n",
        "We want to estimate the average size of the men of a country with a confidence level of 80%. Assuming that the standard deviation of the sizes in the population is 4, get the confidence interval with a sample of men selected randomly, whose heights are:\n",
        "\n",
        "````\n",
        "heights = [167, 167, 168, 168, 168, 169, 171, 172, 173, 175, 175, 175, 177, 182, 195]\n",
        "````\n",
        "\n",
        "**Hint**: function `stats.norm.interval` from `scipy` can help you get through this exercise. "
      ]
    },
    {
      "cell_type": "code",
      "execution_count": 9,
      "metadata": {
        "colab": {
          "base_uri": "https://localhost:8080/"
        },
        "id": "7SirJSRrmwp4",
        "outputId": "b9be9f19-8a53-47fc-94f4-24b2379556d7"
      },
      "outputs": [
        {
          "output_type": "stream",
          "name": "stdout",
          "text": [
            "Confidence interval: (172.14308590115726, 174.79024743217607)\n"
          ]
        }
      ],
      "source": [
        "# your code here\n",
        "heights = [167, 167, 168, 168, 168, 169, 171, 172, 173, 175, 175, 175, 177, 182, 195]\n",
        "\n",
        "std_dev = 4\n",
        "confidence_level = 0.8\n",
        "\n",
        "# sample mean\n",
        "dataMean = np.mean(heights)\n",
        "\n",
        "# sample size\n",
        "dataSize = len(heights)\n",
        "\n",
        "# standard error\n",
        "std_error = std_dev / np.sqrt(dataSize)\n",
        "\n",
        "# confidence interval using stats.norm.interval()\n",
        "ci = stats.norm.interval(confidence_level, loc=dataMean, scale=std_error)\n",
        "\n",
        "print(f\"Confidence interval: {ci}\")"
      ]
    },
    {
      "cell_type": "markdown",
      "metadata": {
        "id": "7Cil2aYlmwp4"
      },
      "source": [
        "## Challenge 2 \n",
        "In a sample of 105 shops selected randomly from an area, we note that 27 of them have had losses in this month. Get an interval for the proportion of businesses in the area with losses to a confidence level of 80% and a confidence level of 90%.\n",
        "\n",
        "**Hint**: function `stats.norm.interval` from `scipy` can help you get through this exercise. "
      ]
    },
    {
      "cell_type": "markdown",
      "source": [
        "***NOTE TO SELF :***\n",
        "\n",
        "Formula for the standard error of a proportion: <br>\n",
        "\n",
        "$$\\begin{align}\n",
        "SE & = \\sqrt{\\frac{p * (1-p)}{n}} \\\\\n",
        "\\text{or} \\quad SE & = \\frac{\\sigma}{\\sqrt{n}}\n",
        "\\end{align}$$\n",
        "\n",
        "where $p$ is the sample proportion and $n$ is the sample size."
      ],
      "metadata": {
        "id": "shubSCQ0phNP"
      }
    },
    {
      "cell_type": "code",
      "execution_count": 10,
      "metadata": {
        "colab": {
          "base_uri": "https://localhost:8080/"
        },
        "id": "k8KLHtjKmwp5",
        "outputId": "a16a77d4-01f6-4644-cebc-a95f6abcaa63"
      },
      "outputs": [
        {
          "output_type": "stream",
          "name": "stdout",
          "text": [
            "80% confidence interval: (0.20248138545542083, 0.3118043288302934)\n",
            "90% confidence interval: (0.1869856177645281, 0.3273000965211861)\n"
          ]
        }
      ],
      "source": [
        "# your code here\n",
        "dataSize = 105\n",
        "shops_with_losses = 27\n",
        "\n",
        "# sample proportion\n",
        "proportion = shops_with_losses / dataSize\n",
        "\n",
        "# standard error for the proportion\n",
        "std_error = np.sqrt((proportion * (1 - proportion)) / dataSize)\n",
        "\n",
        "# confidence interval for 80% confidence level\n",
        "conf_interval_80 = stats.norm.interval(0.8, loc=proportion, scale=std_error)\n",
        "\n",
        "# confidence interval for 90% confidence level\n",
        "conf_interval_90 = stats.norm.interval(0.9, loc=proportion, scale=std_error)\n",
        "\n",
        "print(f\"80% confidence interval: {conf_interval_80}\")\n",
        "print(f\"90% confidence interval: {conf_interval_90}\")"
      ]
    },
    {
      "cell_type": "markdown",
      "metadata": {
        "id": "k4jWbEwGmwp5"
      },
      "source": [
        "## Challenge 3 - More practice\n",
        "For the same example in challenge 1, calculate a confidence interval for the variance at 90% level.\n",
        "\n",
        "**Hint**: function `stats.chi2.interval` from `scipy` can help you get through this exercise. "
      ]
    },
    {
      "cell_type": "markdown",
      "source": [
        "***NOTE TO SELF :***\n",
        "\n",
        "For this, we need to use the **Chi-Squared distribution** instead of the **normal distribution**. The confidence interval for the variance is calculated using the following formula:\n",
        "\n",
        "$$\\begin{align}\n",
        "\\displaystyle\n",
        "\\text{Lower limit} = \\frac{(n - 1) * s^2}{χ^2upper} \\quad\n",
        "\\text{Upper limit} = \\frac{(n - 1) * s^2}{χ^2lower}\n",
        "\\end{align}$$\n",
        "\n",
        "where $n$ is the **sample size**, $s^2$ is the **sample variance**, and $χ^2upper$ and $χ^2lower$ are the **upper** and **lower Chi-Squared** values corresponding to the desired confidence level."
      ],
      "metadata": {
        "id": "J9eiuQrvsuPb"
      }
    },
    {
      "cell_type": "code",
      "execution_count": 11,
      "metadata": {
        "colab": {
          "base_uri": "https://localhost:8080/"
        },
        "id": "PtdEYgB5mwp5",
        "outputId": "63f1883d-1c4f-46a6-ef78-1e3c06ae64b2"
      },
      "outputs": [
        {
          "output_type": "stream",
          "name": "stdout",
          "text": [
            "90% confidence interval for the variance: (31.992400675216064, 115.32123613002646)\n"
          ]
        }
      ],
      "source": [
        "# your code here\n",
        "heights = [167, 167, 168, 168, 168, 169, 171, 172, 173, 175, 175, 175, 177, 182, 195]\n",
        "\n",
        "# sample size\n",
        "dataSize = len(heights)\n",
        "\n",
        "# sample variance\n",
        "dataVariance = np.var(heights, ddof=1)\n",
        "\n",
        "# Chi-Squared values for the 90% confidence level\n",
        "chi2_lower, chi2_upper = stats.chi2.interval(0.9, df=dataSize - 1)\n",
        "\n",
        "# confidence interval for the variance\n",
        "conf_interval_variance = ((dataSize - 1) * dataVariance) / chi2_upper, ((dataSize - 1) * dataVariance) / chi2_lower\n",
        "\n",
        "print(f\"90% confidence interval for the variance: {conf_interval_variance}\")"
      ]
    },
    {
      "cell_type": "markdown",
      "metadata": {
        "id": "C0EgKBlJmwp5"
      },
      "source": [
        "## Challenge 4 - More practice\n",
        "The sulfuric acid content of 7 similar containers is 9.8, 10.2, 10.4, 9.8, 10.0, 10.2 and 9.6 liters. Calculate a 95% confidence interval for the average content of all containers assuming an approximately normal distribution.\n",
        "\n",
        "```\n",
        "acid = [9.8, 10.2, 10.4, 9.8, 10.0, 10.2, 9.6]\n",
        "```\n",
        "\n",
        "**Hint**: function `stats.t.interval` from `scipy` can help you get through this exercise. "
      ]
    },
    {
      "cell_type": "markdown",
      "source": [
        "***NOTE TO SELF :***\n",
        "\n",
        "We use the **`stats.t.interval()`** function from the **scipy library**, because the **sample size** is **small** ***(n=7)*** and the **population standard deviation** is ***unknown***."
      ],
      "metadata": {
        "id": "Ur8nVehcu1IQ"
      }
    },
    {
      "cell_type": "code",
      "execution_count": 12,
      "metadata": {
        "colab": {
          "base_uri": "https://localhost:8080/"
        },
        "id": "Tz3h0yuCmwp5",
        "outputId": "5d830fa4-1b5d-4879-ba3e-8ba445a4f090"
      },
      "outputs": [
        {
          "output_type": "stream",
          "name": "stdout",
          "text": [
            "95% confidence interval: (9.738414120176683, 10.261585879823317)\n"
          ]
        }
      ],
      "source": [
        "# your code here\n",
        "acid = [9.8, 10.2, 10.4, 9.8, 10.0, 10.2, 9.6]\n",
        "\n",
        "# mean\n",
        "sample_mean = np.mean(acid)\n",
        "\n",
        "# size\n",
        "sample_size = len(acid)\n",
        "\n",
        "# standard deviation\n",
        "sample_std_dev = np.std(acid, ddof=1)\n",
        "\n",
        "# standard error\n",
        "std_error = sample_std_dev / np.sqrt(sample_size)\n",
        "\n",
        "# 95% confidence interval using stats.t.interval()\n",
        "conf_interval = stats.t.interval(0.95, df=sample_size - 1, loc=sample_mean, scale=std_error)\n",
        "\n",
        "print(f\"95% confidence interval: {conf_interval}\")"
      ]
    },
    {
      "cell_type": "markdown",
      "metadata": {
        "id": "WqKKY3qWmwp6"
      },
      "source": [
        "## Bonus Challenge\n",
        "The error level or sampling error for the first challenge is given by the following expression:\n",
        "$$Error = z_{\\frac{\\alpha}{2}}\\frac{\\sigma}{\\sqrt n}$$\n",
        "Where z represents the value for N(0,1)\n",
        "\n",
        "\n",
        "Suppose that with the previous data of challenge 1, and with a confidence level of\n",
        "99% (that is, almost certainly) we want to estimate the average population size, so that the error level committed is not greater than half a centimeter."
      ]
    },
    {
      "cell_type": "markdown",
      "source": [
        "#### 1.- Determine what size the selected sample of men should be."
      ],
      "metadata": {
        "id": "QjEpDYXFw0uF"
      }
    },
    {
      "cell_type": "markdown",
      "source": [
        "To determine the sample size required for a given error level and confidence level, we can rearrange the formula for the error level:\n",
        "\n",
        "$$n = \\left(\\frac{z_{\\frac{\\alpha}{2}} \\sigma}{Error}\\right)^2$$\n",
        "\n",
        "In this case, we are given the following information:\n",
        "- Confidence level: 99%\n",
        "- Error level (maximum): 0.5 cm\n",
        "- Population standard deviation (σ): 4\n",
        "\n",
        "First, we need to find the z-score for the 99% confidence level. Then, we can use the formula to calculate the required sample size."
      ],
      "metadata": {
        "id": "PzKqluXVwO9_"
      }
    },
    {
      "cell_type": "code",
      "execution_count": 14,
      "metadata": {
        "colab": {
          "base_uri": "https://localhost:8080/"
        },
        "id": "IRGmTeg2mwp6",
        "outputId": "14868163-5093-4a34-cd90-24425daf0558"
      },
      "outputs": [
        {
          "output_type": "stream",
          "name": "stdout",
          "text": [
            "Required sample size: 425\n"
          ]
        }
      ],
      "source": [
        "# your code here\n",
        "confidence_level = 0.99\n",
        "error_level = 0.5\n",
        "std_dev = 4\n",
        "\n",
        "# z-score for the 99% confidence level\n",
        "zScore = stats.norm.ppf((1 + confidence_level) / 2)\n",
        "\n",
        "# compute required sample size\n",
        "requiredSize = (zScore * std_dev / error_level) ** 2\n",
        "\n",
        "# round up to the nearest whole number, as the sample size must be an integer\n",
        "requiredSize = int(np.ceil(requiredSize))\n",
        "\n",
        "print(f\"Required sample size: {requiredSize}\")"
      ]
    },
    {
      "cell_type": "markdown",
      "metadata": {
        "id": "zmNqsRyUmwp6"
      },
      "source": [
        "#### 2.- For the second challenge, we have the following error:\n",
        "$$ Error = z_{\\frac{\\alpha}{2}}\\sqrt{\\frac{p\\times q}{n}} $$\n",
        "#### Determine the sample size required to not exceed an error of 1% with a confidence of 80%."
      ]
    },
    {
      "cell_type": "markdown",
      "source": [
        "To determine the sample size required for a given error level and confidence level for proportions, we can rearrange the formula for the error level:\n",
        "\n",
        "$$n = \\frac{(z_{\\frac{\\alpha}{2}})^2 \\times p \\times q}{(Error)^2}$$\n",
        "\n",
        "In this case, we are given the following information:\n",
        "- Confidence level: 80%\n",
        "- Error level (maximum): 1% (0.01)\n",
        "- Sample proportion (p) from the second challenge: 27 / 105\n",
        "\n",
        "First, we need to find the z-score for the 80% confidence level. Then, we can use the formula to calculate the required sample size. Since we don't have information about the population proportions, we can use the sample proportion as an approximation. The complementary proportion (q) can be calculated as (1 - p)."
      ],
      "metadata": {
        "id": "y85PnmipyypX"
      }
    },
    {
      "cell_type": "code",
      "execution_count": 15,
      "metadata": {
        "colab": {
          "base_uri": "https://localhost:8080/"
        },
        "id": "iAzkmz_umwp6",
        "outputId": "b79aef74-4329-4737-cf24-94286432ee36"
      },
      "outputs": [
        {
          "output_type": "stream",
          "name": "stdout",
          "text": [
            "Required sample size: 3138\n"
          ]
        }
      ],
      "source": [
        "# your code here\n",
        "confidence_level = 0.8\n",
        "error_level = 0.01\n",
        "prevSize = 105\n",
        "shops_with_losses = 27\n",
        "\n",
        "# sample proportion\n",
        "proportion = shops_with_losses / prevSize\n",
        "\n",
        "# complementary proportion (q)\n",
        "q = 1 - proportion\n",
        "\n",
        "# z-score for the 80% confidence level\n",
        "z_score = stats.norm.ppf((1 + confidence_level) / 2)\n",
        "\n",
        "# compute required sample size\n",
        "requiredSize = (z_score ** 2 * proportion * q) / (error_level ** 2)\n",
        "\n",
        "# round up to the nearest whole number, as the sample size must be an integer\n",
        "requiredSize = int(np.ceil(requiredSize))\n",
        "\n",
        "print(f\"Required sample size: {requiredSize}\")"
      ]
    },
    {
      "cell_type": "markdown",
      "metadata": {
        "id": "C6CZ55CNmwp6"
      },
      "source": [
        "## Bonus Challenge\n",
        "\n",
        "Let's consider the following problem:\n",
        "\n",
        "Build a confidence interval of 94% for the real difference between the durations of two brands of spotlights, if a sample of 40 spotlights taken randomly from the first mark gave an average duration of 418 hours, and a sample of 50 bulbs of another brand gave a duration average of 402 hours. The standard deviations of the two\n",
        "populations are 26 hours and 22 hours, respectively.\n",
        "\n",
        "Sometimes, we will be interested in the difference of two different groups of random variables. We can also build a confidence interval for that! We have some different cases regarding the variance but for this specific case (the variance are different and known), we have that:\n",
        "\n",
        "$$\\overline{X} - \\overline{Y}  \\sim N(\\mu_{X} - \\mu_{Y} , \\sqrt{\\frac{\\sigma_{X}^2}{n_X}+\\frac{\\sigma_{Y}^2}{n_Y}})$$\n",
        "\n",
        "Solve the problem with this information."
      ]
    },
    {
      "cell_type": "markdown",
      "source": [
        "To build a 94% confidence interval for the real difference between the durations of two brands of spotlights, we can use the information provided and the formula for the confidence interval of the difference between two population means when the variances are known and different."
      ],
      "metadata": {
        "id": "5gLj3Svv1EsE"
      }
    },
    {
      "cell_type": "code",
      "execution_count": 16,
      "metadata": {
        "colab": {
          "base_uri": "https://localhost:8080/"
        },
        "id": "eZwgw8w2mwp7",
        "outputId": "b7a9e4b7-51b3-4996-d0a3-8aabcc6fe0e6"
      },
      "outputs": [
        {
          "output_type": "stream",
          "name": "stdout",
          "text": [
            "Confidence interval for the difference: (6.303419026585921, 25.69658097341408)\n"
          ]
        }
      ],
      "source": [
        "# your code here\n",
        "confidence_level = 0.94\n",
        "mean_duration_brand1 = 418\n",
        "mean_duration_brand2 = 402\n",
        "std_dev_brand1 = 26\n",
        "std_dev_brand2 = 22\n",
        "sample_size_brand1 = 40\n",
        "sample_size_brand2 = 50\n",
        "\n",
        "# difference between sample means\n",
        "mean_diff = mean_duration_brand1 - mean_duration_brand2\n",
        "\n",
        "# combined standard error\n",
        "combined_std_error = np.sqrt((std_dev_brand1 ** 2) / sample_size_brand1 + (std_dev_brand2 ** 2) / sample_size_brand2)\n",
        "\n",
        "# z-score for the 94% confidence level\n",
        "z_score = stats.norm.ppf((1 + confidence_level) / 2)\n",
        "\n",
        "# confidence interval\n",
        "conf_interval = (mean_diff - z_score * combined_std_error, mean_diff + z_score * combined_std_error)\n",
        "\n",
        "print(f\"Confidence interval for the difference: {conf_interval}\")"
      ]
    }
  ],
  "metadata": {
    "kernelspec": {
      "display_name": "Python 3",
      "language": "python",
      "name": "python3"
    },
    "language_info": {
      "codemirror_mode": {
        "name": "ipython",
        "version": 3
      },
      "file_extension": ".py",
      "mimetype": "text/x-python",
      "name": "python",
      "nbconvert_exporter": "python",
      "pygments_lexer": "ipython3",
      "version": "3.7.6"
    },
    "toc": {
      "base_numbering": 1,
      "nav_menu": {},
      "number_sections": true,
      "sideBar": true,
      "skip_h1_title": false,
      "title_cell": "Table of Contents",
      "title_sidebar": "Contents",
      "toc_cell": true,
      "toc_position": {},
      "toc_section_display": true,
      "toc_window_display": false
    },
    "colab": {
      "provenance": []
    }
  },
  "nbformat": 4,
  "nbformat_minor": 0
}