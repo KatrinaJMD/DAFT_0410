{
  "cells": [
    {
      "cell_type": "markdown",
      "metadata": {
        "id": "2fsF7XzkDv-P"
      },
      "source": [
        "# Before your start:\n",
        "- Read the README.md file\n",
        "- Comment as much as you can and use the resources (README.md file)\n",
        "- Happy learning!"
      ]
    },
    {
      "cell_type": "code",
      "execution_count": 2,
      "metadata": {
        "colab": {
          "base_uri": "https://localhost:8080/"
        },
        "id": "eHHCJfBjDv-R",
        "outputId": "6595dbd5-5bde-4b94-f006-9a906a5e8e64"
      },
      "outputs": [
        {
          "output_type": "stream",
          "name": "stdout",
          "text": [
            "Mounted at /content/drive\n"
          ]
        }
      ],
      "source": [
        "# import numpy and pandas\n",
        "import numpy as np\n",
        "import pandas as pd\n",
        "import scipy.stats as stats\n",
        "\n",
        "# mount drive\n",
        "from google.colab import drive\n",
        "drive.mount('/content/drive')"
      ]
    },
    {
      "cell_type": "markdown",
      "metadata": {
        "id": "camrJAb6Dv-T"
      },
      "source": [
        "# Challenge 1 - Exploring the Data\n",
        "\n",
        "In this challenge, we will examine all salaries of employees of the City of Chicago. We will start by loading the dataset and examining its contents. Please, load the data using Ironhack's database (db: employees, table: employees_advanced)."
      ]
    },
    {
      "cell_type": "code",
      "execution_count": 3,
      "metadata": {
        "id": "Dd8MLr2cDv-T"
      },
      "outputs": [],
      "source": [
        "# Your code here:\n",
        "employees = pd.read_csv(\"/content/drive/MyDrive/[01] Data Analytics - IronHack/[06] Courses/Week 5/Day 21 - Monday/[LAB 7] - Hypothesis Testing/Employees_advanced.csv\")"
      ]
    },
    {
      "cell_type": "markdown",
      "metadata": {
        "id": "0fLQFSwnDv-U"
      },
      "source": [
        "Examine the `salaries` dataset using the `head` function below."
      ]
    },
    {
      "cell_type": "code",
      "execution_count": 4,
      "metadata": {
        "colab": {
          "base_uri": "https://localhost:8080/",
          "height": 201
        },
        "id": "HHZUESyyDv-U",
        "outputId": "b2125499-c2dd-43cd-c03c-0e9fee703099"
      },
      "outputs": [
        {
          "output_type": "execute_result",
          "data": {
            "text/plain": [
              "                  Name                              Job Titles  \\\n",
              "0    AARON,  JEFFERY M                                SERGEANT   \n",
              "1      AARON,  KARINA   POLICE OFFICER (ASSIGNED AS DETECTIVE)   \n",
              "2  AARON,  KIMBERLEI R                CHIEF CONTRACT EXPEDITER   \n",
              "3  ABAD JR,  VICENTE M                       CIVIL ENGINEER IV   \n",
              "4    ABASCAL,  REECE E             TRAFFIC CONTROL AIDE-HOURLY   \n",
              "\n",
              "         Department Full or Part-Time Salary or Hourly  Typical Hours  \\\n",
              "0            POLICE                 F           Salary            NaN   \n",
              "1            POLICE                 F           Salary            NaN   \n",
              "2  GENERAL SERVICES                 F           Salary            NaN   \n",
              "3       WATER MGMNT                 F           Salary            NaN   \n",
              "4              OEMC                 P           Hourly           20.0   \n",
              "\n",
              "   Annual Salary  Hourly Rate  \n",
              "0       101442.0          NaN  \n",
              "1        94122.0          NaN  \n",
              "2       101592.0          NaN  \n",
              "3       110064.0          NaN  \n",
              "4            NaN        19.86  "
            ],
            "text/html": [
              "\n",
              "  <div id=\"df-4b335b2b-6dd0-4033-bf00-9747c212013b\">\n",
              "    <div class=\"colab-df-container\">\n",
              "      <div>\n",
              "<style scoped>\n",
              "    .dataframe tbody tr th:only-of-type {\n",
              "        vertical-align: middle;\n",
              "    }\n",
              "\n",
              "    .dataframe tbody tr th {\n",
              "        vertical-align: top;\n",
              "    }\n",
              "\n",
              "    .dataframe thead th {\n",
              "        text-align: right;\n",
              "    }\n",
              "</style>\n",
              "<table border=\"1\" class=\"dataframe\">\n",
              "  <thead>\n",
              "    <tr style=\"text-align: right;\">\n",
              "      <th></th>\n",
              "      <th>Name</th>\n",
              "      <th>Job Titles</th>\n",
              "      <th>Department</th>\n",
              "      <th>Full or Part-Time</th>\n",
              "      <th>Salary or Hourly</th>\n",
              "      <th>Typical Hours</th>\n",
              "      <th>Annual Salary</th>\n",
              "      <th>Hourly Rate</th>\n",
              "    </tr>\n",
              "  </thead>\n",
              "  <tbody>\n",
              "    <tr>\n",
              "      <th>0</th>\n",
              "      <td>AARON,  JEFFERY M</td>\n",
              "      <td>SERGEANT</td>\n",
              "      <td>POLICE</td>\n",
              "      <td>F</td>\n",
              "      <td>Salary</td>\n",
              "      <td>NaN</td>\n",
              "      <td>101442.0</td>\n",
              "      <td>NaN</td>\n",
              "    </tr>\n",
              "    <tr>\n",
              "      <th>1</th>\n",
              "      <td>AARON,  KARINA</td>\n",
              "      <td>POLICE OFFICER (ASSIGNED AS DETECTIVE)</td>\n",
              "      <td>POLICE</td>\n",
              "      <td>F</td>\n",
              "      <td>Salary</td>\n",
              "      <td>NaN</td>\n",
              "      <td>94122.0</td>\n",
              "      <td>NaN</td>\n",
              "    </tr>\n",
              "    <tr>\n",
              "      <th>2</th>\n",
              "      <td>AARON,  KIMBERLEI R</td>\n",
              "      <td>CHIEF CONTRACT EXPEDITER</td>\n",
              "      <td>GENERAL SERVICES</td>\n",
              "      <td>F</td>\n",
              "      <td>Salary</td>\n",
              "      <td>NaN</td>\n",
              "      <td>101592.0</td>\n",
              "      <td>NaN</td>\n",
              "    </tr>\n",
              "    <tr>\n",
              "      <th>3</th>\n",
              "      <td>ABAD JR,  VICENTE M</td>\n",
              "      <td>CIVIL ENGINEER IV</td>\n",
              "      <td>WATER MGMNT</td>\n",
              "      <td>F</td>\n",
              "      <td>Salary</td>\n",
              "      <td>NaN</td>\n",
              "      <td>110064.0</td>\n",
              "      <td>NaN</td>\n",
              "    </tr>\n",
              "    <tr>\n",
              "      <th>4</th>\n",
              "      <td>ABASCAL,  REECE E</td>\n",
              "      <td>TRAFFIC CONTROL AIDE-HOURLY</td>\n",
              "      <td>OEMC</td>\n",
              "      <td>P</td>\n",
              "      <td>Hourly</td>\n",
              "      <td>20.0</td>\n",
              "      <td>NaN</td>\n",
              "      <td>19.86</td>\n",
              "    </tr>\n",
              "  </tbody>\n",
              "</table>\n",
              "</div>\n",
              "      <button class=\"colab-df-convert\" onclick=\"convertToInteractive('df-4b335b2b-6dd0-4033-bf00-9747c212013b')\"\n",
              "              title=\"Convert this dataframe to an interactive table.\"\n",
              "              style=\"display:none;\">\n",
              "        \n",
              "  <svg xmlns=\"http://www.w3.org/2000/svg\" height=\"24px\"viewBox=\"0 0 24 24\"\n",
              "       width=\"24px\">\n",
              "    <path d=\"M0 0h24v24H0V0z\" fill=\"none\"/>\n",
              "    <path d=\"M18.56 5.44l.94 2.06.94-2.06 2.06-.94-2.06-.94-.94-2.06-.94 2.06-2.06.94zm-11 1L8.5 8.5l.94-2.06 2.06-.94-2.06-.94L8.5 2.5l-.94 2.06-2.06.94zm10 10l.94 2.06.94-2.06 2.06-.94-2.06-.94-.94-2.06-.94 2.06-2.06.94z\"/><path d=\"M17.41 7.96l-1.37-1.37c-.4-.4-.92-.59-1.43-.59-.52 0-1.04.2-1.43.59L10.3 9.45l-7.72 7.72c-.78.78-.78 2.05 0 2.83L4 21.41c.39.39.9.59 1.41.59.51 0 1.02-.2 1.41-.59l7.78-7.78 2.81-2.81c.8-.78.8-2.07 0-2.86zM5.41 20L4 18.59l7.72-7.72 1.47 1.35L5.41 20z\"/>\n",
              "  </svg>\n",
              "      </button>\n",
              "      \n",
              "  <style>\n",
              "    .colab-df-container {\n",
              "      display:flex;\n",
              "      flex-wrap:wrap;\n",
              "      gap: 12px;\n",
              "    }\n",
              "\n",
              "    .colab-df-convert {\n",
              "      background-color: #E8F0FE;\n",
              "      border: none;\n",
              "      border-radius: 50%;\n",
              "      cursor: pointer;\n",
              "      display: none;\n",
              "      fill: #1967D2;\n",
              "      height: 32px;\n",
              "      padding: 0 0 0 0;\n",
              "      width: 32px;\n",
              "    }\n",
              "\n",
              "    .colab-df-convert:hover {\n",
              "      background-color: #E2EBFA;\n",
              "      box-shadow: 0px 1px 2px rgba(60, 64, 67, 0.3), 0px 1px 3px 1px rgba(60, 64, 67, 0.15);\n",
              "      fill: #174EA6;\n",
              "    }\n",
              "\n",
              "    [theme=dark] .colab-df-convert {\n",
              "      background-color: #3B4455;\n",
              "      fill: #D2E3FC;\n",
              "    }\n",
              "\n",
              "    [theme=dark] .colab-df-convert:hover {\n",
              "      background-color: #434B5C;\n",
              "      box-shadow: 0px 1px 3px 1px rgba(0, 0, 0, 0.15);\n",
              "      filter: drop-shadow(0px 1px 2px rgba(0, 0, 0, 0.3));\n",
              "      fill: #FFFFFF;\n",
              "    }\n",
              "  </style>\n",
              "\n",
              "      <script>\n",
              "        const buttonEl =\n",
              "          document.querySelector('#df-4b335b2b-6dd0-4033-bf00-9747c212013b button.colab-df-convert');\n",
              "        buttonEl.style.display =\n",
              "          google.colab.kernel.accessAllowed ? 'block' : 'none';\n",
              "\n",
              "        async function convertToInteractive(key) {\n",
              "          const element = document.querySelector('#df-4b335b2b-6dd0-4033-bf00-9747c212013b');\n",
              "          const dataTable =\n",
              "            await google.colab.kernel.invokeFunction('convertToInteractive',\n",
              "                                                     [key], {});\n",
              "          if (!dataTable) return;\n",
              "\n",
              "          const docLinkHtml = 'Like what you see? Visit the ' +\n",
              "            '<a target=\"_blank\" href=https://colab.research.google.com/notebooks/data_table.ipynb>data table notebook</a>'\n",
              "            + ' to learn more about interactive tables.';\n",
              "          element.innerHTML = '';\n",
              "          dataTable['output_type'] = 'display_data';\n",
              "          await google.colab.output.renderOutput(dataTable, element);\n",
              "          const docLink = document.createElement('div');\n",
              "          docLink.innerHTML = docLinkHtml;\n",
              "          element.appendChild(docLink);\n",
              "        }\n",
              "      </script>\n",
              "    </div>\n",
              "  </div>\n",
              "  "
            ]
          },
          "metadata": {},
          "execution_count": 4
        }
      ],
      "source": [
        "# Your code here:\n",
        "employees.head()"
      ]
    },
    {
      "cell_type": "code",
      "source": [
        "employees.shape"
      ],
      "metadata": {
        "colab": {
          "base_uri": "https://localhost:8080/"
        },
        "id": "l7f7YPzKErWd",
        "outputId": "c85176e2-fd37-4427-e750-e637ea2b9e99"
      },
      "execution_count": 5,
      "outputs": [
        {
          "output_type": "execute_result",
          "data": {
            "text/plain": [
              "(33183, 8)"
            ]
          },
          "metadata": {},
          "execution_count": 5
        }
      ]
    },
    {
      "cell_type": "markdown",
      "metadata": {
        "id": "nyQEMgLYDv-U"
      },
      "source": [
        "We see from looking at the `head` function that there is quite a bit of missing data. Let's examine how much missing data is in each column. Produce this output in the cell below"
      ]
    },
    {
      "cell_type": "code",
      "execution_count": 6,
      "metadata": {
        "colab": {
          "base_uri": "https://localhost:8080/",
          "height": 291
        },
        "id": "EK0JYFJEDv-V",
        "outputId": "f3c8d3d3-7d36-486f-ec0c-359c46fd02ef"
      },
      "outputs": [
        {
          "output_type": "execute_result",
          "data": {
            "text/plain": [
              "                       0\n",
              "Name                   0\n",
              "Job Titles             0\n",
              "Department             0\n",
              "Full or Part-Time      0\n",
              "Salary or Hourly       0\n",
              "Typical Hours      25161\n",
              "Annual Salary       8022\n",
              "Hourly Rate        25161"
            ],
            "text/html": [
              "\n",
              "  <div id=\"df-2602a126-f46c-4315-bef3-b097a3065e2d\">\n",
              "    <div class=\"colab-df-container\">\n",
              "      <div>\n",
              "<style scoped>\n",
              "    .dataframe tbody tr th:only-of-type {\n",
              "        vertical-align: middle;\n",
              "    }\n",
              "\n",
              "    .dataframe tbody tr th {\n",
              "        vertical-align: top;\n",
              "    }\n",
              "\n",
              "    .dataframe thead th {\n",
              "        text-align: right;\n",
              "    }\n",
              "</style>\n",
              "<table border=\"1\" class=\"dataframe\">\n",
              "  <thead>\n",
              "    <tr style=\"text-align: right;\">\n",
              "      <th></th>\n",
              "      <th>0</th>\n",
              "    </tr>\n",
              "  </thead>\n",
              "  <tbody>\n",
              "    <tr>\n",
              "      <th>Name</th>\n",
              "      <td>0</td>\n",
              "    </tr>\n",
              "    <tr>\n",
              "      <th>Job Titles</th>\n",
              "      <td>0</td>\n",
              "    </tr>\n",
              "    <tr>\n",
              "      <th>Department</th>\n",
              "      <td>0</td>\n",
              "    </tr>\n",
              "    <tr>\n",
              "      <th>Full or Part-Time</th>\n",
              "      <td>0</td>\n",
              "    </tr>\n",
              "    <tr>\n",
              "      <th>Salary or Hourly</th>\n",
              "      <td>0</td>\n",
              "    </tr>\n",
              "    <tr>\n",
              "      <th>Typical Hours</th>\n",
              "      <td>25161</td>\n",
              "    </tr>\n",
              "    <tr>\n",
              "      <th>Annual Salary</th>\n",
              "      <td>8022</td>\n",
              "    </tr>\n",
              "    <tr>\n",
              "      <th>Hourly Rate</th>\n",
              "      <td>25161</td>\n",
              "    </tr>\n",
              "  </tbody>\n",
              "</table>\n",
              "</div>\n",
              "      <button class=\"colab-df-convert\" onclick=\"convertToInteractive('df-2602a126-f46c-4315-bef3-b097a3065e2d')\"\n",
              "              title=\"Convert this dataframe to an interactive table.\"\n",
              "              style=\"display:none;\">\n",
              "        \n",
              "  <svg xmlns=\"http://www.w3.org/2000/svg\" height=\"24px\"viewBox=\"0 0 24 24\"\n",
              "       width=\"24px\">\n",
              "    <path d=\"M0 0h24v24H0V0z\" fill=\"none\"/>\n",
              "    <path d=\"M18.56 5.44l.94 2.06.94-2.06 2.06-.94-2.06-.94-.94-2.06-.94 2.06-2.06.94zm-11 1L8.5 8.5l.94-2.06 2.06-.94-2.06-.94L8.5 2.5l-.94 2.06-2.06.94zm10 10l.94 2.06.94-2.06 2.06-.94-2.06-.94-.94-2.06-.94 2.06-2.06.94z\"/><path d=\"M17.41 7.96l-1.37-1.37c-.4-.4-.92-.59-1.43-.59-.52 0-1.04.2-1.43.59L10.3 9.45l-7.72 7.72c-.78.78-.78 2.05 0 2.83L4 21.41c.39.39.9.59 1.41.59.51 0 1.02-.2 1.41-.59l7.78-7.78 2.81-2.81c.8-.78.8-2.07 0-2.86zM5.41 20L4 18.59l7.72-7.72 1.47 1.35L5.41 20z\"/>\n",
              "  </svg>\n",
              "      </button>\n",
              "      \n",
              "  <style>\n",
              "    .colab-df-container {\n",
              "      display:flex;\n",
              "      flex-wrap:wrap;\n",
              "      gap: 12px;\n",
              "    }\n",
              "\n",
              "    .colab-df-convert {\n",
              "      background-color: #E8F0FE;\n",
              "      border: none;\n",
              "      border-radius: 50%;\n",
              "      cursor: pointer;\n",
              "      display: none;\n",
              "      fill: #1967D2;\n",
              "      height: 32px;\n",
              "      padding: 0 0 0 0;\n",
              "      width: 32px;\n",
              "    }\n",
              "\n",
              "    .colab-df-convert:hover {\n",
              "      background-color: #E2EBFA;\n",
              "      box-shadow: 0px 1px 2px rgba(60, 64, 67, 0.3), 0px 1px 3px 1px rgba(60, 64, 67, 0.15);\n",
              "      fill: #174EA6;\n",
              "    }\n",
              "\n",
              "    [theme=dark] .colab-df-convert {\n",
              "      background-color: #3B4455;\n",
              "      fill: #D2E3FC;\n",
              "    }\n",
              "\n",
              "    [theme=dark] .colab-df-convert:hover {\n",
              "      background-color: #434B5C;\n",
              "      box-shadow: 0px 1px 3px 1px rgba(0, 0, 0, 0.15);\n",
              "      filter: drop-shadow(0px 1px 2px rgba(0, 0, 0, 0.3));\n",
              "      fill: #FFFFFF;\n",
              "    }\n",
              "  </style>\n",
              "\n",
              "      <script>\n",
              "        const buttonEl =\n",
              "          document.querySelector('#df-2602a126-f46c-4315-bef3-b097a3065e2d button.colab-df-convert');\n",
              "        buttonEl.style.display =\n",
              "          google.colab.kernel.accessAllowed ? 'block' : 'none';\n",
              "\n",
              "        async function convertToInteractive(key) {\n",
              "          const element = document.querySelector('#df-2602a126-f46c-4315-bef3-b097a3065e2d');\n",
              "          const dataTable =\n",
              "            await google.colab.kernel.invokeFunction('convertToInteractive',\n",
              "                                                     [key], {});\n",
              "          if (!dataTable) return;\n",
              "\n",
              "          const docLinkHtml = 'Like what you see? Visit the ' +\n",
              "            '<a target=\"_blank\" href=https://colab.research.google.com/notebooks/data_table.ipynb>data table notebook</a>'\n",
              "            + ' to learn more about interactive tables.';\n",
              "          element.innerHTML = '';\n",
              "          dataTable['output_type'] = 'display_data';\n",
              "          await google.colab.output.renderOutput(dataTable, element);\n",
              "          const docLink = document.createElement('div');\n",
              "          docLink.innerHTML = docLinkHtml;\n",
              "          element.appendChild(docLink);\n",
              "        }\n",
              "      </script>\n",
              "    </div>\n",
              "  </div>\n",
              "  "
            ]
          },
          "metadata": {},
          "execution_count": 6
        }
      ],
      "source": [
        "# Your code here:\n",
        "employees.isnull().sum().to_frame()"
      ]
    },
    {
      "cell_type": "markdown",
      "metadata": {
        "id": "emfjBgndDv-V"
      },
      "source": [
        "Let's also look at the count of hourly vs. salaried employees. Write the code in the cell below"
      ]
    },
    {
      "cell_type": "code",
      "execution_count": 7,
      "metadata": {
        "colab": {
          "base_uri": "https://localhost:8080/",
          "height": 109
        },
        "id": "HVVfAQUaDv-W",
        "outputId": "3bf25804-6815-4407-9432-e42e109395df"
      },
      "outputs": [
        {
          "output_type": "execute_result",
          "data": {
            "text/plain": [
              "        Salary or Hourly\n",
              "Salary             25161\n",
              "Hourly              8022"
            ],
            "text/html": [
              "\n",
              "  <div id=\"df-11efc92d-2a60-4905-ab74-56f5eb1e4554\">\n",
              "    <div class=\"colab-df-container\">\n",
              "      <div>\n",
              "<style scoped>\n",
              "    .dataframe tbody tr th:only-of-type {\n",
              "        vertical-align: middle;\n",
              "    }\n",
              "\n",
              "    .dataframe tbody tr th {\n",
              "        vertical-align: top;\n",
              "    }\n",
              "\n",
              "    .dataframe thead th {\n",
              "        text-align: right;\n",
              "    }\n",
              "</style>\n",
              "<table border=\"1\" class=\"dataframe\">\n",
              "  <thead>\n",
              "    <tr style=\"text-align: right;\">\n",
              "      <th></th>\n",
              "      <th>Salary or Hourly</th>\n",
              "    </tr>\n",
              "  </thead>\n",
              "  <tbody>\n",
              "    <tr>\n",
              "      <th>Salary</th>\n",
              "      <td>25161</td>\n",
              "    </tr>\n",
              "    <tr>\n",
              "      <th>Hourly</th>\n",
              "      <td>8022</td>\n",
              "    </tr>\n",
              "  </tbody>\n",
              "</table>\n",
              "</div>\n",
              "      <button class=\"colab-df-convert\" onclick=\"convertToInteractive('df-11efc92d-2a60-4905-ab74-56f5eb1e4554')\"\n",
              "              title=\"Convert this dataframe to an interactive table.\"\n",
              "              style=\"display:none;\">\n",
              "        \n",
              "  <svg xmlns=\"http://www.w3.org/2000/svg\" height=\"24px\"viewBox=\"0 0 24 24\"\n",
              "       width=\"24px\">\n",
              "    <path d=\"M0 0h24v24H0V0z\" fill=\"none\"/>\n",
              "    <path d=\"M18.56 5.44l.94 2.06.94-2.06 2.06-.94-2.06-.94-.94-2.06-.94 2.06-2.06.94zm-11 1L8.5 8.5l.94-2.06 2.06-.94-2.06-.94L8.5 2.5l-.94 2.06-2.06.94zm10 10l.94 2.06.94-2.06 2.06-.94-2.06-.94-.94-2.06-.94 2.06-2.06.94z\"/><path d=\"M17.41 7.96l-1.37-1.37c-.4-.4-.92-.59-1.43-.59-.52 0-1.04.2-1.43.59L10.3 9.45l-7.72 7.72c-.78.78-.78 2.05 0 2.83L4 21.41c.39.39.9.59 1.41.59.51 0 1.02-.2 1.41-.59l7.78-7.78 2.81-2.81c.8-.78.8-2.07 0-2.86zM5.41 20L4 18.59l7.72-7.72 1.47 1.35L5.41 20z\"/>\n",
              "  </svg>\n",
              "      </button>\n",
              "      \n",
              "  <style>\n",
              "    .colab-df-container {\n",
              "      display:flex;\n",
              "      flex-wrap:wrap;\n",
              "      gap: 12px;\n",
              "    }\n",
              "\n",
              "    .colab-df-convert {\n",
              "      background-color: #E8F0FE;\n",
              "      border: none;\n",
              "      border-radius: 50%;\n",
              "      cursor: pointer;\n",
              "      display: none;\n",
              "      fill: #1967D2;\n",
              "      height: 32px;\n",
              "      padding: 0 0 0 0;\n",
              "      width: 32px;\n",
              "    }\n",
              "\n",
              "    .colab-df-convert:hover {\n",
              "      background-color: #E2EBFA;\n",
              "      box-shadow: 0px 1px 2px rgba(60, 64, 67, 0.3), 0px 1px 3px 1px rgba(60, 64, 67, 0.15);\n",
              "      fill: #174EA6;\n",
              "    }\n",
              "\n",
              "    [theme=dark] .colab-df-convert {\n",
              "      background-color: #3B4455;\n",
              "      fill: #D2E3FC;\n",
              "    }\n",
              "\n",
              "    [theme=dark] .colab-df-convert:hover {\n",
              "      background-color: #434B5C;\n",
              "      box-shadow: 0px 1px 3px 1px rgba(0, 0, 0, 0.15);\n",
              "      filter: drop-shadow(0px 1px 2px rgba(0, 0, 0, 0.3));\n",
              "      fill: #FFFFFF;\n",
              "    }\n",
              "  </style>\n",
              "\n",
              "      <script>\n",
              "        const buttonEl =\n",
              "          document.querySelector('#df-11efc92d-2a60-4905-ab74-56f5eb1e4554 button.colab-df-convert');\n",
              "        buttonEl.style.display =\n",
              "          google.colab.kernel.accessAllowed ? 'block' : 'none';\n",
              "\n",
              "        async function convertToInteractive(key) {\n",
              "          const element = document.querySelector('#df-11efc92d-2a60-4905-ab74-56f5eb1e4554');\n",
              "          const dataTable =\n",
              "            await google.colab.kernel.invokeFunction('convertToInteractive',\n",
              "                                                     [key], {});\n",
              "          if (!dataTable) return;\n",
              "\n",
              "          const docLinkHtml = 'Like what you see? Visit the ' +\n",
              "            '<a target=\"_blank\" href=https://colab.research.google.com/notebooks/data_table.ipynb>data table notebook</a>'\n",
              "            + ' to learn more about interactive tables.';\n",
              "          element.innerHTML = '';\n",
              "          dataTable['output_type'] = 'display_data';\n",
              "          await google.colab.output.renderOutput(dataTable, element);\n",
              "          const docLink = document.createElement('div');\n",
              "          docLink.innerHTML = docLinkHtml;\n",
              "          element.appendChild(docLink);\n",
              "        }\n",
              "      </script>\n",
              "    </div>\n",
              "  </div>\n",
              "  "
            ]
          },
          "metadata": {},
          "execution_count": 7
        }
      ],
      "source": [
        "# Your code here:\n",
        "employees[\"Salary or Hourly\"].value_counts().to_frame()"
      ]
    },
    {
      "cell_type": "markdown",
      "metadata": {
        "id": "F9UqC_TwDv-W"
      },
      "source": [
        "What this information indicates is that the table contains information about two types of employees - salaried and hourly. Some columns apply only to one type of employee while other columns only apply to another kind. This is why there are so many missing values. Therefore, we will not do anything to handle the missing values."
      ]
    },
    {
      "cell_type": "markdown",
      "metadata": {
        "id": "Rc3-26RGDv-W"
      },
      "source": [
        "There are different departments in the city. List all departments and the count of employees in each department."
      ]
    },
    {
      "cell_type": "code",
      "execution_count": 33,
      "metadata": {
        "colab": {
          "base_uri": "https://localhost:8080/",
          "height": 1000
        },
        "id": "vW8yocrKDv-X",
        "outputId": "43d0f4d5-194a-4f9a-cc74-de801459a49b"
      },
      "outputs": [
        {
          "output_type": "execute_result",
          "data": {
            "text/plain": [
              "               Department   Name\n",
              "27                 POLICE  13414\n",
              "17                   FIRE   4641\n",
              "31          STREETS & SAN   2198\n",
              "26                   OEMC   2102\n",
              "34            WATER MGMNT   1879\n",
              "2                AVIATION   1629\n",
              "32             TRANSPORTN   1140\n",
              "30         PUBLIC LIBRARY   1015\n",
              "18       GENERAL SERVICES    980\n",
              "15       FAMILY & SUPPORT    615\n",
              "16                FINANCE    560\n",
              "19                 HEALTH    488\n",
              "9            CITY COUNCIL    411\n",
              "23                    LAW    407\n",
              "6               BUILDINGS    269\n",
              "10  COMMUNITY DEVELOPMENT    207\n",
              "7        BUSINESS AFFAIRS    171\n",
              "11                   COPA    116\n",
              "3       BOARD OF ELECTION    107\n",
              "14                   DoIT     99\n",
              "29            PROCUREMENT     92\n",
              "22          INSPECTOR GEN     87\n",
              "25         MAYOR'S OFFICE     85\n",
              "8              CITY CLERK     84\n",
              "1           ANIMAL CONTRL     81\n",
              "21        HUMAN RESOURCES     79\n",
              "12       CULTURAL AFFAIRS     65\n",
              "5           BUDGET & MGMT     46\n",
              "0            ADMIN HEARNG     39\n",
              "13           DISABILITIES     28\n",
              "33              TREASURER     22\n",
              "20        HUMAN RELATIONS     16\n",
              "4         BOARD OF ETHICS      8\n",
              "28           POLICE BOARD      2\n",
              "24      LICENSE APPL COMM      1"
            ],
            "text/html": [
              "\n",
              "  <div id=\"df-6c7742ac-2cd3-4cdb-a24b-9900a4efac2b\">\n",
              "    <div class=\"colab-df-container\">\n",
              "      <div>\n",
              "<style scoped>\n",
              "    .dataframe tbody tr th:only-of-type {\n",
              "        vertical-align: middle;\n",
              "    }\n",
              "\n",
              "    .dataframe tbody tr th {\n",
              "        vertical-align: top;\n",
              "    }\n",
              "\n",
              "    .dataframe thead th {\n",
              "        text-align: right;\n",
              "    }\n",
              "</style>\n",
              "<table border=\"1\" class=\"dataframe\">\n",
              "  <thead>\n",
              "    <tr style=\"text-align: right;\">\n",
              "      <th></th>\n",
              "      <th>Department</th>\n",
              "      <th>Name</th>\n",
              "    </tr>\n",
              "  </thead>\n",
              "  <tbody>\n",
              "    <tr>\n",
              "      <th>27</th>\n",
              "      <td>POLICE</td>\n",
              "      <td>13414</td>\n",
              "    </tr>\n",
              "    <tr>\n",
              "      <th>17</th>\n",
              "      <td>FIRE</td>\n",
              "      <td>4641</td>\n",
              "    </tr>\n",
              "    <tr>\n",
              "      <th>31</th>\n",
              "      <td>STREETS &amp; SAN</td>\n",
              "      <td>2198</td>\n",
              "    </tr>\n",
              "    <tr>\n",
              "      <th>26</th>\n",
              "      <td>OEMC</td>\n",
              "      <td>2102</td>\n",
              "    </tr>\n",
              "    <tr>\n",
              "      <th>34</th>\n",
              "      <td>WATER MGMNT</td>\n",
              "      <td>1879</td>\n",
              "    </tr>\n",
              "    <tr>\n",
              "      <th>2</th>\n",
              "      <td>AVIATION</td>\n",
              "      <td>1629</td>\n",
              "    </tr>\n",
              "    <tr>\n",
              "      <th>32</th>\n",
              "      <td>TRANSPORTN</td>\n",
              "      <td>1140</td>\n",
              "    </tr>\n",
              "    <tr>\n",
              "      <th>30</th>\n",
              "      <td>PUBLIC LIBRARY</td>\n",
              "      <td>1015</td>\n",
              "    </tr>\n",
              "    <tr>\n",
              "      <th>18</th>\n",
              "      <td>GENERAL SERVICES</td>\n",
              "      <td>980</td>\n",
              "    </tr>\n",
              "    <tr>\n",
              "      <th>15</th>\n",
              "      <td>FAMILY &amp; SUPPORT</td>\n",
              "      <td>615</td>\n",
              "    </tr>\n",
              "    <tr>\n",
              "      <th>16</th>\n",
              "      <td>FINANCE</td>\n",
              "      <td>560</td>\n",
              "    </tr>\n",
              "    <tr>\n",
              "      <th>19</th>\n",
              "      <td>HEALTH</td>\n",
              "      <td>488</td>\n",
              "    </tr>\n",
              "    <tr>\n",
              "      <th>9</th>\n",
              "      <td>CITY COUNCIL</td>\n",
              "      <td>411</td>\n",
              "    </tr>\n",
              "    <tr>\n",
              "      <th>23</th>\n",
              "      <td>LAW</td>\n",
              "      <td>407</td>\n",
              "    </tr>\n",
              "    <tr>\n",
              "      <th>6</th>\n",
              "      <td>BUILDINGS</td>\n",
              "      <td>269</td>\n",
              "    </tr>\n",
              "    <tr>\n",
              "      <th>10</th>\n",
              "      <td>COMMUNITY DEVELOPMENT</td>\n",
              "      <td>207</td>\n",
              "    </tr>\n",
              "    <tr>\n",
              "      <th>7</th>\n",
              "      <td>BUSINESS AFFAIRS</td>\n",
              "      <td>171</td>\n",
              "    </tr>\n",
              "    <tr>\n",
              "      <th>11</th>\n",
              "      <td>COPA</td>\n",
              "      <td>116</td>\n",
              "    </tr>\n",
              "    <tr>\n",
              "      <th>3</th>\n",
              "      <td>BOARD OF ELECTION</td>\n",
              "      <td>107</td>\n",
              "    </tr>\n",
              "    <tr>\n",
              "      <th>14</th>\n",
              "      <td>DoIT</td>\n",
              "      <td>99</td>\n",
              "    </tr>\n",
              "    <tr>\n",
              "      <th>29</th>\n",
              "      <td>PROCUREMENT</td>\n",
              "      <td>92</td>\n",
              "    </tr>\n",
              "    <tr>\n",
              "      <th>22</th>\n",
              "      <td>INSPECTOR GEN</td>\n",
              "      <td>87</td>\n",
              "    </tr>\n",
              "    <tr>\n",
              "      <th>25</th>\n",
              "      <td>MAYOR'S OFFICE</td>\n",
              "      <td>85</td>\n",
              "    </tr>\n",
              "    <tr>\n",
              "      <th>8</th>\n",
              "      <td>CITY CLERK</td>\n",
              "      <td>84</td>\n",
              "    </tr>\n",
              "    <tr>\n",
              "      <th>1</th>\n",
              "      <td>ANIMAL CONTRL</td>\n",
              "      <td>81</td>\n",
              "    </tr>\n",
              "    <tr>\n",
              "      <th>21</th>\n",
              "      <td>HUMAN RESOURCES</td>\n",
              "      <td>79</td>\n",
              "    </tr>\n",
              "    <tr>\n",
              "      <th>12</th>\n",
              "      <td>CULTURAL AFFAIRS</td>\n",
              "      <td>65</td>\n",
              "    </tr>\n",
              "    <tr>\n",
              "      <th>5</th>\n",
              "      <td>BUDGET &amp; MGMT</td>\n",
              "      <td>46</td>\n",
              "    </tr>\n",
              "    <tr>\n",
              "      <th>0</th>\n",
              "      <td>ADMIN HEARNG</td>\n",
              "      <td>39</td>\n",
              "    </tr>\n",
              "    <tr>\n",
              "      <th>13</th>\n",
              "      <td>DISABILITIES</td>\n",
              "      <td>28</td>\n",
              "    </tr>\n",
              "    <tr>\n",
              "      <th>33</th>\n",
              "      <td>TREASURER</td>\n",
              "      <td>22</td>\n",
              "    </tr>\n",
              "    <tr>\n",
              "      <th>20</th>\n",
              "      <td>HUMAN RELATIONS</td>\n",
              "      <td>16</td>\n",
              "    </tr>\n",
              "    <tr>\n",
              "      <th>4</th>\n",
              "      <td>BOARD OF ETHICS</td>\n",
              "      <td>8</td>\n",
              "    </tr>\n",
              "    <tr>\n",
              "      <th>28</th>\n",
              "      <td>POLICE BOARD</td>\n",
              "      <td>2</td>\n",
              "    </tr>\n",
              "    <tr>\n",
              "      <th>24</th>\n",
              "      <td>LICENSE APPL COMM</td>\n",
              "      <td>1</td>\n",
              "    </tr>\n",
              "  </tbody>\n",
              "</table>\n",
              "</div>\n",
              "      <button class=\"colab-df-convert\" onclick=\"convertToInteractive('df-6c7742ac-2cd3-4cdb-a24b-9900a4efac2b')\"\n",
              "              title=\"Convert this dataframe to an interactive table.\"\n",
              "              style=\"display:none;\">\n",
              "        \n",
              "  <svg xmlns=\"http://www.w3.org/2000/svg\" height=\"24px\"viewBox=\"0 0 24 24\"\n",
              "       width=\"24px\">\n",
              "    <path d=\"M0 0h24v24H0V0z\" fill=\"none\"/>\n",
              "    <path d=\"M18.56 5.44l.94 2.06.94-2.06 2.06-.94-2.06-.94-.94-2.06-.94 2.06-2.06.94zm-11 1L8.5 8.5l.94-2.06 2.06-.94-2.06-.94L8.5 2.5l-.94 2.06-2.06.94zm10 10l.94 2.06.94-2.06 2.06-.94-2.06-.94-.94-2.06-.94 2.06-2.06.94z\"/><path d=\"M17.41 7.96l-1.37-1.37c-.4-.4-.92-.59-1.43-.59-.52 0-1.04.2-1.43.59L10.3 9.45l-7.72 7.72c-.78.78-.78 2.05 0 2.83L4 21.41c.39.39.9.59 1.41.59.51 0 1.02-.2 1.41-.59l7.78-7.78 2.81-2.81c.8-.78.8-2.07 0-2.86zM5.41 20L4 18.59l7.72-7.72 1.47 1.35L5.41 20z\"/>\n",
              "  </svg>\n",
              "      </button>\n",
              "      \n",
              "  <style>\n",
              "    .colab-df-container {\n",
              "      display:flex;\n",
              "      flex-wrap:wrap;\n",
              "      gap: 12px;\n",
              "    }\n",
              "\n",
              "    .colab-df-convert {\n",
              "      background-color: #E8F0FE;\n",
              "      border: none;\n",
              "      border-radius: 50%;\n",
              "      cursor: pointer;\n",
              "      display: none;\n",
              "      fill: #1967D2;\n",
              "      height: 32px;\n",
              "      padding: 0 0 0 0;\n",
              "      width: 32px;\n",
              "    }\n",
              "\n",
              "    .colab-df-convert:hover {\n",
              "      background-color: #E2EBFA;\n",
              "      box-shadow: 0px 1px 2px rgba(60, 64, 67, 0.3), 0px 1px 3px 1px rgba(60, 64, 67, 0.15);\n",
              "      fill: #174EA6;\n",
              "    }\n",
              "\n",
              "    [theme=dark] .colab-df-convert {\n",
              "      background-color: #3B4455;\n",
              "      fill: #D2E3FC;\n",
              "    }\n",
              "\n",
              "    [theme=dark] .colab-df-convert:hover {\n",
              "      background-color: #434B5C;\n",
              "      box-shadow: 0px 1px 3px 1px rgba(0, 0, 0, 0.15);\n",
              "      filter: drop-shadow(0px 1px 2px rgba(0, 0, 0, 0.3));\n",
              "      fill: #FFFFFF;\n",
              "    }\n",
              "  </style>\n",
              "\n",
              "      <script>\n",
              "        const buttonEl =\n",
              "          document.querySelector('#df-6c7742ac-2cd3-4cdb-a24b-9900a4efac2b button.colab-df-convert');\n",
              "        buttonEl.style.display =\n",
              "          google.colab.kernel.accessAllowed ? 'block' : 'none';\n",
              "\n",
              "        async function convertToInteractive(key) {\n",
              "          const element = document.querySelector('#df-6c7742ac-2cd3-4cdb-a24b-9900a4efac2b');\n",
              "          const dataTable =\n",
              "            await google.colab.kernel.invokeFunction('convertToInteractive',\n",
              "                                                     [key], {});\n",
              "          if (!dataTable) return;\n",
              "\n",
              "          const docLinkHtml = 'Like what you see? Visit the ' +\n",
              "            '<a target=\"_blank\" href=https://colab.research.google.com/notebooks/data_table.ipynb>data table notebook</a>'\n",
              "            + ' to learn more about interactive tables.';\n",
              "          element.innerHTML = '';\n",
              "          dataTable['output_type'] = 'display_data';\n",
              "          await google.colab.output.renderOutput(dataTable, element);\n",
              "          const docLink = document.createElement('div');\n",
              "          docLink.innerHTML = docLinkHtml;\n",
              "          element.appendChild(docLink);\n",
              "        }\n",
              "      </script>\n",
              "    </div>\n",
              "  </div>\n",
              "  "
            ]
          },
          "metadata": {},
          "execution_count": 33
        }
      ],
      "source": [
        "# Your code here:\n",
        "employees.groupby([\"Department\"], as_index=False)[[\"Name\"]].count().sort_values(by=\"Name\", ascending=False)"
      ]
    },
    {
      "cell_type": "markdown",
      "metadata": {
        "id": "VM9te9DeDv-X"
      },
      "source": [
        "# Challenge 2 - Hypothesis Tests\n",
        "\n",
        "In this section of the lab, we will test whether the hourly wage of all hourly workers is significantly different from $30/hr. Import the correct one sample test function from scipy and perform the hypothesis test for a 95% two sided confidence interval."
      ]
    },
    {
      "cell_type": "markdown",
      "source": [
        "**[MNEMONICS] :**\n",
        "\n",
        "> If the p-value is lower than the significance level (alpha), you reject the null hypothesis. In other words, when the p-value is smaller than the chosen alpha, it suggests that the observed data is less likely to have occurred by chance alone, assuming the null hypothesis is true. This provides evidence against the null hypothesis and in favor of the alternative hypothesis.\n",
        "\n",
        "---\n",
        "\n",
        "**Null hypothesis (H₀):**\n",
        "\n",
        "The average hourly wage of all hourly workers is equal to $30/hr. In other words, there is no significant difference between the average hourly wage and \\$30/hr.\n",
        "\n",
        "**Alternative hypothesis (H₁):**\n",
        "\n",
        "The average hourly wage of all hourly workers is not equal to $30/hr. This means that there is a significant difference between the average hourly wage and \\$30/hr, and the average hourly wage is either significantly higher or significantly lower than \\$30/hr."
      ],
      "metadata": {
        "id": "gptoPVQQLTLB"
      }
    },
    {
      "cell_type": "code",
      "execution_count": 9,
      "metadata": {
        "colab": {
          "base_uri": "https://localhost:8080/"
        },
        "id": "KFv_tnu7Dv-Y",
        "outputId": "b24726b7-79e3-4514-9d06-e3319900b2b9"
      },
      "outputs": [
        {
          "output_type": "stream",
          "name": "stdout",
          "text": [
            "The hourly wage is significantly different from $30/hr (p-value: 0.0000)\n",
            "We reject the null hypothesis (H₀).\n"
          ]
        }
      ],
      "source": [
        "# Your code here:\n",
        "from scipy.stats import ttest_1samp\n",
        "\n",
        "# filter only hourly workers\n",
        "hourly_workers = employees[employees[\"Salary or Hourly\"] == \"Hourly\"]\n",
        "\n",
        "# extract \"Hourly Rate\" column for hourly workers\n",
        "hourly_rates = hourly_workers[\"Hourly Rate\"]\n",
        "\n",
        "# one-sample t-test\n",
        "t_statistic, p_value = ttest_1samp(hourly_rates, 30)\n",
        "\n",
        "# two-sided 95% confidence interval\n",
        "alpha = 0.05  # Significance level\n",
        "\n",
        "# can null hypothesis be rejected\n",
        "if p_value < alpha:\n",
        "    print(f\"The hourly wage is significantly different from $30/hr (p-value: {p_value:.4f})\")\n",
        "    print(\"We reject the null hypothesis (H₀).\")\n",
        "else:\n",
        "    print(f\"The hourly wage is not significantly different from $30/hr (p-value: {p_value:.4f})\")\n",
        "    print(\"We fail to reject the null hypothesis (H₀).\")"
      ]
    },
    {
      "cell_type": "markdown",
      "source": [
        "The result of the one-sample t-test indicates that the average hourly wage of all hourly workers in the \"employees\" DataFrame is significantly different from $30/hr. The p-value is 0.0000, which is less than the significance level of 0.05 (alpha).\n",
        "\n",
        "This means that there is strong evidence to reject the null hypothesis, which states that the average hourly wage of all hourly workers is equal to $30/hr. Instead, the data suggests that the average hourly wage is either significantly higher or significantly lower than \\$30/hr.\n",
        "\n",
        "In the t-test result, the p-value was 0.0000, which is less than the significance level (alpha) of 0.05. This leads to the rejection of the null hypothesis in favor of the alternative hypothesis, suggesting that the average hourly wage of all hourly workers is significantly different from $30/hr."
      ],
      "metadata": {
        "id": "wi5mS4xOLLMN"
      }
    },
    {
      "cell_type": "markdown",
      "metadata": {
        "id": "BxBlEY9MDv-Y"
      },
      "source": [
        "We are also curious about salaries in the police force. The chief of police in Chicago claimed in a press briefing that salaries this year are higher than last year's mean of $86000/year a year for all salaried employees. Test this one sided hypothesis using a 95% confidence interval.\n",
        "\n",
        "Hint: A one tailed test has a p-value that is half of the two tailed p-value. If our hypothesis is greater than, then to reject, the test statistic must also be positive."
      ]
    },
    {
      "cell_type": "code",
      "execution_count": 10,
      "metadata": {
        "colab": {
          "base_uri": "https://localhost:8080/"
        },
        "id": "_8n8l3pKDv-Y",
        "outputId": "809ef070-2757-46be-f469-95dcae4d4e27"
      },
      "outputs": [
        {
          "output_type": "stream",
          "name": "stdout",
          "text": [
            "The average salary is significantly greater than $86,000/year (p-value: 0.0010)\n",
            "We reject the null hypothesis (H₀).\n"
          ]
        }
      ],
      "source": [
        "# Your code here:\n",
        "from scipy.stats import ttest_1samp\n",
        "\n",
        "# filter only salaried police employees\n",
        "salaried_police = employees[(employees[\"Department\"] == \"POLICE\") & (employees[\"Salary or Hourly\"] == \"Salary\")]\n",
        "\n",
        "# extract \"Annual Salary\" column for salaried police employees\n",
        "annual_salaries = salaried_police[\"Annual Salary\"]\n",
        "\n",
        "# one-sample t-test\n",
        "t_statistic, p_value_two_tailed = ttest_1samp(annual_salaries, 86000)\n",
        "\n",
        "# one-tailed p-value\n",
        "p_value_one_tailed = p_value_two_tailed / 2\n",
        "\n",
        "# significance level and test the one-sided hypothesis\n",
        "alpha = 0.05\n",
        "\n",
        "if p_value_one_tailed < alpha and t_statistic > 0:\n",
        "    print(f\"The average salary is significantly greater than $86,000/year (p-value: {p_value_one_tailed:.4f})\")\n",
        "    print(\"We reject the null hypothesis (H₀).\")\n",
        "else:\n",
        "    print(f\"The average salary is not significantly greater than $86,000/year (p-value: {p_value_one_tailed:.4f})\")\n",
        "    print(\"We fail to reject the null hypothesis (H₀).\")\n"
      ]
    },
    {
      "cell_type": "markdown",
      "source": [
        "If the average salary is significantly greater than $86,000/year with a p-value of 0.0010, it means that there is strong evidence to suggest that the average salary of the group being analyzed (in this case, salaried police employees) is higher than \\$86,000 per year.\n",
        "\n",
        "The p-value of 0.0010 indicates the probability of observing the data or more extreme results, assuming the null hypothesis (that the average salary is equal to \\$86,000/year) is true. Since the p-value is very low (less than the chosen significance level, typically 0.05), it means that the observed data is highly unlikely to have occurred by chance alone. Therefore, we reject the null hypothesis and conclude that the average salary of salaried police employees is indeed greater than $86,000/year."
      ],
      "metadata": {
        "id": "hk0lSzNlx8Xy"
      }
    },
    {
      "cell_type": "markdown",
      "metadata": {
        "id": "-2beK_C3Dv-Y"
      },
      "source": [
        "Using the `crosstab` function, find the department that has the most hourly workers. "
      ]
    },
    {
      "cell_type": "code",
      "execution_count": 20,
      "metadata": {
        "colab": {
          "base_uri": "https://localhost:8080/",
          "height": 95
        },
        "id": "zt6l5ThPDv-Y",
        "outputId": "dc1ee0cb-db83-4d21-e1d4-233c9fd40a74"
      },
      "outputs": [
        {
          "output_type": "display_data",
          "data": {
            "text/plain": [
              "col_0     Department  count\n",
              "0      STREETS & SAN   1862"
            ],
            "text/html": [
              "\n",
              "  <div id=\"df-b5124ae7-b3fc-4ea1-85f3-37ba032444ab\">\n",
              "    <div class=\"colab-df-container\">\n",
              "      <div>\n",
              "<style scoped>\n",
              "    .dataframe tbody tr th:only-of-type {\n",
              "        vertical-align: middle;\n",
              "    }\n",
              "\n",
              "    .dataframe tbody tr th {\n",
              "        vertical-align: top;\n",
              "    }\n",
              "\n",
              "    .dataframe thead th {\n",
              "        text-align: right;\n",
              "    }\n",
              "</style>\n",
              "<table border=\"1\" class=\"dataframe\">\n",
              "  <thead>\n",
              "    <tr style=\"text-align: right;\">\n",
              "      <th>col_0</th>\n",
              "      <th>Department</th>\n",
              "      <th>count</th>\n",
              "    </tr>\n",
              "  </thead>\n",
              "  <tbody>\n",
              "    <tr>\n",
              "      <th>0</th>\n",
              "      <td>STREETS &amp; SAN</td>\n",
              "      <td>1862</td>\n",
              "    </tr>\n",
              "  </tbody>\n",
              "</table>\n",
              "</div>\n",
              "      <button class=\"colab-df-convert\" onclick=\"convertToInteractive('df-b5124ae7-b3fc-4ea1-85f3-37ba032444ab')\"\n",
              "              title=\"Convert this dataframe to an interactive table.\"\n",
              "              style=\"display:none;\">\n",
              "        \n",
              "  <svg xmlns=\"http://www.w3.org/2000/svg\" height=\"24px\"viewBox=\"0 0 24 24\"\n",
              "       width=\"24px\">\n",
              "    <path d=\"M0 0h24v24H0V0z\" fill=\"none\"/>\n",
              "    <path d=\"M18.56 5.44l.94 2.06.94-2.06 2.06-.94-2.06-.94-.94-2.06-.94 2.06-2.06.94zm-11 1L8.5 8.5l.94-2.06 2.06-.94-2.06-.94L8.5 2.5l-.94 2.06-2.06.94zm10 10l.94 2.06.94-2.06 2.06-.94-2.06-.94-.94-2.06-.94 2.06-2.06.94z\"/><path d=\"M17.41 7.96l-1.37-1.37c-.4-.4-.92-.59-1.43-.59-.52 0-1.04.2-1.43.59L10.3 9.45l-7.72 7.72c-.78.78-.78 2.05 0 2.83L4 21.41c.39.39.9.59 1.41.59.51 0 1.02-.2 1.41-.59l7.78-7.78 2.81-2.81c.8-.78.8-2.07 0-2.86zM5.41 20L4 18.59l7.72-7.72 1.47 1.35L5.41 20z\"/>\n",
              "  </svg>\n",
              "      </button>\n",
              "      \n",
              "  <style>\n",
              "    .colab-df-container {\n",
              "      display:flex;\n",
              "      flex-wrap:wrap;\n",
              "      gap: 12px;\n",
              "    }\n",
              "\n",
              "    .colab-df-convert {\n",
              "      background-color: #E8F0FE;\n",
              "      border: none;\n",
              "      border-radius: 50%;\n",
              "      cursor: pointer;\n",
              "      display: none;\n",
              "      fill: #1967D2;\n",
              "      height: 32px;\n",
              "      padding: 0 0 0 0;\n",
              "      width: 32px;\n",
              "    }\n",
              "\n",
              "    .colab-df-convert:hover {\n",
              "      background-color: #E2EBFA;\n",
              "      box-shadow: 0px 1px 2px rgba(60, 64, 67, 0.3), 0px 1px 3px 1px rgba(60, 64, 67, 0.15);\n",
              "      fill: #174EA6;\n",
              "    }\n",
              "\n",
              "    [theme=dark] .colab-df-convert {\n",
              "      background-color: #3B4455;\n",
              "      fill: #D2E3FC;\n",
              "    }\n",
              "\n",
              "    [theme=dark] .colab-df-convert:hover {\n",
              "      background-color: #434B5C;\n",
              "      box-shadow: 0px 1px 3px 1px rgba(0, 0, 0, 0.15);\n",
              "      filter: drop-shadow(0px 1px 2px rgba(0, 0, 0, 0.3));\n",
              "      fill: #FFFFFF;\n",
              "    }\n",
              "  </style>\n",
              "\n",
              "      <script>\n",
              "        const buttonEl =\n",
              "          document.querySelector('#df-b5124ae7-b3fc-4ea1-85f3-37ba032444ab button.colab-df-convert');\n",
              "        buttonEl.style.display =\n",
              "          google.colab.kernel.accessAllowed ? 'block' : 'none';\n",
              "\n",
              "        async function convertToInteractive(key) {\n",
              "          const element = document.querySelector('#df-b5124ae7-b3fc-4ea1-85f3-37ba032444ab');\n",
              "          const dataTable =\n",
              "            await google.colab.kernel.invokeFunction('convertToInteractive',\n",
              "                                                     [key], {});\n",
              "          if (!dataTable) return;\n",
              "\n",
              "          const docLinkHtml = 'Like what you see? Visit the ' +\n",
              "            '<a target=\"_blank\" href=https://colab.research.google.com/notebooks/data_table.ipynb>data table notebook</a>'\n",
              "            + ' to learn more about interactive tables.';\n",
              "          element.innerHTML = '';\n",
              "          dataTable['output_type'] = 'display_data';\n",
              "          await google.colab.output.renderOutput(dataTable, element);\n",
              "          const docLink = document.createElement('div');\n",
              "          docLink.innerHTML = docLinkHtml;\n",
              "          element.appendChild(docLink);\n",
              "        }\n",
              "      </script>\n",
              "    </div>\n",
              "  </div>\n",
              "  "
            ]
          },
          "metadata": {}
        },
        {
          "output_type": "stream",
          "name": "stdout",
          "text": [
            "The department with the most hourly workers is 'STREETS & SAN' with 1,862 hourly workers.\n"
          ]
        }
      ],
      "source": [
        "# Your code here:\n",
        "\n",
        "# method 1\n",
        "hourly = employees.loc[employees[\"Salary or Hourly\"] == \"Hourly\"]\n",
        "display(pd.crosstab(index=[hourly[\"Department\"]], columns=\"count\").sort_values(by=\"count\", ascending=False).reset_index().head(1))\n",
        "\n",
        "# method 2\n",
        "department_hourly_workers = pd.crosstab(employees[\"Department\"], employees[\"Salary or Hourly\"])\n",
        "# sort\n",
        "sorted_departments = department_hourly_workers.sort_values(\"Hourly\", ascending=False)\n",
        "# department with the most hourly workers\n",
        "department_with_most_hourly_workers = sorted_departments.index[0]\n",
        "most_hourly_workers = sorted_departments.iloc[0][\"Hourly\"]\n",
        "# results\n",
        "print(f\"The department with the most hourly workers is '{department_with_most_hourly_workers}' with {most_hourly_workers:,} hourly workers.\")"
      ]
    },
    {
      "cell_type": "markdown",
      "metadata": {
        "id": "RoLwmWqFDv-Z"
      },
      "source": [
        "The workers from the department with the most hourly workers have complained that their hourly wage is less than $35/hour. Using a one sample t-test, test this one-sided hypothesis at the 95% confidence level."
      ]
    },
    {
      "cell_type": "code",
      "source": [
        "import pandas as pd\n",
        "from scipy.stats import ttest_1samp\n",
        "\n",
        "# \"department_with_most_hourly_workers\" variable is defined from the previous code block\n",
        "\n",
        "# filter only hourly workers from the department with the most hourly workers\n",
        "hourly_workers = employees[(employees[\"Department\"] == department_with_most_hourly_workers) & (employees[\"Salary or Hourly\"] == \"Hourly\")]\n",
        "\n",
        "# extract \"Hourly Rate\" column for these hourly workers\n",
        "hourly_rates = hourly_workers[\"Hourly Rate\"]\n",
        "\n",
        "# one-sample t-test\n",
        "t_statistic, p_value_two_tailed = ttest_1samp(hourly_rates, 35)\n",
        "\n",
        "# one-tailed p-value\n",
        "p_value_one_tailed = p_value_two_tailed / 2\n",
        "\n",
        "# significance level and test the one-sided hypothesis\n",
        "alpha = 0.05\n",
        "\n",
        "if p_value_one_tailed < alpha and t_statistic < 0:\n",
        "    print(f\"The average hourly wage is significantly less than $35/hour (p-value: {p_value_one_tailed:.4f})\")\n",
        "    print(\"We reject the null hypothesis (H₀).\")\n",
        "else:\n",
        "    print(f\"The average hourly wage is not significantly less than $35/hour (p-value: {p_value_one_tailed:.4f})\")\n",
        "    print(\"We fail to reject the null hypothesis (H₀).\")"
      ],
      "metadata": {
        "colab": {
          "base_uri": "https://localhost:8080/"
        },
        "id": "O7dMDxCqzwky",
        "outputId": "f57ab922-e2cc-42c7-8b52-57aede0b0b69"
      },
      "execution_count": 23,
      "outputs": [
        {
          "output_type": "stream",
          "name": "stdout",
          "text": [
            "The average hourly wage is significantly less than $35/hour (p-value: 0.0000)\n",
            "We reject the null hypothesis (H₀).\n"
          ]
        }
      ]
    },
    {
      "cell_type": "markdown",
      "metadata": {
        "id": "KhYT5TfbDv-Z"
      },
      "source": [
        "# Challenge 3: To practice - Constructing Confidence Intervals\n",
        "\n",
        "While testing our hypothesis is a great way to gather empirical evidence for accepting or rejecting the hypothesis, another way to gather evidence is by creating a confidence interval. A confidence interval gives us information about the true mean of the population. So for a 95% confidence interval, we are 95% sure that the mean of the population is within the confidence interval. \n",
        ").\n",
        "\n",
        "To read more about confidence intervals, click [here](https://en.wikipedia.org/wiki/Confidence_interval).\n",
        "\n",
        "\n",
        "In the cell below, we will construct a 95% confidence interval for the mean hourly wage of all hourly workers. \n",
        "\n",
        "The confidence interval is computed in SciPy using the `t.interval` function. You can read more about this function [here](https://docs.scipy.org/doc/scipy-0.14.0/reference/generated/scipy.stats.t.html).\n",
        "\n",
        "To compute the confidence interval of the hourly wage, use the 0.95 for the confidence level, number of rows - 1 for degrees of freedom, the mean of the sample for the location parameter and the standard error for the scale. The standard error can be computed using [this](https://docs.scipy.org/doc/scipy/reference/generated/scipy.stats.sem.html) function in SciPy."
      ]
    },
    {
      "cell_type": "code",
      "execution_count": 26,
      "metadata": {
        "colab": {
          "base_uri": "https://localhost:8080/"
        },
        "id": "dQd7eHV0Dv-Z",
        "outputId": "aace1a22-a5ff-4531-9836-de7921283180"
      },
      "outputs": [
        {
          "output_type": "stream",
          "name": "stdout",
          "text": [
            "The 95% confidence interval for the mean hourly wage of all hourly workers is (32.52345834488425, 33.05365708767623)\n"
          ]
        }
      ],
      "source": [
        "# Your code here:\n",
        "from scipy.stats import t, sem\n",
        "\n",
        "# filter only hourly workers\n",
        "hourly_workers = employees[employees[\"Salary or Hourly\"] == \"Hourly\"]\n",
        "\n",
        "# extract \"Hourly Rate\" column for these hourly workers\n",
        "hourly_rates = hourly_workers[\"Hourly Rate\"]\n",
        "\n",
        "# sample mean and standard error of the mean\n",
        "mean_hourly_wage = hourly_rates.mean()\n",
        "standard_error = sem(hourly_rates)\n",
        "\n",
        "# 95% confidence interval\n",
        "confidence_level = 0.95\n",
        "degrees_of_freedom = len(hourly_rates) - 1\n",
        "confidence_interval = t.interval(confidence_level, degrees_of_freedom, mean_hourly_wage, standard_error)\n",
        "\n",
        "print(f\"The 95% confidence interval for the mean hourly wage of all hourly workers is {confidence_interval}\")"
      ]
    },
    {
      "cell_type": "markdown",
      "metadata": {
        "id": "JRwxK9ZRDv-Z"
      },
      "source": [
        "Now construct the 95% confidence interval for all salaried employeed in the police in the cell below."
      ]
    },
    {
      "cell_type": "code",
      "execution_count": 28,
      "metadata": {
        "colab": {
          "base_uri": "https://localhost:8080/"
        },
        "id": "-cyvUXaaDv-Z",
        "outputId": "ceb28ff9-812b-45f4-d59d-00e97a002051"
      },
      "outputs": [
        {
          "output_type": "stream",
          "name": "stdout",
          "text": [
            "[METHOD 1] 95% confidence interval: (array([86177.17166932]), array([86795.65733694]))\n",
            "[METHOD 2] The 95% confidence interval for the annual salary of all salaried employees in the police department is (86177.05631531784, 86795.77269094894)\n"
          ]
        }
      ],
      "source": [
        "# Your code here:\n",
        "\n",
        "# method 1\n",
        "police = employees.loc[employees[\"Department\"] == \"POLICE\"][[\"Annual Salary\"]]\n",
        "# mean\n",
        "sample_mean = police.mean()\n",
        "# size\n",
        "sample_size = len(police)\n",
        "# standard deviation\n",
        "sample_std_dev = np.std(police, ddof=1)\n",
        "# standard error\n",
        "std_error = sample_std_dev / np.sqrt(sample_size)\n",
        "# 95% confidence interval using stats.t.interval()\n",
        "conf_interval = stats.t.interval(0.95, df=sample_size - 1, loc=sample_mean, scale=std_error)\n",
        "\n",
        "print(f\"[METHOD 1] 95% confidence interval: {conf_interval}\")\n",
        "\n",
        "# method 2\n",
        "import pandas as pd\n",
        "from scipy.stats import t, sem\n",
        "\n",
        "# filter only salaried workers in the police department\n",
        "salaried_police_workers = employees[(employees[\"Department\"] == \"POLICE\") & (employees[\"Salary or Hourly\"] == \"Salary\")]\n",
        "\n",
        "# extract \"Annual Salary\" column for these salaried workers\n",
        "annual_salaries = salaried_police_workers[\"Annual Salary\"]\n",
        "\n",
        "# sample mean and standard error of the mean\n",
        "mean_annual_salary = annual_salaries.mean()\n",
        "standard_error = sem(annual_salaries)\n",
        "\n",
        "# 95% confidence interval\n",
        "confidence_level = 0.95\n",
        "degrees_of_freedom = len(annual_salaries) - 1\n",
        "confidence_interval = t.interval(confidence_level, degrees_of_freedom, mean_annual_salary, standard_error)\n",
        "\n",
        "print(f\"[METHOD 2] The 95% confidence interval for the annual salary of all salaried employees in the police department is {confidence_interval}\")"
      ]
    },
    {
      "cell_type": "markdown",
      "metadata": {
        "id": "fIdQhfJeDv-a"
      },
      "source": [
        "# Bonus Challenge - Hypothesis Tests of Proportions\n",
        "\n",
        "Another type of one sample test is a hypothesis test of proportions. In this test, we examine whether the proportion of a group in our sample is significantly different than a fraction. \n",
        "\n",
        "You can read more about one sample proportion tests [here](http://sphweb.bumc.bu.edu/otlt/MPH-Modules/BS/SAS/SAS6-CategoricalData/SAS6-CategoricalData2.html).\n",
        "\n",
        "In the cell below, use the `proportions_ztest` function from `statsmodels` to perform a hypothesis test that will determine whether the number of hourly workers in the City of Chicago is significantly different from 25% at the 95% confidence level."
      ]
    },
    {
      "cell_type": "markdown",
      "source": [
        "**Null hypothesis (H₀):**\n",
        "\n",
        "The proportion of hourly workers in the City of Chicago is equal to 25% (p = 0.25)\n",
        "\n",
        "**Alternative hypothesis (H₁):**\n",
        "\n",
        "The proportion of hourly workers in the City of Chicago is not equal to 25% (p ≠ 0.25)\n",
        "\n",
        "Here, H₀ assumes that the true proportion of hourly workers is 25%, while H₁ assumes that the true proportion is different from 25%. The hypothesis test aims to determine if there is enough evidence to reject H₀ in favor of H₁.\n",
        "\n",
        "---\n",
        "\n",
        "1. **`nobs`** stands for \"number of observations.\" In this context, it refers to the total number of employees in the dataset. It is used in the proportions_ztest function to calculate the proportion of hourly workers in the entire dataset.\n",
        "\n",
        "2. **`z_stat`** is the z-score or the test statistic in the hypothesis test of proportions. It measures how many standard deviations away the observed proportion is from the hypothesized proportion (25% in this case). The larger the absolute value of the z-score, the more unlikely it is that the observed proportion is due to random chance, given that the null hypothesis is true.\n",
        "\n",
        "3. When we say \"***the proportion of hourly workers in the City of Chicago is significantly different from 25% at the 95% confidence level***\", it means that based on the data, we have enough evidence to conclude that the true proportion of hourly workers in the City of Chicago is not 25%. The 95% confidence level implies that if we were to repeat this hypothesis test 100 times, we would expect to obtain a result as extreme or more extreme than the observed result in 95 of those tests, assuming that the null hypothesis is true (i.e., the true proportion is 25%)."
      ],
      "metadata": {
        "id": "7EiphKFR6DhP"
      }
    },
    {
      "cell_type": "code",
      "execution_count": 30,
      "metadata": {
        "colab": {
          "base_uri": "https://localhost:8080/"
        },
        "id": "kFVwTskJDv-a",
        "outputId": "79e76eb8-121a-4daa-dcfb-213356f7496e"
      },
      "outputs": [
        {
          "output_type": "stream",
          "name": "stdout",
          "text": [
            "The proportion of hourly workers is significantly different from 25% (p-value: 0.0004)\n",
            "We reject the null hypothesis (H₀).\n"
          ]
        }
      ],
      "source": [
        "# Your code here:\n",
        "from statsmodels.stats.proportion import proportions_ztest\n",
        "\n",
        "# filter only hourly workers\n",
        "hourly_workers = employees[employees[\"Salary or Hourly\"] == \"Hourly\"]\n",
        "\n",
        "# number of hourly workers and the total number of employees\n",
        "num_hourly_workers = len(hourly_workers)\n",
        "total_employees = len(employees)\n",
        "\n",
        "# hypothesized proportion (25%)\n",
        "hypothesized_proportion = 0.25\n",
        "\n",
        "# hypothesis test using proportions_ztest\n",
        "count = num_hourly_workers\n",
        "nobs = total_employees\n",
        "value = hypothesized_proportion\n",
        "z_stat, p_value = proportions_ztest(count, nobs, value)\n",
        "\n",
        "# 95% confidence level\n",
        "alpha = 0.05\n",
        "\n",
        "# can null hypothesis be rejected\n",
        "if p_value < alpha:\n",
        "    print(f\"The proportion of hourly workers is significantly different from 25% (p-value: {p_value:.4f})\")\n",
        "    print(\"We reject the null hypothesis (H₀).\")\n",
        "else:\n",
        "    print(f\"The proportion of hourly workers is not significantly different from 25% (p-value: {p_value:.4f})\")\n",
        "    print(\"We do not reject the null hypothesis (H₀).\")"
      ]
    }
  ],
  "metadata": {
    "kernelspec": {
      "display_name": "Python 3",
      "language": "python",
      "name": "python3"
    },
    "language_info": {
      "codemirror_mode": {
        "name": "ipython",
        "version": 3
      },
      "file_extension": ".py",
      "mimetype": "text/x-python",
      "name": "python",
      "nbconvert_exporter": "python",
      "pygments_lexer": "ipython3",
      "version": "3.7.2"
    },
    "colab": {
      "provenance": []
    }
  },
  "nbformat": 4,
  "nbformat_minor": 0
}