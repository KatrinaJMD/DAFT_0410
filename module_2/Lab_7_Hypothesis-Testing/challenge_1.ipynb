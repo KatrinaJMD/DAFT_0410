{
  "cells": [
    {
      "cell_type": "markdown",
      "metadata": {
        "id": "pVGgLNmH4E1v"
      },
      "source": [
        "# Bonus Challenge 1 - T-test\n",
        "\n",
        "In statistics, t-test is used to test if two data samples have a significant difference between their means. There are two types of t-test:\n",
        "\n",
        "* **Student's t-test** (a.k.a. independent or uncorrelated t-test). This type of t-test is to compare the samples of **two independent populations** (e.g. test scores of students in two different classes). `scipy` provides the [`ttest_ind`](https://docs.scipy.org/doc/scipy-0.15.1/reference/generated/scipy.stats.ttest_ind.html) method to conduct student's t-test.\n",
        "\n",
        "* **Paired t-test** (a.k.a. dependent or correlated t-test). This type of t-test is to compare the samples of **the same population** (e.g. scores of different tests of students in the same class). `scipy` provides the [`ttest_re`](https://docs.scipy.org/doc/scipy-0.15.1/reference/generated/scipy.stats.ttest_rel.html) method to conduct paired t-test.\n",
        "\n",
        "Both types of t-tests return a number which is called the **p-value**. If p-value is below 0.05, we can confidently declare the null-hypothesis is rejected and the difference is significant. If p-value is between 0.05 and 0.1, we may also declare the null-hypothesis is rejected but we are not highly confident. If p-value is above 0.1 we do not reject the null-hypothesis.\n",
        "\n",
        "Read more about the t-test in [this article](http://b.link/test50) and [this Quora](http://b.link/unpaired97). Make sure you understand when to use which type of t-test. "
      ]
    },
    {
      "cell_type": "code",
      "execution_count": 1,
      "metadata": {
        "colab": {
          "base_uri": "https://localhost:8080/"
        },
        "id": "hNRLJboN4E1x",
        "outputId": "b00d79cb-4a0e-4156-b1c0-ebdb218dc398"
      },
      "outputs": [
        {
          "output_type": "stream",
          "name": "stdout",
          "text": [
            "Mounted at /content/drive\n"
          ]
        }
      ],
      "source": [
        "# Import libraries\n",
        "import numpy as np\n",
        "import scipy as sp\n",
        "import pandas as pd\n",
        "from scipy import stats\n",
        "from scipy.stats import ttest_rel\n",
        "from scipy.stats import ttest_ind\n",
        "\n",
        "from google.colab import drive\n",
        "drive.mount('/content/drive')"
      ]
    },
    {
      "cell_type": "markdown",
      "metadata": {
        "id": "DcyXNSdK4E1x"
      },
      "source": [
        "#### Import dataset\n",
        "\n",
        "In this challenge we will work on the Pokemon dataset you have already used. The goal is to test whether different groups of pokemon (e.g. Legendary vs Normal, Generation 1 vs 2, single-type vs dual-type) have different stats (e.g. HP, Attack, Defense, etc.). Use Ironhack's database to load the data (db: pokemon, table: pokemon_stats). "
      ]
    },
    {
      "cell_type": "code",
      "execution_count": 2,
      "metadata": {
        "id": "cinD-Ffn4E1y"
      },
      "outputs": [],
      "source": [
        "# Your code here:\n",
        "pokemon = pd.read_csv(\"/content/drive/MyDrive/[01] Data Analytics - IronHack/[06] Courses/Week 5/Day 21 - Monday/[LAB 7] - Hypothesis Testing/Pokemon.csv\")"
      ]
    },
    {
      "cell_type": "markdown",
      "metadata": {
        "id": "vZAcLl834E1y"
      },
      "source": [
        "#### First we want to define a function with which we can test the means of a feature set of two samples. \n",
        "\n",
        "In the next cell you'll see the annotations of the Python function that explains what this function does and its arguments and returned value. This type of annotation is called **docstring** which is a convention used among Python developers. The docstring convention allows developers to write consistent tech documentations for their codes so that others can read. It also allows some websites to automatically parse the docstrings and display user-friendly documentations.\n",
        "\n",
        "Follow the specifications of the docstring and complete the function."
      ]
    },
    {
      "cell_type": "code",
      "execution_count": 3,
      "metadata": {
        "id": "qcLQTDQy4E1y"
      },
      "outputs": [],
      "source": [
        "def t_test_features(s1, s2, features=['HP', 'Attack', 'Defense', 'Sp. Atk', 'Sp. Def', 'Speed', 'Total']):\n",
        "    \"\"\"Test means of a feature set of two samples\n",
        "    \n",
        "    Args:\n",
        "        s1 (dataframe): sample 1\n",
        "        s2 (dataframe): sample 2\n",
        "        features (list): an array of features to test\n",
        "    \n",
        "    Returns:\n",
        "        dict: a dictionary of t-test scores for each feature where the feature name is the key and the p-value is the value\n",
        "    \"\"\"\n",
        "    results = {}\n",
        "\n",
        "    # Your code here\n",
        "    for feature in features:\n",
        "        t_stat, p_value = ttest_ind(s1[feature], s2[feature])\n",
        "        results[feature] = p_value\n",
        "\n",
        "    return results"
      ]
    },
    {
      "cell_type": "markdown",
      "metadata": {
        "id": "dBYFUWjA4E1y"
      },
      "source": [
        "#### Using the `t_test_features` function, conduct t-test for Lengendary vs non-Legendary pokemons.\n",
        "\n",
        "*Hint: your output should look like below:*\n",
        "\n",
        "```\n",
        "{'HP': 1.0026911708035284e-13,\n",
        " 'Attack': 2.520372449236646e-16,\n",
        " 'Defense': 4.8269984949193316e-11,\n",
        " 'Sp. Atk': 1.5514614112239812e-21,\n",
        " 'Sp. Def': 2.2949327864052826e-15,\n",
        " 'Speed': 1.049016311882451e-18,\n",
        " 'Total': 9.357954335957446e-47}\n",
        " ```"
      ]
    },
    {
      "cell_type": "code",
      "execution_count": 4,
      "metadata": {
        "colab": {
          "base_uri": "https://localhost:8080/"
        },
        "id": "3q6uwxtb4E1z",
        "outputId": "2a550cd9-d5f1-498c-b453-f03797e4b13d"
      },
      "outputs": [
        {
          "output_type": "stream",
          "name": "stdout",
          "text": [
            "{'HP': 3.330647684846191e-15, 'Attack': 7.827253003205333e-24, 'Defense': 1.5842226094427255e-12, 'Sp. Atk': 6.314915770427266e-41, 'Sp. Def': 1.8439809580409594e-26, 'Speed': 2.3540754436898437e-21, 'Total': 3.0952457469652825e-52}\n"
          ]
        }
      ],
      "source": [
        "# Your code here\n",
        "\n",
        "# separate Legendary and non-Legendary Pokemon\n",
        "legendary = pokemon[pokemon[\"Legendary\"] == True]\n",
        "nonLegendary = pokemon[pokemon[\"Legendary\"] == False]\n",
        "\n",
        "# t-test for Legendary vs. non-Legendary Pokemon using the t_test_features function\n",
        "t_test_results = t_test_features(legendary, nonLegendary)\n",
        "\n",
        "print(t_test_results)"
      ]
    },
    {
      "cell_type": "markdown",
      "metadata": {
        "id": "2pCZdQV54E1z"
      },
      "source": [
        "#### From the test results above, what conclusion can you make? Do Legendary and non-Legendary pokemons have significantly different stats on each feature?"
      ]
    },
    {
      "cell_type": "code",
      "execution_count": 5,
      "metadata": {
        "colab": {
          "base_uri": "https://localhost:8080/"
        },
        "id": "s-xTENTE4E1z",
        "outputId": "e1e994fb-ff4b-4ac0-b2c6-7efb5224e249"
      },
      "outputs": [
        {
          "output_type": "stream",
          "name": "stdout",
          "text": [
            "HP: The difference is statistically significant. The null hypothesis is rejected (p-value = 3.330647684846191e-15).\n",
            "\n",
            "Attack: The difference is statistically significant. The null hypothesis is rejected (p-value = 7.827253003205333e-24).\n",
            "\n",
            "Defense: The difference is statistically significant. The null hypothesis is rejected (p-value = 1.5842226094427255e-12).\n",
            "\n",
            "Sp. Atk: The difference is statistically significant. The null hypothesis is rejected (p-value = 6.314915770427266e-41).\n",
            "\n",
            "Sp. Def: The difference is statistically significant. The null hypothesis is rejected (p-value = 1.8439809580409594e-26).\n",
            "\n",
            "Speed: The difference is statistically significant. The null hypothesis is rejected (p-value = 2.3540754436898437e-21).\n",
            "\n",
            "Total: The difference is statistically significant. The null hypothesis is rejected (p-value = 3.0952457469652825e-52).\n",
            "\n"
          ]
        }
      ],
      "source": [
        "# Your comment here\n",
        "alpha = 0.05\n",
        "\n",
        "for feature, p_value in t_test_results.items():\n",
        "    if p_value < alpha:\n",
        "        print(f\"{feature}: The difference is statistically significant. The null hypothesis is rejected (p-value = {p_value}).\\n\")\n",
        "    else:\n",
        "        print(f\"{feature}: The difference is not statistically significant. The null hypothesis is not rejected (p-value = {p_value}).\\n\")"
      ]
    },
    {
      "cell_type": "markdown",
      "source": [
        "We are testing whether there is a significant difference between the stats (HP, Attack, Defense, Sp. Atk, Sp. Def, Speed, and Total) of Legendary and non-Legendary Pokemon.\n",
        "\n",
        "The null hypothesis for each feature is that there is no significant difference in the means of the feature between the two groups (Legendary and non-Legendary Pokemon). In other words, we assume that the average stat for each feature is the same for both Legendary and non-Legendary Pokemon.\n",
        "\n",
        "By performing the t-test and analyzing the p-values, we aim to determine if we can reject the null hypothesis and conclude that there is a significant difference between the stats of Legendary and non-Legendary Pokemon.\n",
        "\n",
        "Based on the provided t-test results, all p-values are much smaller than 0.05, which is the common threshold for statistical significance.\n",
        "\n",
        "This means that we can confidently **reject the null hypothesis** for each feature and conclude that there is a significant difference between the stats of Legendary and non-Legendary Pokemon for all features (HP, Attack, Defense, Sp. Atk, Sp. Def, Speed, and Total).\n",
        "\n",
        "In summary, Legendary and non-Legendary Pokemon have significantly different stats for each feature tested."
      ],
      "metadata": {
        "id": "lQGl6Du9-fDH"
      }
    },
    {
      "cell_type": "markdown",
      "metadata": {
        "id": "oVC0w2T44E10"
      },
      "source": [
        "#### Next, conduct t-test for Generation 1 and Generation 2 pokemons."
      ]
    },
    {
      "cell_type": "code",
      "execution_count": 6,
      "metadata": {
        "colab": {
          "base_uri": "https://localhost:8080/"
        },
        "id": "KK4sf32U4E10",
        "outputId": "dda2edc6-a127-4643-8309-dda5ff7c14c6"
      },
      "outputs": [
        {
          "output_type": "stream",
          "name": "stdout",
          "text": [
            "{'HP': 0.13791881412813622, 'Attack': 0.24050968418101457, 'Defense': 0.5407630349194362, 'Sp. Atk': 0.14119788176331508, 'Sp. Def': 0.16781226231606386, 'Speed': 0.0028356954812578704, 'Total': 0.5599140649014442}\n"
          ]
        }
      ],
      "source": [
        "# Your code here\n",
        "gen1 = pokemon[pokemon[\"Generation\"] == 1]\n",
        "gen2 = pokemon[pokemon[\"Generation\"] == 2]\n",
        "\n",
        "# t-test using the t_test_features function\n",
        "t_test_results_gen1_gen2 = t_test_features(gen1, gen2)\n",
        "\n",
        "print(t_test_results_gen1_gen2)"
      ]
    },
    {
      "cell_type": "markdown",
      "metadata": {
        "id": "ShIfxXCi4E10"
      },
      "source": [
        "#### What conclusions can you make?"
      ]
    },
    {
      "cell_type": "code",
      "execution_count": 7,
      "metadata": {
        "colab": {
          "base_uri": "https://localhost:8080/"
        },
        "id": "YkOj7aS24E10",
        "outputId": "12decda3-73b8-47f7-fb56-821cd5f06b4a"
      },
      "outputs": [
        {
          "output_type": "stream",
          "name": "stdout",
          "text": [
            "HP: p-value = 0.1379 is greater than 0.05, so we cannot reject the null hypothesis. There is no significant difference in HP between Generation 1 and Generation 2 Pokemon.\n",
            "\n",
            "Attack: p-value = 0.2405 is greater than 0.05, so we cannot reject the null hypothesis. There is no significant difference in Attack between Generation 1 and Generation 2 Pokemon.\n",
            "\n",
            "Defense: p-value = 0.5408 is greater than 0.05, so we cannot reject the null hypothesis. There is no significant difference in Defense between Generation 1 and Generation 2 Pokemon.\n",
            "\n",
            "Sp. Atk: p-value = 0.1412 is greater than 0.05, so we cannot reject the null hypothesis. There is no significant difference in Sp. Atk between Generation 1 and Generation 2 Pokemon.\n",
            "\n",
            "Sp. Def: p-value = 0.1678 is greater than 0.05, so we cannot reject the null hypothesis. There is no significant difference in Sp. Def between Generation 1 and Generation 2 Pokemon.\n",
            "\n",
            "Speed: p-value = 0.0028 is less than 0.05, so we can reject the null hypothesis. There is a significant difference in Speed between Generation 1 and Generation 2 Pokemon.\n",
            "\n",
            "Total: p-value = 0.5599 is greater than 0.05, so we cannot reject the null hypothesis. There is no significant difference in Total between Generation 1 and Generation 2 Pokemon.\n",
            "\n"
          ]
        }
      ],
      "source": [
        "# Your comment here\n",
        "t_test_results_gen1_gen2 = {\"HP\": 0.13791881412813622, \"Attack\": 0.24050968418101457, \"Defense\": 0.5407630349194362, \"Sp. Atk\": 0.14119788176331508, \"Sp. Def\": 0.16781226231606386, \"Speed\": 0.0028356954812578704, \"Total\": 0.5599140649014442}\n",
        "\n",
        "for feature, p_value in t_test_results_gen1_gen2.items():\n",
        "    if p_value < 0.05:\n",
        "        print(f\"{feature}: p-value = {p_value:.4f} is less than 0.05, so we can reject the null hypothesis. There is a significant difference in {feature} between Generation 1 and Generation 2 Pokemon.\\n\")\n",
        "    else:\n",
        "        print(f\"{feature}: p-value = {p_value:.4f} is greater than 0.05, so we cannot reject the null hypothesis. There is no significant difference in {feature} between Generation 1 and Generation 2 Pokemon.\\n\")"
      ]
    },
    {
      "cell_type": "markdown",
      "source": [
        "In summary, only the Speed stat shows a significant difference between Generation 1 and Generation 2 Pokemon. For the other stats (HP, Attack, Defense, Sp. Atk, Sp. Def, and Total), there is no significant difference between the two generations."
      ],
      "metadata": {
        "id": "Gt4VnggCEvH8"
      }
    },
    {
      "cell_type": "markdown",
      "metadata": {
        "id": "82dwO1nt4E10"
      },
      "source": [
        "#### Compare pokemons who have single type vs those having two types."
      ]
    },
    {
      "cell_type": "code",
      "execution_count": 13,
      "metadata": {
        "colab": {
          "base_uri": "https://localhost:8080/"
        },
        "id": "piYtMb-u4E10",
        "outputId": "45ec79d4-4b36-4f11-bbf7-cc16c0e2444c"
      },
      "outputs": [
        {
          "output_type": "stream",
          "name": "stdout",
          "text": [
            "{'HP': 0.11060643144431842, 'Attack': 0.00015741395666164396, 'Defense': 3.250594205757004e-08, 'Sp. Atk': 0.0001454917404035147, 'Sp. Def': 0.00010893304795534396, 'Speed': 0.024051410794037463, 'Total': 1.1749035008828752e-07}\n"
          ]
        }
      ],
      "source": [
        "# Your code here\n",
        "single_type_pokemon = pokemon[pokemon[\"Type 2\"].isnull()]\n",
        "dual_type_pokemon = pokemon[pokemon[\"Type 2\"].notnull()]\n",
        "\n",
        "t_test_results_single_dual = t_test_features(single_type_pokemon, dual_type_pokemon)\n",
        "print(t_test_results_single_dual)"
      ]
    },
    {
      "cell_type": "markdown",
      "metadata": {
        "id": "NVeO_L_24E10"
      },
      "source": [
        "#### What conclusions can you make?"
      ]
    },
    {
      "cell_type": "code",
      "execution_count": 12,
      "metadata": {
        "id": "YA1lMFs54E11",
        "colab": {
          "base_uri": "https://localhost:8080/"
        },
        "outputId": "1ec5deae-4aa1-4c91-d476-a2423200d845"
      },
      "outputs": [
        {
          "output_type": "stream",
          "name": "stdout",
          "text": [
            "\n",
            "HP: p-value = 0.1106 is greater than 0.05, so we cannot reject the null hypothesis. There is no significant difference in HP between single-type and dual-type Pokemon.\n",
            "\n",
            "Attack: p-value = 0.0002 is less than 0.05, so we can reject the null hypothesis. There is a significant difference in Attack between single-type and dual-type Pokemon.\n",
            "\n",
            "Defense: p-value = 0.0000 is less than 0.05, so we can reject the null hypothesis. There is a significant difference in Defense between single-type and dual-type Pokemon.\n",
            "\n",
            "Sp. Atk: p-value = 0.0001 is less than 0.05, so we can reject the null hypothesis. There is a significant difference in Sp. Atk between single-type and dual-type Pokemon.\n",
            "\n",
            "Sp. Def: p-value = 0.0001 is less than 0.05, so we can reject the null hypothesis. There is a significant difference in Sp. Def between single-type and dual-type Pokemon.\n",
            "\n",
            "Speed: p-value = 0.0241 is less than 0.05, so we can reject the null hypothesis. There is a significant difference in Speed between single-type and dual-type Pokemon.\n",
            "\n",
            "Total: p-value = 0.0000 is less than 0.05, so we can reject the null hypothesis. There is a significant difference in Total between single-type and dual-type Pokemon.\n"
          ]
        }
      ],
      "source": [
        "# Your comment here\n",
        "for feature, p_value in t_test_results_single_dual.items():\n",
        "    if p_value < 0.05:\n",
        "        print(f\"\\n{feature}: p-value = {p_value:.4f} is less than 0.05, so we can reject the null hypothesis. There is a significant difference in {feature} between single-type and dual-type Pokemon.\")\n",
        "    else:\n",
        "        print(f\"\\n{feature}: p-value = {p_value:.4f} is greater than 0.05, so we cannot reject the null hypothesis. There is no significant difference in {feature} between single-type and dual-type Pokemon.\")"
      ]
    },
    {
      "cell_type": "markdown",
      "source": [
        "In conclusion, there is a significant difference in Attack, Defense, Sp. Atk, Sp. Def, Speed, and Total stats between single-type and dual-type Pokemon. However, there is no significant difference in HP between single-type and dual-type Pokemon.\n",
        "\n",
        "These results suggest that single-type and dual-type Pokemon have statistically significant differences in most of their stats, except for HP. In other words, dual-type Pokemon tend to have different Attack, Defense, Special Attack, Special Defense, Speed, and Total stats compared to single-type Pokemon. \n",
        "\n",
        "It's important to note that these results only show that there is a significant difference between the two groups, but they don't provide information about which group is better or has higher stats. To determine that, you would need to analyze the means of the stats for each group. \n",
        "\n",
        "The lack of a significant difference in HP indicates that there's no strong evidence to suggest that one group has consistently higher or lower HP than the other. Both single-type and dual-type Pokemon seem to have similar HP values on average.\n",
        "\n",
        "Overall, these findings could be valuable for Pokemon trainers and players, as they might consider choosing dual-type Pokemon for their team if they value diversity in stats, while keeping in mind that HP differences may not be a major factor in their decision.\n",
        "\n",
        "Let's try to analyze the means of the stats for each group (single-type and dual-type Pokemon), cause why not.."
      ],
      "metadata": {
        "id": "ndU_bbBl_wYn"
      }
    },
    {
      "cell_type": "code",
      "source": [
        "single_type_mean = single_type_pokemon[[\"HP\", \"Attack\", \"Defense\", \"Sp. Atk\", \"Sp. Def\", \"Speed\", \"Total\"]].mean()\n",
        "dual_type_mean = dual_type_pokemon[[\"HP\", \"Attack\", \"Defense\", \"Sp. Atk\", \"Sp. Def\", \"Speed\", \"Total\"]].mean()\n",
        "\n",
        "mean_comparison = pd.DataFrame({\"Single_Type\": single_type_mean, \"Dual_Type\": dual_type_mean})\n",
        "mean_comparison"
      ],
      "metadata": {
        "colab": {
          "base_uri": "https://localhost:8080/",
          "height": 261
        },
        "id": "FcPbwntjAc7B",
        "outputId": "747ad22c-4e6c-4926-ce3e-efa743bc6d63"
      },
      "execution_count": 14,
      "outputs": [
        {
          "output_type": "execute_result",
          "data": {
            "text/plain": [
              "         Single_Type   Dual_Type\n",
              "HP         67.766839   70.649758\n",
              "Attack     74.525907   83.173913\n",
              "Defense    67.585492   79.676329\n",
              "Sp. Atk    68.284974   77.048309\n",
              "Sp. Def    67.974093   75.565217\n",
              "Speed      65.878238   70.514493\n",
              "Total     412.015544  456.628019"
            ],
            "text/html": [
              "\n",
              "  <div id=\"df-62afda0f-5b40-4b64-b597-19f907981934\">\n",
              "    <div class=\"colab-df-container\">\n",
              "      <div>\n",
              "<style scoped>\n",
              "    .dataframe tbody tr th:only-of-type {\n",
              "        vertical-align: middle;\n",
              "    }\n",
              "\n",
              "    .dataframe tbody tr th {\n",
              "        vertical-align: top;\n",
              "    }\n",
              "\n",
              "    .dataframe thead th {\n",
              "        text-align: right;\n",
              "    }\n",
              "</style>\n",
              "<table border=\"1\" class=\"dataframe\">\n",
              "  <thead>\n",
              "    <tr style=\"text-align: right;\">\n",
              "      <th></th>\n",
              "      <th>Single_Type</th>\n",
              "      <th>Dual_Type</th>\n",
              "    </tr>\n",
              "  </thead>\n",
              "  <tbody>\n",
              "    <tr>\n",
              "      <th>HP</th>\n",
              "      <td>67.766839</td>\n",
              "      <td>70.649758</td>\n",
              "    </tr>\n",
              "    <tr>\n",
              "      <th>Attack</th>\n",
              "      <td>74.525907</td>\n",
              "      <td>83.173913</td>\n",
              "    </tr>\n",
              "    <tr>\n",
              "      <th>Defense</th>\n",
              "      <td>67.585492</td>\n",
              "      <td>79.676329</td>\n",
              "    </tr>\n",
              "    <tr>\n",
              "      <th>Sp. Atk</th>\n",
              "      <td>68.284974</td>\n",
              "      <td>77.048309</td>\n",
              "    </tr>\n",
              "    <tr>\n",
              "      <th>Sp. Def</th>\n",
              "      <td>67.974093</td>\n",
              "      <td>75.565217</td>\n",
              "    </tr>\n",
              "    <tr>\n",
              "      <th>Speed</th>\n",
              "      <td>65.878238</td>\n",
              "      <td>70.514493</td>\n",
              "    </tr>\n",
              "    <tr>\n",
              "      <th>Total</th>\n",
              "      <td>412.015544</td>\n",
              "      <td>456.628019</td>\n",
              "    </tr>\n",
              "  </tbody>\n",
              "</table>\n",
              "</div>\n",
              "      <button class=\"colab-df-convert\" onclick=\"convertToInteractive('df-62afda0f-5b40-4b64-b597-19f907981934')\"\n",
              "              title=\"Convert this dataframe to an interactive table.\"\n",
              "              style=\"display:none;\">\n",
              "        \n",
              "  <svg xmlns=\"http://www.w3.org/2000/svg\" height=\"24px\"viewBox=\"0 0 24 24\"\n",
              "       width=\"24px\">\n",
              "    <path d=\"M0 0h24v24H0V0z\" fill=\"none\"/>\n",
              "    <path d=\"M18.56 5.44l.94 2.06.94-2.06 2.06-.94-2.06-.94-.94-2.06-.94 2.06-2.06.94zm-11 1L8.5 8.5l.94-2.06 2.06-.94-2.06-.94L8.5 2.5l-.94 2.06-2.06.94zm10 10l.94 2.06.94-2.06 2.06-.94-2.06-.94-.94-2.06-.94 2.06-2.06.94z\"/><path d=\"M17.41 7.96l-1.37-1.37c-.4-.4-.92-.59-1.43-.59-.52 0-1.04.2-1.43.59L10.3 9.45l-7.72 7.72c-.78.78-.78 2.05 0 2.83L4 21.41c.39.39.9.59 1.41.59.51 0 1.02-.2 1.41-.59l7.78-7.78 2.81-2.81c.8-.78.8-2.07 0-2.86zM5.41 20L4 18.59l7.72-7.72 1.47 1.35L5.41 20z\"/>\n",
              "  </svg>\n",
              "      </button>\n",
              "      \n",
              "  <style>\n",
              "    .colab-df-container {\n",
              "      display:flex;\n",
              "      flex-wrap:wrap;\n",
              "      gap: 12px;\n",
              "    }\n",
              "\n",
              "    .colab-df-convert {\n",
              "      background-color: #E8F0FE;\n",
              "      border: none;\n",
              "      border-radius: 50%;\n",
              "      cursor: pointer;\n",
              "      display: none;\n",
              "      fill: #1967D2;\n",
              "      height: 32px;\n",
              "      padding: 0 0 0 0;\n",
              "      width: 32px;\n",
              "    }\n",
              "\n",
              "    .colab-df-convert:hover {\n",
              "      background-color: #E2EBFA;\n",
              "      box-shadow: 0px 1px 2px rgba(60, 64, 67, 0.3), 0px 1px 3px 1px rgba(60, 64, 67, 0.15);\n",
              "      fill: #174EA6;\n",
              "    }\n",
              "\n",
              "    [theme=dark] .colab-df-convert {\n",
              "      background-color: #3B4455;\n",
              "      fill: #D2E3FC;\n",
              "    }\n",
              "\n",
              "    [theme=dark] .colab-df-convert:hover {\n",
              "      background-color: #434B5C;\n",
              "      box-shadow: 0px 1px 3px 1px rgba(0, 0, 0, 0.15);\n",
              "      filter: drop-shadow(0px 1px 2px rgba(0, 0, 0, 0.3));\n",
              "      fill: #FFFFFF;\n",
              "    }\n",
              "  </style>\n",
              "\n",
              "      <script>\n",
              "        const buttonEl =\n",
              "          document.querySelector('#df-62afda0f-5b40-4b64-b597-19f907981934 button.colab-df-convert');\n",
              "        buttonEl.style.display =\n",
              "          google.colab.kernel.accessAllowed ? 'block' : 'none';\n",
              "\n",
              "        async function convertToInteractive(key) {\n",
              "          const element = document.querySelector('#df-62afda0f-5b40-4b64-b597-19f907981934');\n",
              "          const dataTable =\n",
              "            await google.colab.kernel.invokeFunction('convertToInteractive',\n",
              "                                                     [key], {});\n",
              "          if (!dataTable) return;\n",
              "\n",
              "          const docLinkHtml = 'Like what you see? Visit the ' +\n",
              "            '<a target=\"_blank\" href=https://colab.research.google.com/notebooks/data_table.ipynb>data table notebook</a>'\n",
              "            + ' to learn more about interactive tables.';\n",
              "          element.innerHTML = '';\n",
              "          dataTable['output_type'] = 'display_data';\n",
              "          await google.colab.output.renderOutput(dataTable, element);\n",
              "          const docLink = document.createElement('div');\n",
              "          docLink.innerHTML = docLinkHtml;\n",
              "          element.appendChild(docLink);\n",
              "        }\n",
              "      </script>\n",
              "    </div>\n",
              "  </div>\n",
              "  "
            ]
          },
          "metadata": {},
          "execution_count": 14
        }
      ]
    },
    {
      "cell_type": "markdown",
      "source": [
        "Based on the analysis, it can be concluded that dual-type Pokemon, on average, have higher stats in Attack, Defense, Sp. Atk, Sp. Def, Speed, and Total compared to single-type Pokemon. This suggests that dual-type Pokemon may generally be stronger or more versatile than single-type Pokemon, at least in terms of their stats.\n",
        "\n",
        "However, it's important to remember that this analysis is based on the average values, and individual Pokemon may still have varying stats within each group."
      ],
      "metadata": {
        "id": "nmGVkIT0BWZi"
      }
    },
    {
      "cell_type": "markdown",
      "metadata": {
        "id": "J-ccPVes4E11"
      },
      "source": [
        "#### Now, we want to compare whether there are significant differences of `Attack` vs `Defense`  and  `Sp. Atk` vs `Sp. Def` of all pokemons. Please write your code below.\n",
        "\n",
        "*Hint: are you comparing different populations or the same population?*"
      ]
    },
    {
      "cell_type": "code",
      "execution_count": 16,
      "metadata": {
        "id": "1uhSTybs4E11",
        "colab": {
          "base_uri": "https://localhost:8080/"
        },
        "outputId": "cf467392-e8d1-4fba-e36f-4d6ea7666f99"
      },
      "outputs": [
        {
          "output_type": "stream",
          "name": "stdout",
          "text": [
            "Attack vs Defense p-value: 1.7140303479358558e-05\n",
            "Sp. Atk vs Sp. Def p-value: 0.3933685997548122\n"
          ]
        }
      ],
      "source": [
        "# Your code here\n",
        "attack_defense_pvalue = ttest_rel(pokemon['Attack'], pokemon['Defense']).pvalue\n",
        "sp_atk_sp_def_pvalue = ttest_rel(pokemon['Sp. Atk'], pokemon['Sp. Def']).pvalue\n",
        "\n",
        "print(f\"Attack vs Defense p-value: {attack_defense_pvalue}\")\n",
        "print(f\"Sp. Atk vs Sp. Def p-value: {sp_atk_sp_def_pvalue}\")"
      ]
    },
    {
      "cell_type": "markdown",
      "metadata": {
        "id": "2S1rd1Vk4E11"
      },
      "source": [
        "#### What conclusions can you make?"
      ]
    },
    {
      "cell_type": "code",
      "execution_count": 18,
      "metadata": {
        "id": "b9S_aBZX4E11",
        "colab": {
          "base_uri": "https://localhost:8080/"
        },
        "outputId": "c452c75c-10f7-4dde-ebbb-9b549d042fff"
      },
      "outputs": [
        {
          "output_type": "stream",
          "name": "stdout",
          "text": [
            "There is a significant difference between Attack and Defense stats.\n",
            "There is no significant difference between Sp. Atk and Sp. Def stats.\n"
          ]
        }
      ],
      "source": [
        "# Your comment here\n",
        "alpha = 0.05\n",
        "\n",
        "if attack_defense_pvalue < alpha:\n",
        "    print(\"There is a significant difference between Attack and Defense stats.\")\n",
        "else:\n",
        "    print(\"There is no significant difference between Attack and Defense stats.\")\n",
        "\n",
        "if sp_atk_sp_def_pvalue < alpha:\n",
        "    print(\"There is a significant difference between Sp. Atk and Sp. Def stats.\")\n",
        "else:\n",
        "    print(\"There is no significant difference between Sp. Atk and Sp. Def stats.\")"
      ]
    },
    {
      "cell_type": "markdown",
      "source": [
        "1. Attack vs Defense: The p-value is 1.71e-05, which is less than 0.05. We can reject the null hypothesis, meaning there is a significant difference between the Attack and Defense stats of all Pokemon.\n",
        "\n",
        "> The results show that there is a significant difference between Attack and Defense stats, suggesting that some Pokemon may excel in Attack but have lower Defense or vice versa.\n",
        "\n",
        "2. Sp. Atk vs Sp. Def: The p-value is 0.3934, which is greater than 0.05. We cannot reject the null hypothesis, meaning there is no significant difference between the Sp. Atk and Sp. Def stats of all Pokemon.\n",
        "\n",
        "> On the other hand, there is no significant difference between Sp. Atk and Sp. Def stats, implying that Pokemon may generally have more balanced Special Attack and Special Defense stats.\n",
        "\n",
        "In summary, there is a significant difference between Attack and Defense stats, while there is no significant difference between Sp. Atk and Sp. Def stats for all Pokemon.\n"
      ],
      "metadata": {
        "id": "krYdCPnYCJ6o"
      }
    }
  ],
  "metadata": {
    "kernelspec": {
      "display_name": "Python 3",
      "language": "python",
      "name": "python3"
    },
    "language_info": {
      "codemirror_mode": {
        "name": "ipython",
        "version": 3
      },
      "file_extension": ".py",
      "mimetype": "text/x-python",
      "name": "python",
      "nbconvert_exporter": "python",
      "pygments_lexer": "ipython3",
      "version": "3.7.2"
    },
    "colab": {
      "provenance": [],
      "collapsed_sections": [
        "DcyXNSdK4E1x",
        "vZAcLl834E1y",
        "dBYFUWjA4E1y",
        "2pCZdQV54E1z",
        "oVC0w2T44E10",
        "ShIfxXCi4E10"
      ]
    }
  },
  "nbformat": 4,
  "nbformat_minor": 0
}